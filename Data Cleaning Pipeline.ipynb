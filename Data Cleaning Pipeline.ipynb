{
 "cells": [
  {
   "cell_type": "code",
   "execution_count": 9,
   "id": "1abab7b9",
   "metadata": {},
   "outputs": [
    {
     "name": "stdout",
     "output_type": "stream",
     "text": [
      "Collecting langdetect\n",
      "  Downloading langdetect-1.0.9.tar.gz (981 kB)\n",
      "Requirement already satisfied: six in c:\\users\\cownj\\anaconda3\\lib\\site-packages (from langdetect) (1.16.0)\n",
      "Building wheels for collected packages: langdetect\n",
      "  Building wheel for langdetect (setup.py): started\n",
      "  Building wheel for langdetect (setup.py): finished with status 'done'\n",
      "  Created wheel for langdetect: filename=langdetect-1.0.9-py3-none-any.whl size=993242 sha256=f8b69fa9a587827eeb44818f6955f15c5770b78b405768494b8d8a026fd51e65\n",
      "  Stored in directory: c:\\users\\cownj\\appdata\\local\\pip\\cache\\wheels\\d1\\c1\\d9\\7e068de779d863bc8f8fc9467d85e25cfe47fa5051fff1a1bb\n",
      "Successfully built langdetect\n",
      "Installing collected packages: langdetect\n",
      "Successfully installed langdetect-1.0.9\n"
     ]
    }
   ],
   "source": [
    "#!python -m spacy download en_core_web_md\n",
    "#nltk.download('stopwords')\n",
    "!pip3 install langdetect"
   ]
  },
  {
   "cell_type": "code",
   "execution_count": 10,
   "id": "bfb3531c",
   "metadata": {},
   "outputs": [],
   "source": [
    "import pandas as pd\n",
    "import re\n",
    "import numpy as np\n",
    "\n",
    "import nltk\n",
    "from nltk.tokenize import RegexpTokenizer\n",
    "import spacy\n",
    "\n",
    "from langdetect import detect\n",
    "\n",
    "# Init Tools\n",
    "nlp = spacy.load('en_core_web_md', disable =['ner', 'parser', 'textcat'])\n",
    "# This leaves #words and @words untouched\n",
    "tokenizer = RegexpTokenizer(r\"(@\\w+|#\\w+|\\w+)\") # r-string literal"
   ]
  },
  {
   "cell_type": "code",
   "execution_count": 11,
   "id": "4cb2e9dd",
   "metadata": {},
   "outputs": [
    {
     "name": "stdout",
     "output_type": "stream",
     "text": [
      "['i', 'me', 'my', 'myself', 'we', 'our', 'ours', 'ourselves', 'you', \"you're\", \"you've\", \"you'll\", \"you'd\", 'your', 'yours', 'yourself', 'yourselves', 'he', 'him', 'his', 'himself', 'she', \"she's\", 'her', 'hers', 'herself', 'it', \"it's\", 'its', 'itself', 'they', 'them', 'their', 'theirs', 'themselves', 'what', 'which', 'who', 'whom', 'this', 'that', \"that'll\", 'these', 'those', 'am', 'is', 'are', 'was', 'were', 'be', 'been', 'being', 'have', 'has', 'had', 'having', 'do', 'does', 'did', 'doing', 'a', 'an', 'the', 'and', 'but', 'if', 'or', 'because', 'as', 'until', 'while', 'of', 'at', 'by', 'for', 'with', 'about', 'against', 'between', 'into', 'through', 'during', 'before', 'after', 'above', 'below', 'to', 'from', 'up', 'down', 'in', 'out', 'on', 'off', 'over', 'under', 'again', 'further', 'then', 'once', 'here', 'there', 'when', 'where', 'why', 'how', 'all', 'any', 'both', 'each', 'few', 'more', 'most', 'other', 'some', 'such', 'no', 'nor', 'not', 'only', 'own', 'same', 'so', 'than', 'too', 'very', 's', 't', 'can', 'will', 'just', 'don', \"don't\", 'should', \"should've\", 'now', 'd', 'll', 'm', 'o', 're', 've', 'y', 'ain', 'aren', \"aren't\", 'couldn', \"couldn't\", 'didn', \"didn't\", 'doesn', \"doesn't\", 'hadn', \"hadn't\", 'hasn', \"hasn't\", 'haven', \"haven't\", 'isn', \"isn't\", 'ma', 'mightn', \"mightn't\", 'mustn', \"mustn't\", 'needn', \"needn't\", 'shan', \"shan't\", 'shouldn', \"shouldn't\", 'wasn', \"wasn't\", 'weren', \"weren't\", 'won', \"won't\", 'wouldn', \"wouldn't\"]\n"
     ]
    }
   ],
   "source": [
    "from nltk.corpus import stopwords\n",
    "stpWords = stopwords.words('english')\n",
    "print(stpWords)"
   ]
  },
  {
   "cell_type": "markdown",
   "id": "2a9bcb99",
   "metadata": {},
   "source": [
    "#### Helper Functions"
   ]
  },
  {
   "cell_type": "code",
   "execution_count": 12,
   "id": "2b25a10b",
   "metadata": {},
   "outputs": [],
   "source": [
    "# Extracts the username's mentioned in a tweet\n",
    "def extract_usernames(text):\n",
    "    usernames = re.findall(r'@\\s*\\w+', text)\n",
    "    return \" \".join([user.strip('@') for user in usernames])\n",
    "\n",
    "# @user subbing function to apply to whole text column\n",
    "def sub_usernames(text):\n",
    "    cleaned = re.sub(r'@\\w+', '@username', text)\n",
    "    return cleaned\n",
    "    #return re.sub(r'@', '', cleaned)\n",
    "\n",
    "# Extracts the Hashtags and returns them as a single string\n",
    "def extract_hashtags(text):\n",
    "    hashtags = re.findall(r'#\\s*\\w+', text)\n",
    "    return \" \".join([tag.strip('#') for tag in hashtags])\n",
    "\n",
    "# Replaces any Hashtag with a generic #hashtag\n",
    "def remove_hashtags(text):\n",
    "    cleaned = re.sub(r'#\\w+', '#hashtag', text)\n",
    "    return cleaned\n",
    "    #return re.sub(r'#', '', cleaned)\n",
    "\n",
    "# Remove Punctuation from text\n",
    "def remove_punctuation(text):\n",
    "    cleaned = tokenizer.tokenize(text)\n",
    "    return ' '.join(cleaned)\n",
    "\n",
    "# Remove Spacy Stopwords from text\n",
    "def remove_stopwords(text):\n",
    "    doc = nlp(text)\n",
    "    words = [token.text for token in doc if not token.is_stop]\n",
    "    return ' '.join(words)\n",
    "\n",
    "# This uses NLTK stop words, it will be much slower for now but it solves\n",
    "# an issues I am having where \"#hashtag\" --> \"# hashtag\"\n",
    "def removeStopWords(words, stop_words=stpWords):\n",
    "    words = tokenizer.tokenize(words)\n",
    "    cleaned = []\n",
    "    for word in words:\n",
    "        if word.lower() not in stop_words:\n",
    "            cleaned.append(word.lower()) # Lowercase output\n",
    "    return ' '.join(cleaned)\n",
    "\n",
    "\n",
    "# Detect Language of Tweet Text\n",
    "def detect_language(tweet):\n",
    "    # Attempt to Detect Tweet Language\n",
    "    try:\n",
    "        lang = detect(tweet)\n",
    "        return lang\n",
    "    except:\n",
    "        return \"lang_error\""
   ]
  },
  {
   "cell_type": "markdown",
   "id": "8dcae52c",
   "metadata": {},
   "source": [
    "#### Execution Order Per Tweet:\n",
    "\n",
    "1. Clean Usernames\n",
    "2. Clean Hashtags\n",
    "3. Clean Punctuation\n",
    "4. Clean Stop Words\n",
    "5. Lemmatize"
   ]
  },
  {
   "cell_type": "markdown",
   "id": "da2c61bd",
   "metadata": {},
   "source": [
    "#### Main Cleaning Functions"
   ]
  },
  {
   "cell_type": "code",
   "execution_count": 13,
   "id": "90f6ff91",
   "metadata": {},
   "outputs": [],
   "source": [
    "# Remove all stop words from the dataframe tweet text\n",
    "# Also create a new column containing the extracted usernames\n",
    "def df_clean_usernames(df):\n",
    "    df[\"mentioned_users\"] = df[\"tweet_text\"].apply(extract_usernames)\n",
    "    df[\"tweet_text\"] = df[\"tweet_text\"].apply(sub_usernames)\n",
    "    return df\n",
    "\n",
    "# Remove all hashtags from the dataframe tweet text\n",
    "# Also create a new column containing the extracted hashtags\n",
    "def df_clean_hashtags(df):\n",
    "    df[\"hashtags\"] = df[\"tweet_text\"].apply(extract_hashtags)\n",
    "    df[\"tweet_text\"] = df[\"tweet_text\"].apply(remove_hashtags)\n",
    "    return df\n",
    "\n",
    "# Remove all punctuation from the data frame tweet text\n",
    "def df_clean_punctuation(df):\n",
    "    df[\"tweet_text\"] = df[\"tweet_text\"].apply(remove_punctuation)\n",
    "    return df\n",
    "\n",
    "# Remove all stop words from the data frame tweet text.\n",
    "# Slower using removeStopWords than remove_stopwords\n",
    "# while I am trying to fix issue with hashtag tokenization\n",
    "def df_clean_stopwords(df):\n",
    "    df[\"tweet_text\"] = df[\"tweet_text\"].apply(removeStopWords)\n",
    "    return df\n",
    "\n",
    "\n",
    "def df_clean(df):\n",
    "    df = df_clean_usernames(df)\n",
    "    df = df_clean_hashtags(df)\n",
    "    df = df_clean_punctuation(df)\n",
    "    df = df_clean_stopwords(df)\n",
    "    return df\n",
    "\n",
    "# Splits a dataframe into english and non_english tweets and writes them to memory\n",
    "# Detect Language of the Tweet Text\n",
    "def detect_tweet(tweets):\n",
    "    non_english_tweets = 0\n",
    "    total_tweets = len(tweets)\n",
    "    list_non_english = []\n",
    "\n",
    "    for i in range (total_tweets):\n",
    "        if (i % 1000 == 0):\n",
    "            print(f\"Stauts: {round((i/total_tweets) * 100, 2)}%\")\n",
    "            lang = detect_language(tweets.iloc[i]['tweet_text'])\n",
    "            if lang != 'en':\n",
    "                non_english_tweets += 1\n",
    "                list_non_english.append(i)\n",
    "\n",
    "    print(f\"Total tweets: {total_tweets}\")\n",
    "    print(f\"Non-English tweets: {non_english_tweets}\")\n"
   ]
  },
  {
   "cell_type": "markdown",
   "id": "075af2ed",
   "metadata": {},
   "source": [
    "### Testing"
   ]
  },
  {
   "cell_type": "code",
   "execution_count": 6,
   "id": "14a6064e",
   "metadata": {},
   "outputs": [
    {
     "data": {
      "text/html": [
       "<div>\n",
       "<style scoped>\n",
       "    .dataframe tbody tr th:only-of-type {\n",
       "        vertical-align: middle;\n",
       "    }\n",
       "\n",
       "    .dataframe tbody tr th {\n",
       "        vertical-align: top;\n",
       "    }\n",
       "\n",
       "    .dataframe thead th {\n",
       "        text-align: right;\n",
       "    }\n",
       "</style>\n",
       "<table border=\"1\" class=\"dataframe\">\n",
       "  <thead>\n",
       "    <tr style=\"text-align: right;\">\n",
       "      <th></th>\n",
       "      <th>tweet_text</th>\n",
       "      <th>cyberbullying_type</th>\n",
       "    </tr>\n",
       "  </thead>\n",
       "  <tbody>\n",
       "    <tr>\n",
       "      <th>0</th>\n",
       "      <td>In other words #katandandre, your food was cra...</td>\n",
       "      <td>not_cyberbullying</td>\n",
       "    </tr>\n",
       "    <tr>\n",
       "      <th>1</th>\n",
       "      <td>Why is #aussietv so white? #MKR #theblock #ImA...</td>\n",
       "      <td>not_cyberbullying</td>\n",
       "    </tr>\n",
       "    <tr>\n",
       "      <th>2</th>\n",
       "      <td>@XochitlSuckkks a classy whore? Or more red ve...</td>\n",
       "      <td>not_cyberbullying</td>\n",
       "    </tr>\n",
       "    <tr>\n",
       "      <th>3</th>\n",
       "      <td>@Jason_Gio meh. :P  thanks for the heads up, b...</td>\n",
       "      <td>not_cyberbullying</td>\n",
       "    </tr>\n",
       "    <tr>\n",
       "      <th>4</th>\n",
       "      <td>@RudhoeEnglish This is an ISIS account pretend...</td>\n",
       "      <td>not_cyberbullying</td>\n",
       "    </tr>\n",
       "  </tbody>\n",
       "</table>\n",
       "</div>"
      ],
      "text/plain": [
       "                                          tweet_text cyberbullying_type\n",
       "0  In other words #katandandre, your food was cra...  not_cyberbullying\n",
       "1  Why is #aussietv so white? #MKR #theblock #ImA...  not_cyberbullying\n",
       "2  @XochitlSuckkks a classy whore? Or more red ve...  not_cyberbullying\n",
       "3  @Jason_Gio meh. :P  thanks for the heads up, b...  not_cyberbullying\n",
       "4  @RudhoeEnglish This is an ISIS account pretend...  not_cyberbullying"
      ]
     },
     "execution_count": 6,
     "metadata": {},
     "output_type": "execute_result"
    }
   ],
   "source": [
    "df = pd.read_csv(\"data/cyberbullying_tweets.csv\")\n",
    "df.head()"
   ]
  },
  {
   "cell_type": "code",
   "execution_count": 7,
   "id": "c7cdbf0a",
   "metadata": {},
   "outputs": [
    {
     "data": {
      "text/html": [
       "<div>\n",
       "<style scoped>\n",
       "    .dataframe tbody tr th:only-of-type {\n",
       "        vertical-align: middle;\n",
       "    }\n",
       "\n",
       "    .dataframe tbody tr th {\n",
       "        vertical-align: top;\n",
       "    }\n",
       "\n",
       "    .dataframe thead th {\n",
       "        text-align: right;\n",
       "    }\n",
       "</style>\n",
       "<table border=\"1\" class=\"dataframe\">\n",
       "  <thead>\n",
       "    <tr style=\"text-align: right;\">\n",
       "      <th></th>\n",
       "      <th>tweet_text</th>\n",
       "      <th>cyberbullying_type</th>\n",
       "      <th>mentioned_users</th>\n",
       "      <th>hashtags</th>\n",
       "    </tr>\n",
       "  </thead>\n",
       "  <tbody>\n",
       "    <tr>\n",
       "      <th>0</th>\n",
       "      <td>words #hashtag food crapilicious #hashtag</td>\n",
       "      <td>not_cyberbullying</td>\n",
       "      <td></td>\n",
       "      <td>katandandre mkr</td>\n",
       "    </tr>\n",
       "    <tr>\n",
       "      <th>1</th>\n",
       "      <td>#hashtag white #hashtag #hashtag #hashtag #has...</td>\n",
       "      <td>not_cyberbullying</td>\n",
       "      <td></td>\n",
       "      <td>aussietv MKR theblock ImACelebrityAU today sun...</td>\n",
       "    </tr>\n",
       "    <tr>\n",
       "      <th>2</th>\n",
       "      <td>@username classy whore red velvet cupcakes</td>\n",
       "      <td>not_cyberbullying</td>\n",
       "      <td>XochitlSuckkks</td>\n",
       "      <td></td>\n",
       "    </tr>\n",
       "    <tr>\n",
       "      <th>3</th>\n",
       "      <td>@username meh p thanks heads concerned another...</td>\n",
       "      <td>not_cyberbullying</td>\n",
       "      <td>Jason_Gio</td>\n",
       "      <td></td>\n",
       "    </tr>\n",
       "    <tr>\n",
       "      <th>4</th>\n",
       "      <td>@username isis account pretending kurdish acco...</td>\n",
       "      <td>not_cyberbullying</td>\n",
       "      <td>RudhoeEnglish</td>\n",
       "      <td></td>\n",
       "    </tr>\n",
       "  </tbody>\n",
       "</table>\n",
       "</div>"
      ],
      "text/plain": [
       "                                          tweet_text cyberbullying_type  \\\n",
       "0          words #hashtag food crapilicious #hashtag  not_cyberbullying   \n",
       "1  #hashtag white #hashtag #hashtag #hashtag #has...  not_cyberbullying   \n",
       "2         @username classy whore red velvet cupcakes  not_cyberbullying   \n",
       "3  @username meh p thanks heads concerned another...  not_cyberbullying   \n",
       "4  @username isis account pretending kurdish acco...  not_cyberbullying   \n",
       "\n",
       "  mentioned_users                                           hashtags  \n",
       "0                                                    katandandre mkr  \n",
       "1                  aussietv MKR theblock ImACelebrityAU today sun...  \n",
       "2  XochitlSuckkks                                                     \n",
       "3       Jason_Gio                                                     \n",
       "4   RudhoeEnglish                                                     "
      ]
     },
     "execution_count": 7,
     "metadata": {},
     "output_type": "execute_result"
    }
   ],
   "source": [
    "\n",
    "df = df_clean(df)\n",
    "df.head()"
   ]
  },
  {
   "cell_type": "code",
   "execution_count": 10,
   "id": "a5f09719",
   "metadata": {},
   "outputs": [
    {
     "name": "stdout",
     "output_type": "stream",
     "text": [
      "Class: Ughhhh #MKR\n"
     ]
    }
   ],
   "source": [
    "# Looking at one tweet\n",
    "prototweet = df.iloc[12][\"tweet_text\"]\n",
    "print(\"Class:\", prototweet)"
   ]
  },
  {
   "cell_type": "code",
   "execution_count": 11,
   "id": "d13dcb5b",
   "metadata": {},
   "outputs": [
    {
     "name": "stdout",
     "output_type": "stream",
     "text": [
      "MKR\n"
     ]
    }
   ],
   "source": [
    "print(extract_hashtags(prototweet))"
   ]
  },
  {
   "cell_type": "code",
   "execution_count": 23,
   "id": "ea5be4c2",
   "metadata": {},
   "outputs": [
    {
     "name": "stdout",
     "output_type": "stream",
     "text": [
      "Bruh what bruh @bruh #bruh: of to did  the #ruh - #hello # @hello. I am is wowow, #gaming, a videos,: wtf !!! ????? ]]]]] \n",
      "\n",
      "Bruh what bruh @username #bruh: of to did  the #ruh - #hello # @username. I am is wowow, #gaming, a videos,: wtf !!! ????? ]]]]] \n",
      "\n",
      "Bruh what bruh @username #hashtag: of to did  the #hashtag - #hashtag # @username. I am is wowow, #hashtag, a videos,: wtf !!! ????? ]]]]] \n",
      "\n",
      "Bruh what bruh @username #hashtag of to did the #hashtag #hashtag @username I am is wowow #hashtag a videos wtf \n",
      "\n",
      "bruh bruh @username #hashtag #hashtag #hashtag @username wowow #hashtag videos wtf \n",
      "\n"
     ]
    }
   ],
   "source": [
    "# Testing\n",
    "fake_tweet = \"Bruh what bruh @bruh #bruh: of to did  the #ruh - #hello # @hello. I am is wowow, #gaming, a videos,: wtf !!! ????? ]]]]]\"\n",
    "print(fake_tweet, \"\\n\")\n",
    "x1 = sub_usernames(fake_tweet)\n",
    "print(x1, \"\\n\")\n",
    "x2 = remove_hashtags(x1)\n",
    "print(x2, \"\\n\")\n",
    "x3 = remove_punctuation(x2)\n",
    "print(x3, \"\\n\")\n",
    "#x4 = remove_stopwords(x3)\n",
    "x4 = removeStopWords(x3, stpWords)\n",
    "print(x4, \"\\n\")"
   ]
  },
  {
   "cell_type": "code",
   "execution_count": 96,
   "id": "3cfd3457",
   "metadata": {},
   "outputs": [
    {
     "data": {
      "text/plain": [
       "'Bruh bruh @bruh #hashtag: #hashtag - #hashtag # @hello. I am gaming, #hashtag, gaming,: wtf !!! ????? ]]]]]'"
      ]
     },
     "execution_count": 96,
     "metadata": {},
     "output_type": "execute_result"
    }
   ],
   "source": [
    "remove_hashtags(fake_tweet)"
   ]
  },
  {
   "cell_type": "code",
   "execution_count": 117,
   "id": "ab6d8920",
   "metadata": {},
   "outputs": [
    {
     "data": {
      "text/plain": [
       "'Bruh what bruh @bruh #hashtag of to did the #hashtag #hashtag @hello I am is gaming #hashtag a gaming wtf'"
      ]
     },
     "execution_count": 117,
     "metadata": {},
     "output_type": "execute_result"
    }
   ],
   "source": [
    "remove_punctuation(remove_hashtags(fake_tweet))"
   ]
  },
  {
   "cell_type": "code",
   "execution_count": 76,
   "id": "da267dcc",
   "metadata": {},
   "outputs": [
    {
     "name": "stdout",
     "output_type": "stream",
     "text": [
      "Why is #aussietv so white? #MKR #theblock #ImACelebrityAU #today #sunrise #studio10 #Neighbours #WonderlandTen #etc\n"
     ]
    },
    {
     "data": {
      "text/html": [
       "<div>\n",
       "<style scoped>\n",
       "    .dataframe tbody tr th:only-of-type {\n",
       "        vertical-align: middle;\n",
       "    }\n",
       "\n",
       "    .dataframe tbody tr th {\n",
       "        vertical-align: top;\n",
       "    }\n",
       "\n",
       "    .dataframe thead th {\n",
       "        text-align: right;\n",
       "    }\n",
       "</style>\n",
       "<table border=\"1\" class=\"dataframe\">\n",
       "  <thead>\n",
       "    <tr style=\"text-align: right;\">\n",
       "      <th></th>\n",
       "      <th>tweet_text</th>\n",
       "      <th>cyberbullying_type</th>\n",
       "      <th>mentioned_users</th>\n",
       "      <th>hashtags</th>\n",
       "    </tr>\n",
       "  </thead>\n",
       "  <tbody>\n",
       "    <tr>\n",
       "      <th>0</th>\n",
       "      <td>In other words #hashtag, your food was crapili...</td>\n",
       "      <td>not_cyberbullying</td>\n",
       "      <td></td>\n",
       "      <td>katandandre mkr</td>\n",
       "    </tr>\n",
       "    <tr>\n",
       "      <th>1</th>\n",
       "      <td>Why is #hashtag so white? #hashtag #hashtag #h...</td>\n",
       "      <td>not_cyberbullying</td>\n",
       "      <td></td>\n",
       "      <td>aussietv MKR theblock ImACelebrityAU today sun...</td>\n",
       "    </tr>\n",
       "    <tr>\n",
       "      <th>2</th>\n",
       "      <td>@user a classy whore? Or more red velvet cupca...</td>\n",
       "      <td>not_cyberbullying</td>\n",
       "      <td>XochitlSuckkks</td>\n",
       "      <td></td>\n",
       "    </tr>\n",
       "    <tr>\n",
       "      <th>3</th>\n",
       "      <td>@user meh. :P  thanks for the heads up, but no...</td>\n",
       "      <td>not_cyberbullying</td>\n",
       "      <td>Jason_Gio</td>\n",
       "      <td></td>\n",
       "    </tr>\n",
       "    <tr>\n",
       "      <th>4</th>\n",
       "      <td>@user This is an ISIS account pretending to be...</td>\n",
       "      <td>not_cyberbullying</td>\n",
       "      <td>RudhoeEnglish</td>\n",
       "      <td></td>\n",
       "    </tr>\n",
       "    <tr>\n",
       "      <th>5</th>\n",
       "      <td>@user @user Yes, the test of god is that good ...</td>\n",
       "      <td>not_cyberbullying</td>\n",
       "      <td>Raja5aab Quickieleaks</td>\n",
       "      <td></td>\n",
       "    </tr>\n",
       "    <tr>\n",
       "      <th>6</th>\n",
       "      <td>Itu sekolah ya bukan tempat bully! Ga jauh kay...</td>\n",
       "      <td>not_cyberbullying</td>\n",
       "      <td></td>\n",
       "      <td></td>\n",
       "    </tr>\n",
       "    <tr>\n",
       "      <th>7</th>\n",
       "      <td>Karma. I hope it bites Kat on the butt. She is...</td>\n",
       "      <td>not_cyberbullying</td>\n",
       "      <td></td>\n",
       "      <td>mkr</td>\n",
       "    </tr>\n",
       "    <tr>\n",
       "      <th>8</th>\n",
       "      <td>@user everything but mostly my priest</td>\n",
       "      <td>not_cyberbullying</td>\n",
       "      <td>stockputout</td>\n",
       "      <td></td>\n",
       "    </tr>\n",
       "    <tr>\n",
       "      <th>9</th>\n",
       "      <td>Rebecca Black Drops Out of School Due to Bully...</td>\n",
       "      <td>not_cyberbullying</td>\n",
       "      <td></td>\n",
       "      <td></td>\n",
       "    </tr>\n",
       "  </tbody>\n",
       "</table>\n",
       "</div>"
      ],
      "text/plain": [
       "                                          tweet_text cyberbullying_type  \\\n",
       "0  In other words #hashtag, your food was crapili...  not_cyberbullying   \n",
       "1  Why is #hashtag so white? #hashtag #hashtag #h...  not_cyberbullying   \n",
       "2  @user a classy whore? Or more red velvet cupca...  not_cyberbullying   \n",
       "3  @user meh. :P  thanks for the heads up, but no...  not_cyberbullying   \n",
       "4  @user This is an ISIS account pretending to be...  not_cyberbullying   \n",
       "5  @user @user Yes, the test of god is that good ...  not_cyberbullying   \n",
       "6  Itu sekolah ya bukan tempat bully! Ga jauh kay...  not_cyberbullying   \n",
       "7  Karma. I hope it bites Kat on the butt. She is...  not_cyberbullying   \n",
       "8              @user everything but mostly my priest  not_cyberbullying   \n",
       "9  Rebecca Black Drops Out of School Due to Bully...  not_cyberbullying   \n",
       "\n",
       "         mentioned_users                                           hashtags  \n",
       "0                                                           katandandre mkr  \n",
       "1                         aussietv MKR theblock ImACelebrityAU today sun...  \n",
       "2         XochitlSuckkks                                                     \n",
       "3              Jason_Gio                                                     \n",
       "4          RudhoeEnglish                                                     \n",
       "5  Raja5aab Quickieleaks                                                     \n",
       "6                                                                            \n",
       "7                                                                       mkr  \n",
       "8            stockputout                                                     \n",
       "9                                                                            "
      ]
     },
     "execution_count": 76,
     "metadata": {},
     "output_type": "execute_result"
    }
   ],
   "source": [
    "df = pd.read_csv(\"data/cyberbullying_tweets.csv\")\n",
    "print(df[\"tweet_text\"].iloc[1])\n",
    "df = df_clean_usernames(df)\n",
    "df = df_clean_hashtags(df)\n",
    "df.head(10)"
   ]
  },
  {
   "cell_type": "code",
   "execution_count": null,
   "id": "1c3e8e75",
   "metadata": {},
   "outputs": [],
   "source": []
  }
 ],
 "metadata": {
  "kernelspec": {
   "display_name": "Python 3 (ipykernel)",
   "language": "python",
   "name": "python3"
  },
  "language_info": {
   "codemirror_mode": {
    "name": "ipython",
    "version": 3
   },
   "file_extension": ".py",
   "mimetype": "text/x-python",
   "name": "python",
   "nbconvert_exporter": "python",
   "pygments_lexer": "ipython3",
   "version": "3.9.12"
  }
 },
 "nbformat": 4,
 "nbformat_minor": 5
}
