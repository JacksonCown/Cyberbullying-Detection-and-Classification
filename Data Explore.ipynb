{
 "cells": [
  {
   "cell_type": "markdown",
   "id": "dcadb5c7",
   "metadata": {},
   "source": [
    "## Dedicated Jupyter Notebook for Exploring Cyberbullying Dataset"
   ]
  },
  {
   "cell_type": "code",
   "execution_count": 1,
   "id": "4aade6e0",
   "metadata": {},
   "outputs": [],
   "source": [
    "import pandas as pd\n",
    "from collections import Counter\n",
    "import re\n",
    "import nltk\n",
    "\n",
    "from nltk.tokenize import word_tokenize\n",
    "from nltk.corpus import stopwords\n",
    "from nltk.tokenize import RegexpTokenizer"
   ]
  },
  {
   "cell_type": "code",
   "execution_count": 2,
   "id": "c95ab0c2",
   "metadata": {},
   "outputs": [],
   "source": [
    "# Installing NLTK Corpora\n",
    "#nltk.download('punkt')\n",
    "#nltk.download('stopwords')"
   ]
  },
  {
   "cell_type": "markdown",
   "id": "e8e29c2e",
   "metadata": {},
   "source": [
    "### Cyberbullying Dataset"
   ]
  },
  {
   "cell_type": "code",
   "execution_count": 3,
   "id": "bc906f1f",
   "metadata": {},
   "outputs": [
    {
     "data": {
      "text/html": [
       "<div>\n",
       "<style scoped>\n",
       "    .dataframe tbody tr th:only-of-type {\n",
       "        vertical-align: middle;\n",
       "    }\n",
       "\n",
       "    .dataframe tbody tr th {\n",
       "        vertical-align: top;\n",
       "    }\n",
       "\n",
       "    .dataframe thead th {\n",
       "        text-align: right;\n",
       "    }\n",
       "</style>\n",
       "<table border=\"1\" class=\"dataframe\">\n",
       "  <thead>\n",
       "    <tr style=\"text-align: right;\">\n",
       "      <th></th>\n",
       "      <th>tweet_text</th>\n",
       "      <th>cyberbullying_type</th>\n",
       "    </tr>\n",
       "  </thead>\n",
       "  <tbody>\n",
       "    <tr>\n",
       "      <th>0</th>\n",
       "      <td>In other words #katandandre, your food was cra...</td>\n",
       "      <td>not_cyberbullying</td>\n",
       "    </tr>\n",
       "    <tr>\n",
       "      <th>1</th>\n",
       "      <td>Why is #aussietv so white? #MKR #theblock #ImA...</td>\n",
       "      <td>not_cyberbullying</td>\n",
       "    </tr>\n",
       "    <tr>\n",
       "      <th>2</th>\n",
       "      <td>@XochitlSuckkks a classy whore? Or more red ve...</td>\n",
       "      <td>not_cyberbullying</td>\n",
       "    </tr>\n",
       "    <tr>\n",
       "      <th>3</th>\n",
       "      <td>@Jason_Gio meh. :P  thanks for the heads up, b...</td>\n",
       "      <td>not_cyberbullying</td>\n",
       "    </tr>\n",
       "    <tr>\n",
       "      <th>4</th>\n",
       "      <td>@RudhoeEnglish This is an ISIS account pretend...</td>\n",
       "      <td>not_cyberbullying</td>\n",
       "    </tr>\n",
       "    <tr>\n",
       "      <th>5</th>\n",
       "      <td>@Raja5aab @Quickieleaks Yes, the test of god i...</td>\n",
       "      <td>not_cyberbullying</td>\n",
       "    </tr>\n",
       "    <tr>\n",
       "      <th>6</th>\n",
       "      <td>Itu sekolah ya bukan tempat bully! Ga jauh kay...</td>\n",
       "      <td>not_cyberbullying</td>\n",
       "    </tr>\n",
       "    <tr>\n",
       "      <th>7</th>\n",
       "      <td>Karma. I hope it bites Kat on the butt. She is...</td>\n",
       "      <td>not_cyberbullying</td>\n",
       "    </tr>\n",
       "    <tr>\n",
       "      <th>8</th>\n",
       "      <td>@stockputout everything but mostly my priest</td>\n",
       "      <td>not_cyberbullying</td>\n",
       "    </tr>\n",
       "    <tr>\n",
       "      <th>9</th>\n",
       "      <td>Rebecca Black Drops Out of School Due to Bully...</td>\n",
       "      <td>not_cyberbullying</td>\n",
       "    </tr>\n",
       "  </tbody>\n",
       "</table>\n",
       "</div>"
      ],
      "text/plain": [
       "                                          tweet_text cyberbullying_type\n",
       "0  In other words #katandandre, your food was cra...  not_cyberbullying\n",
       "1  Why is #aussietv so white? #MKR #theblock #ImA...  not_cyberbullying\n",
       "2  @XochitlSuckkks a classy whore? Or more red ve...  not_cyberbullying\n",
       "3  @Jason_Gio meh. :P  thanks for the heads up, b...  not_cyberbullying\n",
       "4  @RudhoeEnglish This is an ISIS account pretend...  not_cyberbullying\n",
       "5  @Raja5aab @Quickieleaks Yes, the test of god i...  not_cyberbullying\n",
       "6  Itu sekolah ya bukan tempat bully! Ga jauh kay...  not_cyberbullying\n",
       "7  Karma. I hope it bites Kat on the butt. She is...  not_cyberbullying\n",
       "8       @stockputout everything but mostly my priest  not_cyberbullying\n",
       "9  Rebecca Black Drops Out of School Due to Bully...  not_cyberbullying"
      ]
     },
     "execution_count": 3,
     "metadata": {},
     "output_type": "execute_result"
    }
   ],
   "source": [
    "# Load Dataset\n",
    "tweets = pd.read_csv(\"data/cyberbullying_tweets.csv\")\n",
    "tweets.head(10)"
   ]
  },
  {
   "cell_type": "markdown",
   "id": "4eb97781",
   "metadata": {},
   "source": [
    "### Basic Dataset Statistics"
   ]
  },
  {
   "cell_type": "code",
   "execution_count": 4,
   "id": "3ebe3f7c",
   "metadata": {},
   "outputs": [],
   "source": [
    "# Useful Kaggle Kernel for Pre-Processing Tweets:\n",
    "# https://www.kaggle.com/code/nourberkdar/text-preprocessing-for-tweets"
   ]
  },
  {
   "cell_type": "code",
   "execution_count": 5,
   "id": "6d0096b3",
   "metadata": {},
   "outputs": [
    {
     "data": {
      "text/plain": [
       "count    47692.000000\n",
       "mean        23.734505\n",
       "std         15.263513\n",
       "min          1.000000\n",
       "25%         13.000000\n",
       "50%         21.000000\n",
       "75%         32.000000\n",
       "max        737.000000\n",
       "Name: word_count, dtype: float64"
      ]
     },
     "execution_count": 5,
     "metadata": {},
     "output_type": "execute_result"
    }
   ],
   "source": [
    "# Examining word count statistics\n",
    "tweets['word_count']=tweets['tweet_text'].apply(lambda x:len(x.split(\" \")))\n",
    "tweets['word_count'].describe()"
   ]
  },
  {
   "cell_type": "code",
   "execution_count": 6,
   "id": "653f27b0",
   "metadata": {},
   "outputs": [
    {
     "data": {
      "text/plain": [
       "count    47692.000000\n",
       "mean       136.253229\n",
       "std         85.226899\n",
       "min          1.000000\n",
       "25%         78.000000\n",
       "50%        124.000000\n",
       "75%        180.000000\n",
       "max       5018.000000\n",
       "Name: tweet_length, dtype: float64"
      ]
     },
     "execution_count": 6,
     "metadata": {},
     "output_type": "execute_result"
    }
   ],
   "source": [
    "# Tweet Length Statistics\n",
    "tweets['tweet_length']=tweets['tweet_text'].apply(len)\n",
    "tweets['tweet_length'].describe()"
   ]
  },
  {
   "cell_type": "code",
   "execution_count": 7,
   "id": "796bfaf1",
   "metadata": {},
   "outputs": [
    {
     "data": {
      "text/html": [
       "<div>\n",
       "<style scoped>\n",
       "    .dataframe tbody tr th:only-of-type {\n",
       "        vertical-align: middle;\n",
       "    }\n",
       "\n",
       "    .dataframe tbody tr th {\n",
       "        vertical-align: top;\n",
       "    }\n",
       "\n",
       "    .dataframe thead th {\n",
       "        text-align: right;\n",
       "    }\n",
       "</style>\n",
       "<table border=\"1\" class=\"dataframe\">\n",
       "  <thead>\n",
       "    <tr style=\"text-align: right;\">\n",
       "      <th></th>\n",
       "      <th>tweet_text</th>\n",
       "      <th>cyberbullying_type</th>\n",
       "      <th>word_count</th>\n",
       "      <th>tweet_length</th>\n",
       "    </tr>\n",
       "  </thead>\n",
       "  <tbody>\n",
       "    <tr>\n",
       "      <th>0</th>\n",
       "      <td>In other words #katandandre, your food was cra...</td>\n",
       "      <td>not_cyberbullying</td>\n",
       "      <td>9</td>\n",
       "      <td>61</td>\n",
       "    </tr>\n",
       "    <tr>\n",
       "      <th>1</th>\n",
       "      <td>Why is #aussietv so white? #MKR #theblock #ImA...</td>\n",
       "      <td>not_cyberbullying</td>\n",
       "      <td>14</td>\n",
       "      <td>115</td>\n",
       "    </tr>\n",
       "    <tr>\n",
       "      <th>2</th>\n",
       "      <td>@XochitlSuckkks a classy whore? Or more red ve...</td>\n",
       "      <td>not_cyberbullying</td>\n",
       "      <td>9</td>\n",
       "      <td>60</td>\n",
       "    </tr>\n",
       "    <tr>\n",
       "      <th>3</th>\n",
       "      <td>@Jason_Gio meh. :P  thanks for the heads up, b...</td>\n",
       "      <td>not_cyberbullying</td>\n",
       "      <td>19</td>\n",
       "      <td>103</td>\n",
       "    </tr>\n",
       "    <tr>\n",
       "      <th>4</th>\n",
       "      <td>@RudhoeEnglish This is an ISIS account pretend...</td>\n",
       "      <td>not_cyberbullying</td>\n",
       "      <td>19</td>\n",
       "      <td>103</td>\n",
       "    </tr>\n",
       "    <tr>\n",
       "      <th>5</th>\n",
       "      <td>@Raja5aab @Quickieleaks Yes, the test of god i...</td>\n",
       "      <td>not_cyberbullying</td>\n",
       "      <td>23</td>\n",
       "      <td>131</td>\n",
       "    </tr>\n",
       "    <tr>\n",
       "      <th>6</th>\n",
       "      <td>Itu sekolah ya bukan tempat bully! Ga jauh kay...</td>\n",
       "      <td>not_cyberbullying</td>\n",
       "      <td>10</td>\n",
       "      <td>54</td>\n",
       "    </tr>\n",
       "    <tr>\n",
       "      <th>7</th>\n",
       "      <td>Karma. I hope it bites Kat on the butt. She is...</td>\n",
       "      <td>not_cyberbullying</td>\n",
       "      <td>14</td>\n",
       "      <td>63</td>\n",
       "    </tr>\n",
       "    <tr>\n",
       "      <th>8</th>\n",
       "      <td>@stockputout everything but mostly my priest</td>\n",
       "      <td>not_cyberbullying</td>\n",
       "      <td>6</td>\n",
       "      <td>44</td>\n",
       "    </tr>\n",
       "    <tr>\n",
       "      <th>9</th>\n",
       "      <td>Rebecca Black Drops Out of School Due to Bully...</td>\n",
       "      <td>not_cyberbullying</td>\n",
       "      <td>9</td>\n",
       "      <td>50</td>\n",
       "    </tr>\n",
       "  </tbody>\n",
       "</table>\n",
       "</div>"
      ],
      "text/plain": [
       "                                          tweet_text cyberbullying_type  \\\n",
       "0  In other words #katandandre, your food was cra...  not_cyberbullying   \n",
       "1  Why is #aussietv so white? #MKR #theblock #ImA...  not_cyberbullying   \n",
       "2  @XochitlSuckkks a classy whore? Or more red ve...  not_cyberbullying   \n",
       "3  @Jason_Gio meh. :P  thanks for the heads up, b...  not_cyberbullying   \n",
       "4  @RudhoeEnglish This is an ISIS account pretend...  not_cyberbullying   \n",
       "5  @Raja5aab @Quickieleaks Yes, the test of god i...  not_cyberbullying   \n",
       "6  Itu sekolah ya bukan tempat bully! Ga jauh kay...  not_cyberbullying   \n",
       "7  Karma. I hope it bites Kat on the butt. She is...  not_cyberbullying   \n",
       "8       @stockputout everything but mostly my priest  not_cyberbullying   \n",
       "9  Rebecca Black Drops Out of School Due to Bully...  not_cyberbullying   \n",
       "\n",
       "   word_count  tweet_length  \n",
       "0           9            61  \n",
       "1          14           115  \n",
       "2           9            60  \n",
       "3          19           103  \n",
       "4          19           103  \n",
       "5          23           131  \n",
       "6          10            54  \n",
       "7          14            63  \n",
       "8           6            44  \n",
       "9           9            50  "
      ]
     },
     "execution_count": 7,
     "metadata": {},
     "output_type": "execute_result"
    }
   ],
   "source": [
    "tweets.head(10)"
   ]
  },
  {
   "cell_type": "markdown",
   "id": "7acaced1",
   "metadata": {},
   "source": [
    "### Dataset Vocabulary"
   ]
  },
  {
   "cell_type": "code",
   "execution_count": 8,
   "id": "df588abd",
   "metadata": {},
   "outputs": [
    {
     "data": {
      "text/plain": [
       "['in',\n",
       " 'other',\n",
       " 'words',\n",
       " '#katandandre,',\n",
       " 'your',\n",
       " 'food',\n",
       " 'was',\n",
       " 'crapilicious!',\n",
       " '#mkr',\n",
       " 'why']"
      ]
     },
     "execution_count": 8,
     "metadata": {},
     "output_type": "execute_result"
    }
   ],
   "source": [
    "# Most common @username\n",
    "# Most Common Words\n",
    "vocab = []\n",
    "for tweet in tweets[\"tweet_text\"]:\n",
    "    for word in tweet.split(\" \"):\n",
    "        vocab.append(word.lower())\n",
    "\n",
    "# List of all words (Not Cleaned)\n",
    "vocab[0:10]"
   ]
  },
  {
   "cell_type": "code",
   "execution_count": 9,
   "id": "a03a942b",
   "metadata": {},
   "outputs": [
    {
     "data": {
      "text/plain": [
       "[('“abominable', 1),\n",
       " ('conclave', 1),\n",
       " ('demons”', 1),\n",
       " ('exception)', 1),\n",
       " ('“issued', 1),\n",
       " ('decree', 1),\n",
       " ('community.”', 1),\n",
       " ('reeeeeal', 1),\n",
       " ('d:&lt;', 1),\n",
       " ('@chillshrammy:', 1)]"
      ]
     },
     "execution_count": 9,
     "metadata": {},
     "output_type": "execute_result"
    }
   ],
   "source": [
    "vocab_counts = Counter(vocab)\n",
    "# Least Common Words\n",
    "vocab_counts.most_common()[-10::]\n",
    "# Cleaning Needed"
   ]
  },
  {
   "cell_type": "markdown",
   "id": "1651a714",
   "metadata": {},
   "source": [
    "#### Vocab Via Word Tokenization"
   ]
  },
  {
   "cell_type": "code",
   "execution_count": 10,
   "id": "771c47dc",
   "metadata": {},
   "outputs": [
    {
     "data": {
      "text/plain": [
       "['in',\n",
       " 'other',\n",
       " 'words',\n",
       " '#',\n",
       " 'katandandre',\n",
       " ',',\n",
       " 'your',\n",
       " 'food',\n",
       " 'was',\n",
       " 'crapilicious']"
      ]
     },
     "execution_count": 10,
     "metadata": {},
     "output_type": "execute_result"
    }
   ],
   "source": [
    "vocab_tokens = []\n",
    "for tweet in tweets[\"tweet_text\"]:\n",
    "    for word in word_tokenize(tweet, language=\"english\"):\n",
    "        vocab_tokens.append(word.lower())\n",
    "\n",
    "# List of all words (Not Cleaned)\n",
    "vocab_tokens[0:10]"
   ]
  },
  {
   "cell_type": "code",
   "execution_count": 11,
   "id": "2a030343",
   "metadata": {},
   "outputs": [
    {
     "data": {
      "text/plain": [
       "[('keithbishop64', 1),\n",
       " ('yourfavwhiteguy', 1),\n",
       " ('upabout', 1),\n",
       " ('nagging', 1),\n",
       " ('depended', 1),\n",
       " ('abominable', 1),\n",
       " ('conclave', 1),\n",
       " ('decree', 1),\n",
       " ('reeeeeal', 1),\n",
       " ('chillshrammy', 1)]"
      ]
     },
     "execution_count": 11,
     "metadata": {},
     "output_type": "execute_result"
    }
   ],
   "source": [
    "vocab_token_counts = Counter(vocab_tokens)\n",
    "# Least Common Words\n",
    "vocab_token_counts.most_common()[-10::]\n",
    "# Cleaning Needed"
   ]
  },
  {
   "cell_type": "markdown",
   "id": "19bd013c",
   "metadata": {},
   "source": [
    "### Cleaning"
   ]
  },
  {
   "cell_type": "code",
   "execution_count": 58,
   "id": "24fe75cd",
   "metadata": {},
   "outputs": [],
   "source": [
    "# @user subbing function to apply to whole text column\n",
    "def sub_usernames(text):\n",
    "    return re.sub(r'@\\w+', '@user', text)\n",
    "\n",
    "#  Currently subsititutes all @usernames with \"username\"\n",
    "def replace_usernames(text):\n",
    "    return re.sub(r'@\\w+', 'username', text)\n",
    "\n",
    "def remove_hashtag(text):\n",
    "    return re.sub(r'#', '', text)\n",
    "\n",
    "def remove_punctuation(text):\n",
    "    tokenizer = RegexpTokenizer(r\"\\w+\")\n",
    "    words = tokenizer.tokenize(text)\n",
    "    return(\" \".join(words))\n",
    "\n",
    "stop_words = stopwords.words(\"english\")\n",
    "def remove_stop_words(tweet, stopwords=stop_words):\n",
    "    cleaned = []\n",
    "    for word in word_tokenize(tweet):\n",
    "        if word.lower() not in stopwords:\n",
    "            cleaned.append(word.lower()) # Lowercase output\n",
    "    return \" \".join(cleaned)\n",
    "\n",
    "def isolate_mentions(tweet):\n",
    "    return \" \".join(re.findall(r'@\\w+', tweet))"
   ]
  },
  {
   "cell_type": "code",
   "execution_count": 59,
   "id": "a6fe857b",
   "metadata": {},
   "outputs": [
    {
     "data": {
      "text/html": [
       "<div>\n",
       "<style scoped>\n",
       "    .dataframe tbody tr th:only-of-type {\n",
       "        vertical-align: middle;\n",
       "    }\n",
       "\n",
       "    .dataframe tbody tr th {\n",
       "        vertical-align: top;\n",
       "    }\n",
       "\n",
       "    .dataframe thead th {\n",
       "        text-align: right;\n",
       "    }\n",
       "</style>\n",
       "<table border=\"1\" class=\"dataframe\">\n",
       "  <thead>\n",
       "    <tr style=\"text-align: right;\">\n",
       "      <th></th>\n",
       "      <th>tweet_text</th>\n",
       "      <th>cyberbullying_type</th>\n",
       "      <th>word_count</th>\n",
       "      <th>tweet_length</th>\n",
       "      <th>clean_text</th>\n",
       "      <th>mentions</th>\n",
       "    </tr>\n",
       "  </thead>\n",
       "  <tbody>\n",
       "    <tr>\n",
       "      <th>0</th>\n",
       "      <td>In other words #katandandre, your food was cra...</td>\n",
       "      <td>not_cyberbullying</td>\n",
       "      <td>9</td>\n",
       "      <td>61</td>\n",
       "      <td>words katandandre food crapilicious mkr</td>\n",
       "      <td></td>\n",
       "    </tr>\n",
       "    <tr>\n",
       "      <th>1</th>\n",
       "      <td>Why is #aussietv so white? #MKR #theblock #ImA...</td>\n",
       "      <td>not_cyberbullying</td>\n",
       "      <td>14</td>\n",
       "      <td>115</td>\n",
       "      <td>aussietv white mkr theblock imacelebrityau tod...</td>\n",
       "      <td></td>\n",
       "    </tr>\n",
       "    <tr>\n",
       "      <th>2</th>\n",
       "      <td>@XochitlSuckkks a classy whore? Or more red ve...</td>\n",
       "      <td>not_cyberbullying</td>\n",
       "      <td>9</td>\n",
       "      <td>60</td>\n",
       "      <td>username classy whore red velvet cupcakes</td>\n",
       "      <td>@XochitlSuckkks</td>\n",
       "    </tr>\n",
       "    <tr>\n",
       "      <th>3</th>\n",
       "      <td>@Jason_Gio meh. :P  thanks for the heads up, b...</td>\n",
       "      <td>not_cyberbullying</td>\n",
       "      <td>19</td>\n",
       "      <td>103</td>\n",
       "      <td>username meh p thanks heads concerned another ...</td>\n",
       "      <td>@Jason_Gio</td>\n",
       "    </tr>\n",
       "    <tr>\n",
       "      <th>4</th>\n",
       "      <td>@RudhoeEnglish This is an ISIS account pretend...</td>\n",
       "      <td>not_cyberbullying</td>\n",
       "      <td>19</td>\n",
       "      <td>103</td>\n",
       "      <td>username isis account pretending kurdish accou...</td>\n",
       "      <td>@RudhoeEnglish</td>\n",
       "    </tr>\n",
       "    <tr>\n",
       "      <th>5</th>\n",
       "      <td>@Raja5aab @Quickieleaks Yes, the test of god i...</td>\n",
       "      <td>not_cyberbullying</td>\n",
       "      <td>23</td>\n",
       "      <td>131</td>\n",
       "      <td>username username yes test god good bad indiff...</td>\n",
       "      <td>@Raja5aab @Quickieleaks</td>\n",
       "    </tr>\n",
       "    <tr>\n",
       "      <th>6</th>\n",
       "      <td>Itu sekolah ya bukan tempat bully! Ga jauh kay...</td>\n",
       "      <td>not_cyberbullying</td>\n",
       "      <td>10</td>\n",
       "      <td>54</td>\n",
       "      <td>itu sekolah ya bukan tempat bully ga jauh kaya...</td>\n",
       "      <td></td>\n",
       "    </tr>\n",
       "    <tr>\n",
       "      <th>7</th>\n",
       "      <td>Karma. I hope it bites Kat on the butt. She is...</td>\n",
       "      <td>not_cyberbullying</td>\n",
       "      <td>14</td>\n",
       "      <td>63</td>\n",
       "      <td>karma hope bites kat butt nasty mkr</td>\n",
       "      <td></td>\n",
       "    </tr>\n",
       "    <tr>\n",
       "      <th>8</th>\n",
       "      <td>@stockputout everything but mostly my priest</td>\n",
       "      <td>not_cyberbullying</td>\n",
       "      <td>6</td>\n",
       "      <td>44</td>\n",
       "      <td>username everything mostly priest</td>\n",
       "      <td>@stockputout</td>\n",
       "    </tr>\n",
       "    <tr>\n",
       "      <th>9</th>\n",
       "      <td>Rebecca Black Drops Out of School Due to Bully...</td>\n",
       "      <td>not_cyberbullying</td>\n",
       "      <td>9</td>\n",
       "      <td>50</td>\n",
       "      <td>rebecca black drops school due bullying</td>\n",
       "      <td></td>\n",
       "    </tr>\n",
       "  </tbody>\n",
       "</table>\n",
       "</div>"
      ],
      "text/plain": [
       "                                          tweet_text cyberbullying_type  \\\n",
       "0  In other words #katandandre, your food was cra...  not_cyberbullying   \n",
       "1  Why is #aussietv so white? #MKR #theblock #ImA...  not_cyberbullying   \n",
       "2  @XochitlSuckkks a classy whore? Or more red ve...  not_cyberbullying   \n",
       "3  @Jason_Gio meh. :P  thanks for the heads up, b...  not_cyberbullying   \n",
       "4  @RudhoeEnglish This is an ISIS account pretend...  not_cyberbullying   \n",
       "5  @Raja5aab @Quickieleaks Yes, the test of god i...  not_cyberbullying   \n",
       "6  Itu sekolah ya bukan tempat bully! Ga jauh kay...  not_cyberbullying   \n",
       "7  Karma. I hope it bites Kat on the butt. She is...  not_cyberbullying   \n",
       "8       @stockputout everything but mostly my priest  not_cyberbullying   \n",
       "9  Rebecca Black Drops Out of School Due to Bully...  not_cyberbullying   \n",
       "\n",
       "   word_count  tweet_length  \\\n",
       "0           9            61   \n",
       "1          14           115   \n",
       "2           9            60   \n",
       "3          19           103   \n",
       "4          19           103   \n",
       "5          23           131   \n",
       "6          10            54   \n",
       "7          14            63   \n",
       "8           6            44   \n",
       "9           9            50   \n",
       "\n",
       "                                          clean_text                 mentions  \n",
       "0            words katandandre food crapilicious mkr                           \n",
       "1  aussietv white mkr theblock imacelebrityau tod...                           \n",
       "2          username classy whore red velvet cupcakes          @XochitlSuckkks  \n",
       "3  username meh p thanks heads concerned another ...               @Jason_Gio  \n",
       "4  username isis account pretending kurdish accou...           @RudhoeEnglish  \n",
       "5  username username yes test god good bad indiff...  @Raja5aab @Quickieleaks  \n",
       "6  itu sekolah ya bukan tempat bully ga jauh kaya...                           \n",
       "7                karma hope bites kat butt nasty mkr                           \n",
       "8                  username everything mostly priest             @stockputout  \n",
       "9            rebecca black drops school due bullying                           "
      ]
     },
     "execution_count": 59,
     "metadata": {},
     "output_type": "execute_result"
    }
   ],
   "source": [
    "# Cleaning Text Column\n",
    "tweets[\"clean_text\"] = tweets[\"tweet_text\"].apply(replace_usernames)\n",
    "tweets[\"clean_text\"] = tweets[\"clean_text\"].apply(remove_hashtag)\n",
    "tweets[\"clean_text\"] = tweets[\"clean_text\"].apply(remove_punctuation)\n",
    "tweets[\"clean_text\"] = tweets[\"clean_text\"].apply(remove_stop_words)\n",
    "tweets[\"mentions\"] = tweets[\"tweet_text\"].apply(isolate_mentions)\n",
    "# Python Pipe Function?????????\n",
    "tweets.head(10)"
   ]
  },
  {
   "cell_type": "markdown",
   "id": "efb37125",
   "metadata": {},
   "source": [
    "#### Cleaned Vocabulary"
   ]
  },
  {
   "cell_type": "code",
   "execution_count": 15,
   "id": "3770e037",
   "metadata": {},
   "outputs": [
    {
     "data": {
      "text/plain": [
       "['words',\n",
       " 'katandandre',\n",
       " 'food',\n",
       " 'crapilicious',\n",
       " 'mkr',\n",
       " 'aussietv',\n",
       " 'white',\n",
       " 'mkr',\n",
       " 'theblock',\n",
       " 'imacelebrityau']"
      ]
     },
     "execution_count": 15,
     "metadata": {},
     "output_type": "execute_result"
    }
   ],
   "source": [
    "# Tokenizing vocabulary\n",
    "vocab_clean_tokens = []\n",
    "for tweet in tweets[\"clean_text\"]:\n",
    "    for word in word_tokenize(tweet, language=\"english\"):\n",
    "        vocab_clean_tokens.append(word.lower())\n",
    "\n",
    "# List of all words\n",
    "vocab_clean_tokens[0:10]"
   ]
  },
  {
   "cell_type": "code",
   "execution_count": 16,
   "id": "62708dfb",
   "metadata": {},
   "outputs": [
    {
     "data": {
      "text/plain": [
       "[('heartbroken', 1),\n",
       " ('wwi', 1),\n",
       " ('acquiesce', 1),\n",
       " ('upabout', 1),\n",
       " ('nagging', 1),\n",
       " ('depended', 1),\n",
       " ('abominable', 1),\n",
       " ('conclave', 1),\n",
       " ('decree', 1),\n",
       " ('reeeeeal', 1)]"
      ]
     },
     "execution_count": 16,
     "metadata": {},
     "output_type": "execute_result"
    }
   ],
   "source": [
    "vocab_clean_token_counts = Counter(vocab_clean_tokens)\n",
    "# Least Common Words\n",
    "vocab_clean_token_counts.most_common()[-10::]\n",
    "# Cleaning Needed"
   ]
  },
  {
   "cell_type": "code",
   "execution_count": 18,
   "id": "c681a89d",
   "metadata": {},
   "outputs": [
    {
     "data": {
      "text/plain": [
       "[('username', 26956),\n",
       " ('school', 8873),\n",
       " ('like', 5918),\n",
       " ('fuck', 5885),\n",
       " ('dumb', 5393),\n",
       " ('high', 5260),\n",
       " ('people', 4906),\n",
       " ('bullied', 4703)]"
      ]
     },
     "execution_count": 18,
     "metadata": {},
     "output_type": "execute_result"
    }
   ],
   "source": [
    "# Least Common Words\n",
    "vocab_clean_token_counts.most_common()[0:8]"
   ]
  },
  {
   "cell_type": "code",
   "execution_count": 33,
   "id": "e0676b77",
   "metadata": {},
   "outputs": [
    {
     "name": "stdout",
     "output_type": "stream",
     "text": [
      "@Raja5aab @Quickieleaks Yes, the test of god is that good or bad or indifferent or weird or whatever, it all proves gods existence.\n"
     ]
    },
    {
     "data": {
      "text/plain": [
       "['@Raja5aab', '@Quickieleaks']"
      ]
     },
     "execution_count": 33,
     "metadata": {},
     "output_type": "execute_result"
    }
   ],
   "source": [
    "text = tweets.iloc[5][\"tweet_text\"]\n",
    "print(text)\n",
    "isolate_mentions(text)"
   ]
  },
  {
   "cell_type": "code",
   "execution_count": 40,
   "id": "1e3066a1",
   "metadata": {},
   "outputs": [
    {
     "data": {
      "text/plain": [
       "['@XochitlSuckkks',\n",
       " '@Jason_Gio',\n",
       " '@RudhoeEnglish',\n",
       " '@Raja5aab',\n",
       " '@Quickieleaks',\n",
       " '@stockputout',\n",
       " '@Jord_Is_Dead',\n",
       " '@Kurdsnews',\n",
       " '@yasmimcaci',\n",
       " '@Bferrarii']"
      ]
     },
     "execution_count": 40,
     "metadata": {},
     "output_type": "execute_result"
    }
   ],
   "source": [
    "mentions = []\n",
    "for line in tweets[\"mentions\"]:\n",
    "    for mention in line.split(\" \"):\n",
    "        if mention != \"\":\n",
    "            mentions.append(mention)\n",
    "\n",
    "# List of all words\n",
    "mentions[0:10]"
   ]
  },
  {
   "cell_type": "code",
   "execution_count": 52,
   "id": "3afacbd1",
   "metadata": {},
   "outputs": [
    {
     "data": {
      "text/plain": [
       "[('@FreakyBillon', 1),\n",
       " ('@niggalogic', 1),\n",
       " ('@SuicideRascal', 1),\n",
       " ('@Psyche_Mac', 1),\n",
       " ('@ki__2x', 1),\n",
       " ('@skeppyextra', 1),\n",
       " ('@ranran_42', 1),\n",
       " ('@KeithBishop64', 1),\n",
       " ('@YourFavWhiteGuy', 1),\n",
       " ('@CHILLShrammy', 1)]"
      ]
     },
     "execution_count": 52,
     "metadata": {},
     "output_type": "execute_result"
    }
   ],
   "source": [
    "mention_counts = Counter(mentions)\n",
    "# Least Common Words\n",
    "mention_counts.most_common()[-10::]"
   ]
  },
  {
   "cell_type": "code",
   "execution_count": 53,
   "id": "27e8e9c3",
   "metadata": {},
   "outputs": [
    {
     "data": {
      "text/plain": [
       "[('@tayyoung_', 958),\n",
       " ('@freebsdgirl', 233),\n",
       " ('@MaxBlumenthal', 161),\n",
       " ('@mykitchenrules', 115),\n",
       " ('@ChrisWarcraft', 104),\n",
       " ('@MT8_9', 101),\n",
       " ('@TheQuinnspiracy', 101),\n",
       " ('@IsraeliRegime', 99),\n",
       " ('@Spacekatgal', 98),\n",
       " ('@realDonaldTrump', 94)]"
      ]
     },
     "execution_count": 53,
     "metadata": {},
     "output_type": "execute_result"
    }
   ],
   "source": [
    "# Most Common Words\n",
    "mention_counts.most_common()[0:10]"
   ]
  },
  {
   "cell_type": "markdown",
   "id": "8f1f3371",
   "metadata": {},
   "source": [
    "### Examining only the Cyberbullying Examples"
   ]
  },
  {
   "cell_type": "code",
   "execution_count": 63,
   "id": "f4c076d8",
   "metadata": {},
   "outputs": [
    {
     "data": {
      "text/html": [
       "<div>\n",
       "<style scoped>\n",
       "    .dataframe tbody tr th:only-of-type {\n",
       "        vertical-align: middle;\n",
       "    }\n",
       "\n",
       "    .dataframe tbody tr th {\n",
       "        vertical-align: top;\n",
       "    }\n",
       "\n",
       "    .dataframe thead th {\n",
       "        text-align: right;\n",
       "    }\n",
       "</style>\n",
       "<table border=\"1\" class=\"dataframe\">\n",
       "  <thead>\n",
       "    <tr style=\"text-align: right;\">\n",
       "      <th></th>\n",
       "      <th>tweet_text</th>\n",
       "      <th>cyberbullying_type</th>\n",
       "      <th>word_count</th>\n",
       "      <th>tweet_length</th>\n",
       "      <th>clean_text</th>\n",
       "      <th>mentions</th>\n",
       "    </tr>\n",
       "  </thead>\n",
       "  <tbody>\n",
       "    <tr>\n",
       "      <th>7945</th>\n",
       "      <td>rape is real..zvasiyana nema jokes about being...</td>\n",
       "      <td>gender</td>\n",
       "      <td>26</td>\n",
       "      <td>159</td>\n",
       "      <td>rape real zvasiyana nema jokes drunk gay lesbi...</td>\n",
       "      <td></td>\n",
       "    </tr>\n",
       "    <tr>\n",
       "      <th>7946</th>\n",
       "      <td>You never saw any celebrity say anything like ...</td>\n",
       "      <td>gender</td>\n",
       "      <td>24</td>\n",
       "      <td>136</td>\n",
       "      <td>never saw celebrity say anything like obama b ...</td>\n",
       "      <td></td>\n",
       "    </tr>\n",
       "    <tr>\n",
       "      <th>7947</th>\n",
       "      <td>@ManhattaKnight I mean he's gay, but he uses g...</td>\n",
       "      <td>gender</td>\n",
       "      <td>14</td>\n",
       "      <td>80</td>\n",
       "      <td>username mean gay uses gendered slurs makes ra...</td>\n",
       "      <td>@ManhattaKnight</td>\n",
       "    </tr>\n",
       "    <tr>\n",
       "      <th>7948</th>\n",
       "      <td>RT @Raul_Novoa16: @AliciaBernardez @Alex_Aim @...</td>\n",
       "      <td>gender</td>\n",
       "      <td>7</td>\n",
       "      <td>66</td>\n",
       "      <td>rt username username username username feminazi</td>\n",
       "      <td>@Raul_Novoa16 @AliciaBernardez @Alex_Aim @_mec...</td>\n",
       "    </tr>\n",
       "    <tr>\n",
       "      <th>7949</th>\n",
       "      <td>Rape is rape. And the fact that I read one pos...</td>\n",
       "      <td>gender</td>\n",
       "      <td>58</td>\n",
       "      <td>273</td>\n",
       "      <td>rape rape fact read one post guy getting raped...</td>\n",
       "      <td></td>\n",
       "    </tr>\n",
       "    <tr>\n",
       "      <th>7950</th>\n",
       "      <td>@coiny Also, it's hard to take a company serio...</td>\n",
       "      <td>gender</td>\n",
       "      <td>27</td>\n",
       "      <td>144</td>\n",
       "      <td>username also hard take company seriously hara...</td>\n",
       "      <td>@coiny</td>\n",
       "    </tr>\n",
       "    <tr>\n",
       "      <th>7951</th>\n",
       "      <td>Idgaf if you are gay, lesbian, bisexual, or wh...</td>\n",
       "      <td>gender</td>\n",
       "      <td>25</td>\n",
       "      <td>127</td>\n",
       "      <td>idgaf gay lesbian bisexual whatever fuck fuck ...</td>\n",
       "      <td></td>\n",
       "    </tr>\n",
       "    <tr>\n",
       "      <th>7952</th>\n",
       "      <td>#GermanProfessor gives meaning to term FemiNaz...</td>\n",
       "      <td>gender</td>\n",
       "      <td>14</td>\n",
       "      <td>104</td>\n",
       "      <td>germanprofessor gives meaning term feminazi hi...</td>\n",
       "      <td></td>\n",
       "    </tr>\n",
       "    <tr>\n",
       "      <th>7953</th>\n",
       "      <td>RT @mcclure111: #DontDateSJWs #ThatWouldBeAVio...</td>\n",
       "      <td>gender</td>\n",
       "      <td>4</td>\n",
       "      <td>73</td>\n",
       "      <td>rt username dontdatesjws thatwouldbeaviolation...</td>\n",
       "      <td>@mcclure111</td>\n",
       "    </tr>\n",
       "    <tr>\n",
       "      <th>7954</th>\n",
       "      <td>So I call you female I’m basically calling you...</td>\n",
       "      <td>gender</td>\n",
       "      <td>12</td>\n",
       "      <td>56</td>\n",
       "      <td>call female basically calling bitch</td>\n",
       "      <td></td>\n",
       "    </tr>\n",
       "  </tbody>\n",
       "</table>\n",
       "</div>"
      ],
      "text/plain": [
       "                                             tweet_text cyberbullying_type  \\\n",
       "7945  rape is real..zvasiyana nema jokes about being...             gender   \n",
       "7946  You never saw any celebrity say anything like ...             gender   \n",
       "7947  @ManhattaKnight I mean he's gay, but he uses g...             gender   \n",
       "7948  RT @Raul_Novoa16: @AliciaBernardez @Alex_Aim @...             gender   \n",
       "7949  Rape is rape. And the fact that I read one pos...             gender   \n",
       "7950  @coiny Also, it's hard to take a company serio...             gender   \n",
       "7951  Idgaf if you are gay, lesbian, bisexual, or wh...             gender   \n",
       "7952  #GermanProfessor gives meaning to term FemiNaz...             gender   \n",
       "7953  RT @mcclure111: #DontDateSJWs #ThatWouldBeAVio...             gender   \n",
       "7954  So I call you female I’m basically calling you...             gender   \n",
       "\n",
       "      word_count  tweet_length  \\\n",
       "7945          26           159   \n",
       "7946          24           136   \n",
       "7947          14            80   \n",
       "7948           7            66   \n",
       "7949          58           273   \n",
       "7950          27           144   \n",
       "7951          25           127   \n",
       "7952          14           104   \n",
       "7953           4            73   \n",
       "7954          12            56   \n",
       "\n",
       "                                             clean_text  \\\n",
       "7945  rape real zvasiyana nema jokes drunk gay lesbi...   \n",
       "7946  never saw celebrity say anything like obama b ...   \n",
       "7947  username mean gay uses gendered slurs makes ra...   \n",
       "7948    rt username username username username feminazi   \n",
       "7949  rape rape fact read one post guy getting raped...   \n",
       "7950  username also hard take company seriously hara...   \n",
       "7951  idgaf gay lesbian bisexual whatever fuck fuck ...   \n",
       "7952  germanprofessor gives meaning term feminazi hi...   \n",
       "7953  rt username dontdatesjws thatwouldbeaviolation...   \n",
       "7954                call female basically calling bitch   \n",
       "\n",
       "                                               mentions  \n",
       "7945                                                     \n",
       "7946                                                     \n",
       "7947                                    @ManhattaKnight  \n",
       "7948  @Raul_Novoa16 @AliciaBernardez @Alex_Aim @_mec...  \n",
       "7949                                                     \n",
       "7950                                             @coiny  \n",
       "7951                                                     \n",
       "7952                                                     \n",
       "7953                                        @mcclure111  \n",
       "7954                                                     "
      ]
     },
     "execution_count": 63,
     "metadata": {},
     "output_type": "execute_result"
    }
   ],
   "source": [
    "tweets_bully = tweets[tweets[\"cyberbullying_type\"] != \"not_cyberbullying\"]\n",
    "tweets_bully.head(10)"
   ]
  },
  {
   "cell_type": "code",
   "execution_count": 67,
   "id": "81c9984d",
   "metadata": {},
   "outputs": [
    {
     "data": {
      "text/plain": [
       "['@ManhattaKnight',\n",
       " '@Raul_Novoa16',\n",
       " '@AliciaBernardez',\n",
       " '@Alex_Aim',\n",
       " '@_mecaesmal',\n",
       " '@coiny',\n",
       " '@mcclure111',\n",
       " '@pumpkinking39',\n",
       " '@JesseElJefe',\n",
       " '@beavergate']"
      ]
     },
     "execution_count": 67,
     "metadata": {},
     "output_type": "execute_result"
    }
   ],
   "source": [
    "mentions_bullying = []\n",
    "for line in tweets_bully[\"mentions\"]:\n",
    "    for mention in line.split(\" \"):\n",
    "        if mention != \"\":\n",
    "            mentions_bullying.append(mention)\n",
    "\n",
    "# List of all words\n",
    "mentions_bullying[0:10]"
   ]
  },
  {
   "cell_type": "code",
   "execution_count": 68,
   "id": "17ce6dd9",
   "metadata": {},
   "outputs": [
    {
     "data": {
      "text/plain": [
       "[('@FreakyBillon', 1),\n",
       " ('@niggalogic', 1),\n",
       " ('@SuicideRascal', 1),\n",
       " ('@Psyche_Mac', 1),\n",
       " ('@ki__2x', 1),\n",
       " ('@skeppyextra', 1),\n",
       " ('@ranran_42', 1),\n",
       " ('@KeithBishop64', 1),\n",
       " ('@YourFavWhiteGuy', 1),\n",
       " ('@CHILLShrammy', 1)]"
      ]
     },
     "execution_count": 68,
     "metadata": {},
     "output_type": "execute_result"
    }
   ],
   "source": [
    "mentions_bullying_counts = Counter(mentions_bullying)\n",
    "# Least Common Mentions\n",
    "mentions_bullying_counts.most_common()[-10::]"
   ]
  },
  {
   "cell_type": "code",
   "execution_count": 69,
   "id": "4f354936",
   "metadata": {},
   "outputs": [
    {
     "data": {
      "text/plain": [
       "[('@tayyoung_', 958),\n",
       " ('@freebsdgirl', 158),\n",
       " ('@MaxBlumenthal', 120),\n",
       " ('@MT8_9', 94),\n",
       " ('@realDonaldTrump', 94),\n",
       " ('@IsraeliRegime', 82),\n",
       " ('@ChrisWarcraft', 81),\n",
       " ('@TheQuinnspiracy', 76),\n",
       " ('@sajid_fairooz', 65),\n",
       " ('@Spacekatgal', 64)]"
      ]
     },
     "execution_count": 69,
     "metadata": {},
     "output_type": "execute_result"
    }
   ],
   "source": [
    "# Most Common Mentions\n",
    "mentions_bullying_counts.most_common()[0:10]"
   ]
  },
  {
   "cell_type": "code",
   "execution_count": 72,
   "id": "869ef2ba",
   "metadata": {},
   "outputs": [
    {
     "data": {
      "text/plain": [
       "['rape',\n",
       " 'real',\n",
       " 'zvasiyana',\n",
       " 'nema',\n",
       " 'jokes',\n",
       " 'drunk',\n",
       " 'gay',\n",
       " 'lesbian',\n",
       " 'rape',\n",
       " 'ones']"
      ]
     },
     "execution_count": 72,
     "metadata": {},
     "output_type": "execute_result"
    }
   ],
   "source": [
    "vocab_bullying = []\n",
    "for tweet in tweets_bully[\"clean_text\"]:\n",
    "    for word in word_tokenize(tweet):\n",
    "        vocab_bullying.append(word)\n",
    "\n",
    "# List of all vocab_bullying[0:10]\n",
    "vocab_bullying[0:10]"
   ]
  },
  {
   "cell_type": "code",
   "execution_count": 74,
   "id": "b53ee697",
   "metadata": {},
   "outputs": [
    {
     "data": {
      "text/plain": [
       "[('wwi', 1),\n",
       " ('acquiesce', 1),\n",
       " ('upabout', 1),\n",
       " ('nagging', 1),\n",
       " ('depended', 1),\n",
       " ('abominable', 1),\n",
       " ('conclave', 1),\n",
       " ('decree', 1),\n",
       " ('whim', 1),\n",
       " ('reeeeeal', 1)]"
      ]
     },
     "execution_count": 74,
     "metadata": {},
     "output_type": "execute_result"
    }
   ],
   "source": [
    "vocab_bullying_counts = Counter(vocab_bullying)\n",
    "# Least Common Words\n",
    "vocab_bullying_counts.most_common()[-10::]"
   ]
  },
  {
   "cell_type": "code",
   "execution_count": 79,
   "id": "8c493346",
   "metadata": {},
   "outputs": [
    {
     "data": {
      "text/plain": [
       "[('username', 20798),\n",
       " ('school', 8531),\n",
       " ('fuck', 5784),\n",
       " ('like', 5518),\n",
       " ('dumb', 5378),\n",
       " ('high', 5203),\n",
       " ('people', 4634),\n",
       " ('bullied', 4621)]"
      ]
     },
     "execution_count": 79,
     "metadata": {},
     "output_type": "execute_result"
    }
   ],
   "source": [
    "# Most Common Words\n",
    "vocab_bullying_counts.most_common()[0:8]"
   ]
  },
  {
   "cell_type": "code",
   "execution_count": null,
   "id": "b0c0310e",
   "metadata": {},
   "outputs": [],
   "source": []
  }
 ],
 "metadata": {
  "kernelspec": {
   "display_name": "Python 3 (ipykernel)",
   "language": "python",
   "name": "python3"
  },
  "language_info": {
   "codemirror_mode": {
    "name": "ipython",
    "version": 3
   },
   "file_extension": ".py",
   "mimetype": "text/x-python",
   "name": "python",
   "nbconvert_exporter": "python",
   "pygments_lexer": "ipython3",
   "version": "3.10.9"
  }
 },
 "nbformat": 4,
 "nbformat_minor": 5
}
