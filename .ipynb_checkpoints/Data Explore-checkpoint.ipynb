{
 "cells": [
  {
   "cell_type": "markdown",
   "id": "dcadb5c7",
   "metadata": {},
   "source": [
    "## Dedicated Jupyter Notebook for Exploring Cyberbullying Dataset"
   ]
  },
  {
   "cell_type": "code",
   "execution_count": 1,
   "id": "4aade6e0",
   "metadata": {},
   "outputs": [],
   "source": [
    "import pandas as pd\n",
    "from collections import Counter\n",
    "import re\n",
    "import nltk\n",
    "# nltk.download('punkt')\n",
    "\n",
    "from nltk.tokenize import word_tokenize\n",
    "from nltk.corpus import stopwords\n",
    "from nltk.tokenize import RegexpTokenizer"
   ]
  },
  {
   "cell_type": "markdown",
   "id": "e8e29c2e",
   "metadata": {},
   "source": [
    "### Cyberbullying Dataset"
   ]
  },
  {
   "cell_type": "code",
   "execution_count": 2,
   "id": "bc906f1f",
   "metadata": {},
   "outputs": [
    {
     "data": {
      "text/html": [
       "<div>\n",
       "<style scoped>\n",
       "    .dataframe tbody tr th:only-of-type {\n",
       "        vertical-align: middle;\n",
       "    }\n",
       "\n",
       "    .dataframe tbody tr th {\n",
       "        vertical-align: top;\n",
       "    }\n",
       "\n",
       "    .dataframe thead th {\n",
       "        text-align: right;\n",
       "    }\n",
       "</style>\n",
       "<table border=\"1\" class=\"dataframe\">\n",
       "  <thead>\n",
       "    <tr style=\"text-align: right;\">\n",
       "      <th></th>\n",
       "      <th>tweet_text</th>\n",
       "      <th>cyberbullying_type</th>\n",
       "    </tr>\n",
       "  </thead>\n",
       "  <tbody>\n",
       "    <tr>\n",
       "      <th>0</th>\n",
       "      <td>In other words #katandandre, your food was cra...</td>\n",
       "      <td>not_cyberbullying</td>\n",
       "    </tr>\n",
       "    <tr>\n",
       "      <th>1</th>\n",
       "      <td>Why is #aussietv so white? #MKR #theblock #ImA...</td>\n",
       "      <td>not_cyberbullying</td>\n",
       "    </tr>\n",
       "    <tr>\n",
       "      <th>2</th>\n",
       "      <td>@XochitlSuckkks a classy whore? Or more red ve...</td>\n",
       "      <td>not_cyberbullying</td>\n",
       "    </tr>\n",
       "    <tr>\n",
       "      <th>3</th>\n",
       "      <td>@Jason_Gio meh. :P  thanks for the heads up, b...</td>\n",
       "      <td>not_cyberbullying</td>\n",
       "    </tr>\n",
       "    <tr>\n",
       "      <th>4</th>\n",
       "      <td>@RudhoeEnglish This is an ISIS account pretend...</td>\n",
       "      <td>not_cyberbullying</td>\n",
       "    </tr>\n",
       "    <tr>\n",
       "      <th>5</th>\n",
       "      <td>@Raja5aab @Quickieleaks Yes, the test of god i...</td>\n",
       "      <td>not_cyberbullying</td>\n",
       "    </tr>\n",
       "    <tr>\n",
       "      <th>6</th>\n",
       "      <td>Itu sekolah ya bukan tempat bully! Ga jauh kay...</td>\n",
       "      <td>not_cyberbullying</td>\n",
       "    </tr>\n",
       "    <tr>\n",
       "      <th>7</th>\n",
       "      <td>Karma. I hope it bites Kat on the butt. She is...</td>\n",
       "      <td>not_cyberbullying</td>\n",
       "    </tr>\n",
       "    <tr>\n",
       "      <th>8</th>\n",
       "      <td>@stockputout everything but mostly my priest</td>\n",
       "      <td>not_cyberbullying</td>\n",
       "    </tr>\n",
       "    <tr>\n",
       "      <th>9</th>\n",
       "      <td>Rebecca Black Drops Out of School Due to Bully...</td>\n",
       "      <td>not_cyberbullying</td>\n",
       "    </tr>\n",
       "  </tbody>\n",
       "</table>\n",
       "</div>"
      ],
      "text/plain": [
       "                                          tweet_text cyberbullying_type\n",
       "0  In other words #katandandre, your food was cra...  not_cyberbullying\n",
       "1  Why is #aussietv so white? #MKR #theblock #ImA...  not_cyberbullying\n",
       "2  @XochitlSuckkks a classy whore? Or more red ve...  not_cyberbullying\n",
       "3  @Jason_Gio meh. :P  thanks for the heads up, b...  not_cyberbullying\n",
       "4  @RudhoeEnglish This is an ISIS account pretend...  not_cyberbullying\n",
       "5  @Raja5aab @Quickieleaks Yes, the test of god i...  not_cyberbullying\n",
       "6  Itu sekolah ya bukan tempat bully! Ga jauh kay...  not_cyberbullying\n",
       "7  Karma. I hope it bites Kat on the butt. She is...  not_cyberbullying\n",
       "8       @stockputout everything but mostly my priest  not_cyberbullying\n",
       "9  Rebecca Black Drops Out of School Due to Bully...  not_cyberbullying"
      ]
     },
     "execution_count": 2,
     "metadata": {},
     "output_type": "execute_result"
    }
   ],
   "source": [
    "# Load Dataset\n",
    "tweets = pd.read_csv(\"data/cyberbullying_tweets.csv\")\n",
    "tweets.head(10)"
   ]
  },
  {
   "cell_type": "markdown",
   "id": "4eb97781",
   "metadata": {},
   "source": [
    "### Basic Dataset Statistics"
   ]
  },
  {
   "cell_type": "code",
   "execution_count": 3,
   "id": "3ebe3f7c",
   "metadata": {},
   "outputs": [],
   "source": [
    "# Useful Kaggle Kernel for Pre-Processing Tweets:\n",
    "# https://www.kaggle.com/code/nourberkdar/text-preprocessing-for-tweets"
   ]
  },
  {
   "cell_type": "code",
   "execution_count": 4,
   "id": "6d0096b3",
   "metadata": {},
   "outputs": [
    {
     "data": {
      "text/plain": [
       "count    47692.000000\n",
       "mean        23.734505\n",
       "std         15.263513\n",
       "min          1.000000\n",
       "25%         13.000000\n",
       "50%         21.000000\n",
       "75%         32.000000\n",
       "max        737.000000\n",
       "Name: word_count, dtype: float64"
      ]
     },
     "execution_count": 4,
     "metadata": {},
     "output_type": "execute_result"
    }
   ],
   "source": [
    "# Examining word count statistics\n",
    "tweets['word_count']=tweets['tweet_text'].apply(lambda x:len(x.split(\" \")))\n",
    "tweets['word_count'].describe()"
   ]
  },
  {
   "cell_type": "code",
   "execution_count": 5,
   "id": "653f27b0",
   "metadata": {},
   "outputs": [
    {
     "data": {
      "text/plain": [
       "count    47692.000000\n",
       "mean       136.253229\n",
       "std         85.226899\n",
       "min          1.000000\n",
       "25%         78.000000\n",
       "50%        124.000000\n",
       "75%        180.000000\n",
       "max       5018.000000\n",
       "Name: tweet_length, dtype: float64"
      ]
     },
     "execution_count": 5,
     "metadata": {},
     "output_type": "execute_result"
    }
   ],
   "source": [
    "# Tweet Length Statistics\n",
    "tweets['tweet_length']=tweets['tweet_text'].apply(len)\n",
    "tweets['tweet_length'].describe()"
   ]
  },
  {
   "cell_type": "code",
   "execution_count": 6,
   "id": "796bfaf1",
   "metadata": {},
   "outputs": [
    {
     "data": {
      "text/html": [
       "<div>\n",
       "<style scoped>\n",
       "    .dataframe tbody tr th:only-of-type {\n",
       "        vertical-align: middle;\n",
       "    }\n",
       "\n",
       "    .dataframe tbody tr th {\n",
       "        vertical-align: top;\n",
       "    }\n",
       "\n",
       "    .dataframe thead th {\n",
       "        text-align: right;\n",
       "    }\n",
       "</style>\n",
       "<table border=\"1\" class=\"dataframe\">\n",
       "  <thead>\n",
       "    <tr style=\"text-align: right;\">\n",
       "      <th></th>\n",
       "      <th>tweet_text</th>\n",
       "      <th>cyberbullying_type</th>\n",
       "      <th>word_count</th>\n",
       "      <th>tweet_length</th>\n",
       "    </tr>\n",
       "  </thead>\n",
       "  <tbody>\n",
       "    <tr>\n",
       "      <th>0</th>\n",
       "      <td>In other words #katandandre, your food was cra...</td>\n",
       "      <td>not_cyberbullying</td>\n",
       "      <td>9</td>\n",
       "      <td>61</td>\n",
       "    </tr>\n",
       "    <tr>\n",
       "      <th>1</th>\n",
       "      <td>Why is #aussietv so white? #MKR #theblock #ImA...</td>\n",
       "      <td>not_cyberbullying</td>\n",
       "      <td>14</td>\n",
       "      <td>115</td>\n",
       "    </tr>\n",
       "    <tr>\n",
       "      <th>2</th>\n",
       "      <td>@XochitlSuckkks a classy whore? Or more red ve...</td>\n",
       "      <td>not_cyberbullying</td>\n",
       "      <td>9</td>\n",
       "      <td>60</td>\n",
       "    </tr>\n",
       "    <tr>\n",
       "      <th>3</th>\n",
       "      <td>@Jason_Gio meh. :P  thanks for the heads up, b...</td>\n",
       "      <td>not_cyberbullying</td>\n",
       "      <td>19</td>\n",
       "      <td>103</td>\n",
       "    </tr>\n",
       "    <tr>\n",
       "      <th>4</th>\n",
       "      <td>@RudhoeEnglish This is an ISIS account pretend...</td>\n",
       "      <td>not_cyberbullying</td>\n",
       "      <td>19</td>\n",
       "      <td>103</td>\n",
       "    </tr>\n",
       "    <tr>\n",
       "      <th>5</th>\n",
       "      <td>@Raja5aab @Quickieleaks Yes, the test of god i...</td>\n",
       "      <td>not_cyberbullying</td>\n",
       "      <td>23</td>\n",
       "      <td>131</td>\n",
       "    </tr>\n",
       "    <tr>\n",
       "      <th>6</th>\n",
       "      <td>Itu sekolah ya bukan tempat bully! Ga jauh kay...</td>\n",
       "      <td>not_cyberbullying</td>\n",
       "      <td>10</td>\n",
       "      <td>54</td>\n",
       "    </tr>\n",
       "    <tr>\n",
       "      <th>7</th>\n",
       "      <td>Karma. I hope it bites Kat on the butt. She is...</td>\n",
       "      <td>not_cyberbullying</td>\n",
       "      <td>14</td>\n",
       "      <td>63</td>\n",
       "    </tr>\n",
       "    <tr>\n",
       "      <th>8</th>\n",
       "      <td>@stockputout everything but mostly my priest</td>\n",
       "      <td>not_cyberbullying</td>\n",
       "      <td>6</td>\n",
       "      <td>44</td>\n",
       "    </tr>\n",
       "    <tr>\n",
       "      <th>9</th>\n",
       "      <td>Rebecca Black Drops Out of School Due to Bully...</td>\n",
       "      <td>not_cyberbullying</td>\n",
       "      <td>9</td>\n",
       "      <td>50</td>\n",
       "    </tr>\n",
       "  </tbody>\n",
       "</table>\n",
       "</div>"
      ],
      "text/plain": [
       "                                          tweet_text cyberbullying_type  \\\n",
       "0  In other words #katandandre, your food was cra...  not_cyberbullying   \n",
       "1  Why is #aussietv so white? #MKR #theblock #ImA...  not_cyberbullying   \n",
       "2  @XochitlSuckkks a classy whore? Or more red ve...  not_cyberbullying   \n",
       "3  @Jason_Gio meh. :P  thanks for the heads up, b...  not_cyberbullying   \n",
       "4  @RudhoeEnglish This is an ISIS account pretend...  not_cyberbullying   \n",
       "5  @Raja5aab @Quickieleaks Yes, the test of god i...  not_cyberbullying   \n",
       "6  Itu sekolah ya bukan tempat bully! Ga jauh kay...  not_cyberbullying   \n",
       "7  Karma. I hope it bites Kat on the butt. She is...  not_cyberbullying   \n",
       "8       @stockputout everything but mostly my priest  not_cyberbullying   \n",
       "9  Rebecca Black Drops Out of School Due to Bully...  not_cyberbullying   \n",
       "\n",
       "   word_count  tweet_length  \n",
       "0           9            61  \n",
       "1          14           115  \n",
       "2           9            60  \n",
       "3          19           103  \n",
       "4          19           103  \n",
       "5          23           131  \n",
       "6          10            54  \n",
       "7          14            63  \n",
       "8           6            44  \n",
       "9           9            50  "
      ]
     },
     "execution_count": 6,
     "metadata": {},
     "output_type": "execute_result"
    }
   ],
   "source": [
    "tweets.head(10)"
   ]
  },
  {
   "cell_type": "markdown",
   "id": "7acaced1",
   "metadata": {},
   "source": [
    "### Dataset Vocabulary"
   ]
  },
  {
   "cell_type": "code",
   "execution_count": 7,
   "id": "df588abd",
   "metadata": {},
   "outputs": [
    {
     "data": {
      "text/plain": [
       "['in',\n",
       " 'other',\n",
       " 'words',\n",
       " '#katandandre,',\n",
       " 'your',\n",
       " 'food',\n",
       " 'was',\n",
       " 'crapilicious!',\n",
       " '#mkr',\n",
       " 'why']"
      ]
     },
     "execution_count": 7,
     "metadata": {},
     "output_type": "execute_result"
    }
   ],
   "source": [
    "# Most common @username\n",
    "# Most Common Words\n",
    "vocab = []\n",
    "for tweet in tweets[\"tweet_text\"]:\n",
    "    for word in tweet.split(\" \"):\n",
    "        vocab.append(word.lower())\n",
    "\n",
    "# List of all words (Not Cleaned)\n",
    "vocab[0:10]"
   ]
  },
  {
   "cell_type": "code",
   "execution_count": 8,
   "id": "a03a942b",
   "metadata": {},
   "outputs": [
    {
     "data": {
      "text/plain": [
       "[('“abominable', 1),\n",
       " ('conclave', 1),\n",
       " ('demons”', 1),\n",
       " ('exception)', 1),\n",
       " ('“issued', 1),\n",
       " ('decree', 1),\n",
       " ('community.”', 1),\n",
       " ('reeeeeal', 1),\n",
       " ('d:&lt;', 1),\n",
       " ('@chillshrammy:', 1)]"
      ]
     },
     "execution_count": 8,
     "metadata": {},
     "output_type": "execute_result"
    }
   ],
   "source": [
    "vocab_counts = Counter(vocab)\n",
    "# Least Common Words\n",
    "vocab_counts.most_common()[-10::]\n",
    "# Cleaning Needed"
   ]
  },
  {
   "cell_type": "markdown",
   "id": "1651a714",
   "metadata": {},
   "source": [
    "#### Word Tokenization"
   ]
  },
  {
   "cell_type": "code",
   "execution_count": 9,
   "id": "771c47dc",
   "metadata": {},
   "outputs": [
    {
     "data": {
      "text/plain": [
       "['in',\n",
       " 'other',\n",
       " 'words',\n",
       " '#',\n",
       " 'katandandre',\n",
       " ',',\n",
       " 'your',\n",
       " 'food',\n",
       " 'was',\n",
       " 'crapilicious']"
      ]
     },
     "execution_count": 9,
     "metadata": {},
     "output_type": "execute_result"
    }
   ],
   "source": [
    "vocab_tokens = []\n",
    "for tweet in tweets[\"tweet_text\"]:\n",
    "    for word in word_tokenize(tweet, language=\"english\"):\n",
    "        vocab_tokens.append(word.lower())\n",
    "\n",
    "# List of all words (Not Cleaned)\n",
    "vocab_tokens[0:10]"
   ]
  },
  {
   "cell_type": "code",
   "execution_count": 10,
   "id": "2a030343",
   "metadata": {},
   "outputs": [
    {
     "data": {
      "text/plain": [
       "[('keithbishop64', 1),\n",
       " ('yourfavwhiteguy', 1),\n",
       " ('upabout', 1),\n",
       " ('nagging', 1),\n",
       " ('depended', 1),\n",
       " ('abominable', 1),\n",
       " ('conclave', 1),\n",
       " ('decree', 1),\n",
       " ('reeeeeal', 1),\n",
       " ('chillshrammy', 1)]"
      ]
     },
     "execution_count": 10,
     "metadata": {},
     "output_type": "execute_result"
    }
   ],
   "source": [
    "vocab_token_counts = Counter(vocab_tokens)\n",
    "# Least Common Words\n",
    "vocab_token_counts.most_common()[-10::]\n",
    "# Cleaning Needed"
   ]
  },
  {
   "cell_type": "markdown",
   "id": "19bd013c",
   "metadata": {},
   "source": [
    "#### Stinky ^^^"
   ]
  },
  {
   "cell_type": "code",
   "execution_count": 11,
   "id": "24fe75cd",
   "metadata": {},
   "outputs": [],
   "source": [
    "# @user subbing function to apply to whole text column\n",
    "def sub_usernames(text):\n",
    "    return re.sub(r'@\\w+', '@user', text)\n",
    "\n",
    "#  Currently subsititutes all @usernames with \"username\"\n",
    "def remove_usernames(text):\n",
    "    return re.sub(r'@\\w+', 'username', text)\n",
    "\n",
    "def remove_hashtag(text):\n",
    "    return re.sub(r'#', '', text)\n",
    "\n",
    "def remove_punctuation(text):\n",
    "    tokenizer = RegexpTokenizer(r\"\\w+\")\n",
    "    words = tokenizer.tokenize(text)\n",
    "    return(\" \".join(words))\n",
    "\n",
    "stop_words = stopwords.words(\"english\")\n",
    "def remove_stop_words(tweet, stopwords=stop_words):\n",
    "    cleaned = []\n",
    "    for word in word_tokenize(tweet):\n",
    "        if word.lower() not in stopwords:\n",
    "            cleaned.append(word.lower()) # Lowercase output\n",
    "    return \" \".join(cleaned)"
   ]
  },
  {
   "cell_type": "code",
   "execution_count": 12,
   "id": "a6fe857b",
   "metadata": {},
   "outputs": [
    {
     "data": {
      "text/html": [
       "<div>\n",
       "<style scoped>\n",
       "    .dataframe tbody tr th:only-of-type {\n",
       "        vertical-align: middle;\n",
       "    }\n",
       "\n",
       "    .dataframe tbody tr th {\n",
       "        vertical-align: top;\n",
       "    }\n",
       "\n",
       "    .dataframe thead th {\n",
       "        text-align: right;\n",
       "    }\n",
       "</style>\n",
       "<table border=\"1\" class=\"dataframe\">\n",
       "  <thead>\n",
       "    <tr style=\"text-align: right;\">\n",
       "      <th></th>\n",
       "      <th>tweet_text</th>\n",
       "      <th>cyberbullying_type</th>\n",
       "      <th>word_count</th>\n",
       "      <th>tweet_length</th>\n",
       "      <th>clean_text</th>\n",
       "    </tr>\n",
       "  </thead>\n",
       "  <tbody>\n",
       "    <tr>\n",
       "      <th>0</th>\n",
       "      <td>In other words #katandandre, your food was cra...</td>\n",
       "      <td>not_cyberbullying</td>\n",
       "      <td>9</td>\n",
       "      <td>61</td>\n",
       "      <td>words katandandre food crapilicious mkr</td>\n",
       "    </tr>\n",
       "    <tr>\n",
       "      <th>1</th>\n",
       "      <td>Why is #aussietv so white? #MKR #theblock #ImA...</td>\n",
       "      <td>not_cyberbullying</td>\n",
       "      <td>14</td>\n",
       "      <td>115</td>\n",
       "      <td>aussietv white mkr theblock imacelebrityau tod...</td>\n",
       "    </tr>\n",
       "    <tr>\n",
       "      <th>2</th>\n",
       "      <td>@XochitlSuckkks a classy whore? Or more red ve...</td>\n",
       "      <td>not_cyberbullying</td>\n",
       "      <td>9</td>\n",
       "      <td>60</td>\n",
       "      <td>username classy whore red velvet cupcakes</td>\n",
       "    </tr>\n",
       "    <tr>\n",
       "      <th>3</th>\n",
       "      <td>@Jason_Gio meh. :P  thanks for the heads up, b...</td>\n",
       "      <td>not_cyberbullying</td>\n",
       "      <td>19</td>\n",
       "      <td>103</td>\n",
       "      <td>username meh p thanks heads concerned another ...</td>\n",
       "    </tr>\n",
       "    <tr>\n",
       "      <th>4</th>\n",
       "      <td>@RudhoeEnglish This is an ISIS account pretend...</td>\n",
       "      <td>not_cyberbullying</td>\n",
       "      <td>19</td>\n",
       "      <td>103</td>\n",
       "      <td>username isis account pretending kurdish accou...</td>\n",
       "    </tr>\n",
       "    <tr>\n",
       "      <th>5</th>\n",
       "      <td>@Raja5aab @Quickieleaks Yes, the test of god i...</td>\n",
       "      <td>not_cyberbullying</td>\n",
       "      <td>23</td>\n",
       "      <td>131</td>\n",
       "      <td>username username yes test god good bad indiff...</td>\n",
       "    </tr>\n",
       "    <tr>\n",
       "      <th>6</th>\n",
       "      <td>Itu sekolah ya bukan tempat bully! Ga jauh kay...</td>\n",
       "      <td>not_cyberbullying</td>\n",
       "      <td>10</td>\n",
       "      <td>54</td>\n",
       "      <td>itu sekolah ya bukan tempat bully ga jauh kaya...</td>\n",
       "    </tr>\n",
       "    <tr>\n",
       "      <th>7</th>\n",
       "      <td>Karma. I hope it bites Kat on the butt. She is...</td>\n",
       "      <td>not_cyberbullying</td>\n",
       "      <td>14</td>\n",
       "      <td>63</td>\n",
       "      <td>karma hope bites kat butt nasty mkr</td>\n",
       "    </tr>\n",
       "    <tr>\n",
       "      <th>8</th>\n",
       "      <td>@stockputout everything but mostly my priest</td>\n",
       "      <td>not_cyberbullying</td>\n",
       "      <td>6</td>\n",
       "      <td>44</td>\n",
       "      <td>username everything mostly priest</td>\n",
       "    </tr>\n",
       "    <tr>\n",
       "      <th>9</th>\n",
       "      <td>Rebecca Black Drops Out of School Due to Bully...</td>\n",
       "      <td>not_cyberbullying</td>\n",
       "      <td>9</td>\n",
       "      <td>50</td>\n",
       "      <td>rebecca black drops school due bullying</td>\n",
       "    </tr>\n",
       "  </tbody>\n",
       "</table>\n",
       "</div>"
      ],
      "text/plain": [
       "                                          tweet_text cyberbullying_type  \\\n",
       "0  In other words #katandandre, your food was cra...  not_cyberbullying   \n",
       "1  Why is #aussietv so white? #MKR #theblock #ImA...  not_cyberbullying   \n",
       "2  @XochitlSuckkks a classy whore? Or more red ve...  not_cyberbullying   \n",
       "3  @Jason_Gio meh. :P  thanks for the heads up, b...  not_cyberbullying   \n",
       "4  @RudhoeEnglish This is an ISIS account pretend...  not_cyberbullying   \n",
       "5  @Raja5aab @Quickieleaks Yes, the test of god i...  not_cyberbullying   \n",
       "6  Itu sekolah ya bukan tempat bully! Ga jauh kay...  not_cyberbullying   \n",
       "7  Karma. I hope it bites Kat on the butt. She is...  not_cyberbullying   \n",
       "8       @stockputout everything but mostly my priest  not_cyberbullying   \n",
       "9  Rebecca Black Drops Out of School Due to Bully...  not_cyberbullying   \n",
       "\n",
       "   word_count  tweet_length                                         clean_text  \n",
       "0           9            61            words katandandre food crapilicious mkr  \n",
       "1          14           115  aussietv white mkr theblock imacelebrityau tod...  \n",
       "2           9            60          username classy whore red velvet cupcakes  \n",
       "3          19           103  username meh p thanks heads concerned another ...  \n",
       "4          19           103  username isis account pretending kurdish accou...  \n",
       "5          23           131  username username yes test god good bad indiff...  \n",
       "6          10            54  itu sekolah ya bukan tempat bully ga jauh kaya...  \n",
       "7          14            63                karma hope bites kat butt nasty mkr  \n",
       "8           6            44                  username everything mostly priest  \n",
       "9           9            50            rebecca black drops school due bullying  "
      ]
     },
     "execution_count": 12,
     "metadata": {},
     "output_type": "execute_result"
    }
   ],
   "source": [
    "# Cleaning a bit\n",
    "# Mutating text column\n",
    "tweets[\"clean_text\"] = tweets[\"tweet_text\"].apply(remove_usernames)\n",
    "tweets[\"clean_text\"] = tweets[\"clean_text\"].apply(remove_hashtag)\n",
    "tweets[\"clean_text\"] = tweets[\"clean_text\"].apply(remove_punctuation)\n",
    "tweets[\"clean_text\"] = tweets[\"clean_text\"].apply(remove_stop_words)\n",
    "# I bet python has a pipe function I dont know about\n",
    "tweets.head(10)"
   ]
  }
 ],
 "metadata": {
  "kernelspec": {
   "display_name": "Python 3 (ipykernel)",
   "language": "python",
   "name": "python3"
  },
  "language_info": {
   "codemirror_mode": {
    "name": "ipython",
    "version": 3
   },
   "file_extension": ".py",
   "mimetype": "text/x-python",
   "name": "python",
   "nbconvert_exporter": "python",
   "pygments_lexer": "ipython3",
   "version": "3.9.12"
  }
 },
 "nbformat": 4,
 "nbformat_minor": 5
}
