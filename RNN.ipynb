{
 "cells": [
  {
   "cell_type": "code",
   "execution_count": 21,
   "id": "36065912",
   "metadata": {},
   "outputs": [
    {
     "name": "stdout",
     "output_type": "stream",
     "text": [
      "Using device: cuda\n",
      "\n"
     ]
    }
   ],
   "source": [
    "import pandas as pd\n",
    "import numpy as np\n",
    "import matplotlib.pyplot as plt\n",
    "from sklearn.model_selection import train_test_split\n",
    "from sklearn.preprocessing import LabelEncoder\n",
    "from sklearn.metrics import confusion_matrix\n",
    "import torch\n",
    "import torch.nn as nn\n",
    "import torch.optim as optim\n",
    "import seaborn as sns\n",
    "from torch.utils.data import DataLoader, Dataset\n",
    "import nltk\n",
    "from transformers import BertTokenizer\n",
    "\n",
    "# Check GPU Utility\n",
    "device = torch.device('cuda' if torch.cuda.is_available() else 'cpu')\n",
    "print('Using device:', device)\n",
    "print()"
   ]
  },
  {
   "cell_type": "code",
   "execution_count": 2,
   "id": "c45c9b33",
   "metadata": {},
   "outputs": [
    {
     "data": {
      "text/html": [
       "<div>\n",
       "<style scoped>\n",
       "    .dataframe tbody tr th:only-of-type {\n",
       "        vertical-align: middle;\n",
       "    }\n",
       "\n",
       "    .dataframe tbody tr th {\n",
       "        vertical-align: top;\n",
       "    }\n",
       "\n",
       "    .dataframe thead th {\n",
       "        text-align: right;\n",
       "    }\n",
       "</style>\n",
       "<table border=\"1\" class=\"dataframe\">\n",
       "  <thead>\n",
       "    <tr style=\"text-align: right;\">\n",
       "      <th></th>\n",
       "      <th>Unnamed: 0</th>\n",
       "      <th>tweet_text</th>\n",
       "      <th>cyberbullying_type</th>\n",
       "      <th>lang</th>\n",
       "      <th>mentioned_users</th>\n",
       "      <th>hashtags</th>\n",
       "    </tr>\n",
       "  </thead>\n",
       "  <tbody>\n",
       "    <tr>\n",
       "      <th>0</th>\n",
       "      <td>0</td>\n",
       "      <td>word food crapilicious</td>\n",
       "      <td>not_cyberbullying</td>\n",
       "      <td>en</td>\n",
       "      <td>NaN</td>\n",
       "      <td>katandandre mkr</td>\n",
       "    </tr>\n",
       "    <tr>\n",
       "      <th>1</th>\n",
       "      <td>1</td>\n",
       "      <td>white</td>\n",
       "      <td>not_cyberbullying</td>\n",
       "      <td>en</td>\n",
       "      <td>NaN</td>\n",
       "      <td>aussietv MKR theblock ImACelebrityAU today sun...</td>\n",
       "    </tr>\n",
       "    <tr>\n",
       "      <th>2</th>\n",
       "      <td>2</td>\n",
       "      <td>@username classy whore red velvet cupcake</td>\n",
       "      <td>not_cyberbullying</td>\n",
       "      <td>en</td>\n",
       "      <td>XochitlSuckkks</td>\n",
       "      <td>NaN</td>\n",
       "    </tr>\n",
       "    <tr>\n",
       "      <th>3</th>\n",
       "      <td>3</td>\n",
       "      <td>@username meh p thanks head concern angry dude...</td>\n",
       "      <td>not_cyberbullying</td>\n",
       "      <td>en</td>\n",
       "      <td>Jason_Gio</td>\n",
       "      <td>NaN</td>\n",
       "    </tr>\n",
       "    <tr>\n",
       "      <th>4</th>\n",
       "      <td>4</td>\n",
       "      <td>@username isi account pretend kurdish account ...</td>\n",
       "      <td>not_cyberbullying</td>\n",
       "      <td>en</td>\n",
       "      <td>RudhoeEnglish</td>\n",
       "      <td>NaN</td>\n",
       "    </tr>\n",
       "  </tbody>\n",
       "</table>\n",
       "</div>"
      ],
      "text/plain": [
       "   Unnamed: 0                                         tweet_text  \\\n",
       "0           0                             word food crapilicious   \n",
       "1           1                                              white   \n",
       "2           2          @username classy whore red velvet cupcake   \n",
       "3           3  @username meh p thanks head concern angry dude...   \n",
       "4           4  @username isi account pretend kurdish account ...   \n",
       "\n",
       "  cyberbullying_type lang mentioned_users  \\\n",
       "0  not_cyberbullying   en             NaN   \n",
       "1  not_cyberbullying   en             NaN   \n",
       "2  not_cyberbullying   en  XochitlSuckkks   \n",
       "3  not_cyberbullying   en       Jason_Gio   \n",
       "4  not_cyberbullying   en   RudhoeEnglish   \n",
       "\n",
       "                                            hashtags  \n",
       "0                                    katandandre mkr  \n",
       "1  aussietv MKR theblock ImACelebrityAU today sun...  \n",
       "2                                                NaN  \n",
       "3                                                NaN  \n",
       "4                                                NaN  "
      ]
     },
     "execution_count": 2,
     "metadata": {},
     "output_type": "execute_result"
    }
   ],
   "source": [
    "tweets = pd.read_csv(\"data/cleaned/nohashtag_cleaned_lemmatized_english.csv\")\n",
    "tweets.head()"
   ]
  },
  {
   "cell_type": "code",
   "execution_count": 3,
   "id": "64c42dca",
   "metadata": {},
   "outputs": [],
   "source": [
    "tweets = tweets.drop('Unnamed: 0', axis = 1)"
   ]
  },
  {
   "cell_type": "code",
   "execution_count": 4,
   "id": "51081a67",
   "metadata": {},
   "outputs": [
    {
     "data": {
      "text/plain": [
       "(44660, 5)"
      ]
     },
     "execution_count": 4,
     "metadata": {},
     "output_type": "execute_result"
    }
   ],
   "source": [
    "tweets.shape"
   ]
  },
  {
   "cell_type": "code",
   "execution_count": 5,
   "id": "238467ca",
   "metadata": {},
   "outputs": [
    {
     "data": {
      "text/plain": [
       "tweet_text               26\n",
       "cyberbullying_type        0\n",
       "lang                      0\n",
       "mentioned_users       28106\n",
       "hashtags              38160\n",
       "dtype: int64"
      ]
     },
     "execution_count": 5,
     "metadata": {},
     "output_type": "execute_result"
    }
   ],
   "source": [
    "tweets.isna().sum()"
   ]
  },
  {
   "cell_type": "code",
   "execution_count": 6,
   "id": "fd4571a4",
   "metadata": {},
   "outputs": [],
   "source": [
    "tweets['tweet_text'] = tweets['tweet_text'].fillna('<UNK>')\n",
    "tweets['tweet_text'] = tweets['tweet_text'].replace('nan', '<UNK>')\n",
    "tweets['hashtags'] = tweets['hashtags'].fillna('<NO_HASHTAG>')\n",
    "tweets['mentioned_users'] = tweets['mentioned_users'].fillna('<NO_mentioned_users>')"
   ]
  },
  {
   "cell_type": "code",
   "execution_count": 7,
   "id": "4479a4ac",
   "metadata": {},
   "outputs": [
    {
     "data": {
      "text/plain": [
       "tweet_text            0\n",
       "cyberbullying_type    0\n",
       "lang                  0\n",
       "mentioned_users       0\n",
       "hashtags              0\n",
       "dtype: int64"
      ]
     },
     "execution_count": 7,
     "metadata": {},
     "output_type": "execute_result"
    }
   ],
   "source": [
    "tweets.isna().sum()"
   ]
  },
  {
   "cell_type": "code",
   "execution_count": 8,
   "id": "70edba03",
   "metadata": {},
   "outputs": [
    {
     "data": {
      "text/plain": [
       "Index(['tweet_text', 'cyberbullying_type', 'lang', 'mentioned_users',\n",
       "       'hashtags'],\n",
       "      dtype='object')"
      ]
     },
     "execution_count": 8,
     "metadata": {},
     "output_type": "execute_result"
    }
   ],
   "source": [
    "tweets.columns"
   ]
  },
  {
   "cell_type": "code",
   "execution_count": 9,
   "id": "66d4a821",
   "metadata": {},
   "outputs": [
    {
     "data": {
      "text/plain": [
       "array(['not_cyberbullying', 'gender', 'religion', 'other_cyberbullying',\n",
       "       'age', 'ethnicity'], dtype=object)"
      ]
     },
     "execution_count": 9,
     "metadata": {},
     "output_type": "execute_result"
    }
   ],
   "source": [
    "tweets.cyberbullying_type.unique()"
   ]
  },
  {
   "cell_type": "code",
   "execution_count": 10,
   "id": "500baa8f",
   "metadata": {},
   "outputs": [],
   "source": [
    "tweets['cyberbullying_type'] = tweets['cyberbullying_type'].astype('category')"
   ]
  },
  {
   "cell_type": "code",
   "execution_count": 11,
   "id": "c3eb9d5b",
   "metadata": {},
   "outputs": [],
   "source": [
    "train_data, test_data = train_test_split(tweets, test_size = 0.2, random_state = 20)\n",
    "train_data, val_data = train_test_split(train_data, test_size = 0.25, random_state = 20)"
   ]
  },
  {
   "cell_type": "code",
   "execution_count": 58,
   "id": "d742cf86",
   "metadata": {},
   "outputs": [],
   "source": [
    "label_to_int = {\n",
    "    'not_cyberbullying': 0,\n",
    "    'gender': 1,\n",
    "    'religion': 2,\n",
    "    'other_cyberbullying': 3,\n",
    "    'age': 4,\n",
    "    'ethnicity': 5\n",
    "}\n",
    "\n",
    "class TweetDataset(Dataset):\n",
    "    def __init__(self, data, tokenizer, max_len = 128):\n",
    "        self.data = data\n",
    "        self.tokenizer = tokenizer\n",
    "        self.max_len = max_len\n",
    "    \n",
    "\n",
    "    def __len__(self):\n",
    "        return len(self.data)\n",
    "    \n",
    "    def __getitem__(self, idx):\n",
    "        input_text = self.data.iloc[idx]['tweet_text'] \n",
    "        label = label_to_int[self.data.iloc[idx]['cyberbullying_type']]\n",
    "        try:\n",
    "            encoding = self.tokenizer.encode_plus(input_text, max_length=self.max_len, padding='max_length', truncation=True, return_tensors='pt')\n",
    "        except Exception as e:\n",
    "            print(f\"Error at idx={idx}, input_text='{input_text}': {e}\")\n",
    "            raise e\n",
    "        return{\n",
    "            'input_ids': encoding['input_ids'].flatten(),\n",
    "            'attention_mask': encoding['attention_mask'].flatten(),\n",
    "            'label':torch.tensor(label, dtype=torch.long)\n",
    "        }\n",
    "\n",
    "tokenizer = BertTokenizer.from_pretrained('bert-base-uncased')\n",
    "train_dataset = TweetDataset(train_data, tokenizer)\n",
    "val_dataset = TweetDataset(val_data, tokenizer)\n",
    "test_dataset = TweetDataset(test_data, tokenizer)\n",
    "\n",
    "train_loader = DataLoader(train_dataset, batch_size=32, shuffle=True, drop_last=True)\n",
    "val_loader = DataLoader(val_dataset, batch_size=32, shuffle=False, drop_last=True)\n",
    "test_loader = DataLoader(test_dataset, batch_size=32, shuffle=False, drop_last=True)"
   ]
  },
  {
   "cell_type": "code",
   "execution_count": 13,
   "id": "1c692dc0",
   "metadata": {},
   "outputs": [],
   "source": [
    "class RNNClassifier(nn.Module):\n",
    "    def __init__(self, input_dim, embedding_dim, hidden_dim, output_dim, n_layers, bidirectional, dropout):\n",
    "        super().__init__()\n",
    "        \n",
    "        self.embedding = nn.Embedding(input_dim, embedding_dim)\n",
    "        #Used GRU as it is faster to train than LSTM and solves the vanishing gradient problem\n",
    "        self.rnn = nn.GRU(embedding_dim, hidden_dim, num_layers = n_layers, bidirectional=bidirectional, dropout = dropout, batch_first = True)\n",
    "        if bidirectional:\n",
    "            input_dim = hidden_dim * 2\n",
    "        else:\n",
    "            input_dim = hidden_dim\n",
    "        self.fc = nn.Linear(input_dim, output_dim)\n",
    "        self.dropout = nn.Dropout(dropout)\n",
    "    \n",
    "    def forward(self, x):\n",
    "        embedded = self.dropout(self.embedding(x))\n",
    "        #print(embedded)\n",
    "        output, hidden = self.rnn(embedded)\n",
    "        \n",
    "        if self.rnn.bidirectional:\n",
    "            hidden = torch.cat((hidden[-2, :, :], hidden[-1, :, :]), dim=1)\n",
    "        else:\n",
    "            hidden = hidden[-1, :, :]\n",
    "        logits = self.fc(hidden)\n",
    "        return logits.view(x.size(0), -1)\n",
    "        "
   ]
  },
  {
   "cell_type": "code",
   "execution_count": 14,
   "id": "0984d7c5",
   "metadata": {},
   "outputs": [],
   "source": [
    "#Hyperparameters:\n",
    "VOCAB_SIZE = len(tokenizer.vocab)\n",
    "EMBEDDING_DIM = 128\n",
    "HIDDEN_DIM = 256\n",
    "NUM_CLASSES = len(np.unique(tweets['cyberbullying_type']))\n",
    "N_LAYERS = 2\n",
    "BIDIRECTIONAL = True\n",
    "DROPOUT = 0.4\n",
    "#BATCH_SIZE = 32"
   ]
  },
  {
   "cell_type": "code",
   "execution_count": 15,
   "id": "51cc912e",
   "metadata": {},
   "outputs": [],
   "source": [
    "model = RNNClassifier(VOCAB_SIZE, EMBEDDING_DIM, HIDDEN_DIM, NUM_CLASSES, N_LAYERS, BIDIRECTIONAL, DROPOUT).to(device)\n",
    "\n",
    "optimizer = optim.Adam(model.parameters()) #Using Adam Optimizer\n",
    "criterion = nn.CrossEntropyLoss().to(device) #Using CrossEntropyLoss function\n",
    "\n",
    "\n",
    "def train(model, iterator, optimizer, criterion):\n",
    "    epoch_loss = 0\n",
    "    epoch_accuracy = 0\n",
    "    \n",
    "    #model.train()\n",
    "    \n",
    "    for batch in iterator:\n",
    "        optimizer.zero_grad() #Clears the gradients of all optimized model parameters before calculating the next backward pass\n",
    "        input_ids = batch['input_ids'].to(device)\n",
    "        #print(input_ids)\n",
    "        attention_mask = batch['attention_mask'].to(device)\n",
    "        labels = batch['label'].view(-1).to(device)\n",
    "        \n",
    "        with torch.cuda.amp.autocast():\n",
    "            predictions = model(input_ids)\n",
    "            loss = criterion(predictions, labels) \n",
    "        #print(predictions.argmax(1))\n",
    "        accuracy = (predictions.argmax(1) == labels).float().mean()\n",
    "        \n",
    "        loss.backward() #Computes the gradients of the loss with respect to model parameters \n",
    "        optimizer.step() #updates the parameters using the optimizer.\n",
    "        \n",
    "        epoch_loss += loss.item()\n",
    "        epoch_accuracy += accuracy.item()\n",
    "        \n",
    "    return epoch_loss / len(iterator), epoch_accuracy / len(iterator) #Calculates loss and accuracy across all batches in the epoch, and returns them as a tuple.\n",
    "    "
   ]
  },
  {
   "cell_type": "code",
   "execution_count": 16,
   "id": "e3b5a77d",
   "metadata": {},
   "outputs": [],
   "source": [
    "def evaluate(model, iterator,criterion):\n",
    "    epoch_loss = 0\n",
    "    epoch_accuracy = 0\n",
    "    \n",
    "    #model.eval()\n",
    "    \n",
    "    with torch.no_grad():\n",
    "        for batch in iterator:\n",
    "            input_ids = batch['input_ids'].to(device)\n",
    "            attention_mask = batch['attention_mask'].to(device)\n",
    "            labels = batch['label'].to(device)\n",
    "            \n",
    "            predictions = model(input_ids)\n",
    "        \n",
    "            loss = criterion(predictions, labels)\n",
    "            #print(loss.item())\n",
    "            accuracy = (predictions.argmax(1) == labels).float().mean()\n",
    "        \n",
    "            epoch_loss += loss.item()\n",
    "            #print(epoch_loss)\n",
    "            epoch_accuracy += accuracy.item()\n",
    "        \n",
    "    return epoch_loss / len(iterator), epoch_accuracy  / len(iterator)"
   ]
  },
  {
   "cell_type": "code",
   "execution_count": 65,
   "id": "c1a3b5cb",
   "metadata": {},
   "outputs": [],
   "source": [
    "def evaluate_matrix(model, iterator):\n",
    "    epoch_loss = 0\n",
    "    epoch_accuracy = 0\n",
    "    #prediction_list = []\n",
    "    #label_list = []\n",
    "    pred_vec = np.zeros((len(iterator), 32))\n",
    "    label_vec = np.zeros((len(iterator), 32))\n",
    "    \n",
    "    with torch.no_grad():\n",
    "        for i, batch in enumerate(iterator):\n",
    "            input_ids = batch['input_ids'].to(device)\n",
    "            attention_mask = batch['attention_mask'].to(device)\n",
    "            labels = batch['label'].numpy()\n",
    "            predictions = model(input_ids).argmax(1).cpu().numpy()\n",
    "            #print(predictions)\n",
    "            #print(i)\n",
    "            pred_vec[i] = predictions\n",
    "            label_vec[i] = labels\n",
    "        \n",
    "    return pred_vec, label_vec"
   ]
  },
  {
   "cell_type": "code",
   "execution_count": 17,
   "id": "c2614c65",
   "metadata": {},
   "outputs": [
    {
     "name": "stdout",
     "output_type": "stream",
     "text": [
      "Epoch: 0\n",
      "Train Loss: 0.648 | Train Acc: 72.07%\n",
      "Test Loss: 0.500 | Test Acc: 78.65%\n",
      "----------------------------------------\n",
      "Epoch: 1\n",
      "Train Loss: 0.451 | Train Acc: 80.30%\n",
      "Test Loss: 0.460 | Test Acc: 80.00%\n",
      "----------------------------------------\n",
      "Epoch: 2\n",
      "Train Loss: 0.410 | Train Acc: 82.16%\n",
      "Test Loss: 0.454 | Test Acc: 80.70%\n",
      "----------------------------------------\n",
      "Epoch: 3\n",
      "Train Loss: 0.382 | Train Acc: 83.55%\n",
      "Test Loss: 0.442 | Test Acc: 81.13%\n",
      "----------------------------------------\n",
      "Epoch: 4\n",
      "Train Loss: 0.361 | Train Acc: 84.73%\n",
      "Test Loss: 0.438 | Test Acc: 81.70%\n",
      "----------------------------------------\n"
     ]
    }
   ],
   "source": [
    "EPOCHS = 5\n",
    "\n",
    "total_training_loss = np.zeros(EPOCHS)\n",
    "total_testing_loss = np.zeros(EPOCHS)\n",
    "\n",
    "for i, epoch in enumerate(range(EPOCHS)):\n",
    "    train_loss, train_acc = train(model, train_loader, optimizer, criterion)\n",
    "    test_loss, test_acc = evaluate(model, test_loader, criterion)\n",
    "    # Append loss to vector for graphing\n",
    "    total_training_loss[i] = train_loss\n",
    "    total_testing_loss[i] = test_loss\n",
    "    \n",
    "    if epoch % 1 == 0:\n",
    "        print(f'Epoch: {epoch}')\n",
    "        print(f'Train Loss: {train_loss:.3f} | Train Acc: {train_acc * 100:.2f}%')\n",
    "        print(f'Test Loss: {test_loss:.3f} | Test Acc: {test_acc * 100:.2f}%')\n",
    "        print('----------------------------------------')\n",
    "\n",
    "#test_loss, test_acc = evaluate(model, test_loader, criterion)\n",
    "#print(f'Test Loss: {test_loss:.3f} | Test Acc: {test_acc * 100:.2f}%')"
   ]
  },
  {
   "cell_type": "code",
   "execution_count": 64,
   "id": "36fcceca",
   "metadata": {
    "scrolled": true
   },
   "outputs": [
    {
     "name": "stdout",
     "output_type": "stream",
     "text": [
      "[1 4 3 2 2 2 3 2 0 2 2 4 1 4 2 2 3 3 3 1 0 1 1 1 1 2 1 4 3 0 4 5]\n",
      "[4 1 2 5 5 2 3 4 4 0 5 5 3 2 1 5 3 1 1 2 0 3 4 5 2 4 3 2 5 1 1 2]\n",
      "[2 1 2 2 4 0 4 0 0 0 5 0 1 5 4 1 2 0 5 0 3 2 2 3 4 3 2 0 5 4 1 1]\n",
      "[4 4 2 2 1 4 3 4 1 3 2 2 5 0 4 4 3 0 0 4 4 3 0 4 3 5 5 3 4 2 1 1]\n",
      "[1 0 2 1 3 2 1 3 1 4 1 3 5 3 5 0 4 2 5 4 4 2 5 4 4 0 5 3 0 1 1 4]\n",
      "[0 4 2 4 4 1 5 1 2 4 0 3 5 2 2 2 3 0 3 0 0 1 2 1 4 2 1 3 1 3 1 0]\n",
      "[2 1 2 4 3 1 3 1 1 5 4 1 0 5 5 3 1 2 0 3 2 5 4 4 2 2 1 0 0 5 2 2]\n",
      "[3 4 4 0 3 2 1 0 2 2 0 4 4 4 2 0 4 4 5 4 5 4 4 2 5 1 3 0 4 1 3 5]\n",
      "[2 1 5 2 4 4 2 0 5 1 3 5 5 0 2 0 3 0 3 3 0 1 1 5 5 4 4 0 3 5 3 1]\n",
      "[2 5 1 0 4 5 3 3 5 5 5 5 1 4 1 1 0 1 5 2 0 3 3 5 1 4 5 2 1 5 4 2]\n",
      "[2 1 2 1 1 4 2 5 2 1 4 4 0 1 2 0 3 1 3 2 0 0 0 2 4 4 0 5 1 5 2 4]\n",
      "[2 4 1 4 5 1 1 1 4 3 0 4 4 0 3 0 5 4 5 1 1 4 5 3 0 5 4 2 5 5 2 4]\n",
      "[2 3 0 1 5 4 3 4 2 3 0 1 3 0 5 2 4 1 3 0 4 4 2 1 1 4 1 0 2 2 5 1]\n",
      "[4 2 4 1 2 5 3 4 5 4 0 4 1 0 2 3 4 4 0 1 0 2 1 2 0 1 0 2 0 3 1 3]\n",
      "[1 0 3 1 5 3 5 5 2 3 1 1 1 4 0 2 3 2 3 5 3 2 3 5 1 2 0 1 1 5 3 3]\n",
      "[5 0 2 5 4 0 3 3 4 1 4 4 3 2 5 5 4 3 5 1 1 2 3 1 4 3 1 4 0 1 5 0]\n",
      "[1 5 0 0 0 4 5 5 4 4 4 2 5 4 3 0 4 4 5 5 4 1 2 1 1 5 3 4 1 0 3 4]\n",
      "[5 5 0 0 1 5 5 5 5 1 2 5 4 4 3 4 0 1 1 0 0 3 4 2 2 2 2 4 3 1 1 4]\n",
      "[1 5 0 1 0 5 4 5 0 4 5 3 1 5 0 4 0 2 4 0 1 5 4 5 4 5 3 4 4 3 4 3]\n",
      "[4 2 5 2 0 4 4 0 2 4 0 2 5 0 2 3 3 5 1 0 4 3 0 4 0 2 2 4 5 2 4 1]\n",
      "[2 1 3 1 1 1 4 0 3 4 1 1 0 2 0 5 3 1 4 2 5 1 5 3 1 4 5 5 2 5 0 3]\n",
      "[0 4 0 1 0 2 3 2 5 3 5 1 3 5 3 4 4 4 4 0 1 0 0 5 1 3 4 5 3 3 4 2]\n",
      "[0 2 0 0 0 5 2 4 5 3 4 5 1 4 0 0 5 1 1 0 0 3 0 1 4 5 0 0 1 4 4 3]\n",
      "[0 5 0 4 1 4 2 0 4 5 5 3 2 2 0 1 5 2 0 4 3 1 5 1 2 3 2 4 0 2 1 1]\n",
      "[4 0 4 2 4 5 1 1 5 4 5 2 0 1 2 1 3 0 4 5 2 3 4 5 4 3 5 2 5 1 4 0]\n",
      "[4 0 4 4 0 1 2 2 1 4 2 1 3 3 0 0 1 5 5 2 3 2 1 3 0 3 5 3 4 5 5 3]\n",
      "[0 5 4 1 0 5 5 4 5 3 1 2 1 1 1 2 4 2 4 0 2 1 3 0 5 3 0 5 2 4 3 4]\n",
      "[4 2 4 5 1 0 1 3 4 3 0 3 1 0 4 1 2 4 5 0 2 0 5 0 2 3 5 0 4 0 4 4]\n",
      "[5 4 3 0 3 3 2 0 4 1 3 5 1 0 2 3 3 2 3 1 0 5 2 3 1 5 4 1 4 3 0 0]\n",
      "[5 1 1 3 0 4 3 5 2 0 2 1 1 3 2 3 3 0 3 3 2 4 4 2 2 5 0 0 5 0 2 3]\n",
      "[5 1 0 2 5 0 3 0 3 2 4 0 0 3 4 4 3 5 4 3 3 2 1 3 2 4 5 3 2 4 2 0]\n",
      "[1 0 5 4 2 3 0 0 4 5 0 0 1 3 0 1 2 5 1 2 0 4 4 1 2 0 2 4 1 0 0 5]\n",
      "[1 0 0 0 5 4 1 1 0 5 1 1 1 5 2 3 0 2 3 5 5 3 1 0 3 5 1 1 5 0 0 4]\n",
      "[0 0 5 5 0 5 0 0 3 2 0 5 4 5 4 2 4 4 5 0 3 1 0 5 4 1 4 2 4 1 0 3]\n",
      "[3 4 4 3 0 5 3 3 5 3 4 5 3 3 0 1 5 1 1 4 4 0 2 4 0 5 4 5 0 2 2 2]\n",
      "[2 1 3 3 1 2 4 0 1 1 2 3 5 2 4 0 5 5 2 5 5 5 1 2 3 2 0 4 0 2 5 1]\n",
      "[4 2 3 3 1 5 4 5 0 5 5 2 5 1 5 5 0 5 3 2 0 5 4 2 2 0 5 0 4 2 5 5]\n",
      "[5 4 5 0 5 2 0 1 0 2 0 5 2 5 4 5 4 0 0 4 0 3 5 3 4 5 0 3 3 2 0 2]\n",
      "[1 4 0 4 4 2 4 0 5 4 5 2 4 5 2 3 5 3 4 5 4 0 4 1 2 1 3 1 3 4 2 5]\n",
      "[0 5 4 0 0 3 2 5 4 3 1 2 3 5 5 0 3 1 2 3 1 3 5 3 5 4 1 5 2 4 0 3]\n",
      "[5 1 2 1 4 3 1 2 3 1 4 0 2 3 0 1 0 1 1 0 0 0 5 5 3 1 1 3 1 5 1 2]\n",
      "[3 4 1 5 4 0 4 3 3 2 2 4 4 1 1 0 1 1 1 0 1 0 2 1 5 0 4 5 3 0 0 0]\n",
      "[2 5 4 4 2 2 1 0 3 5 0 2 1 4 2 1 3 5 3 1 3 3 0 2 4 5 3 2 2 5 3 3]\n",
      "[0 3 4 5 5 1 2 0 5 0 3 5 3 1 1 5 3 2 5 2 4 1 0 4 5 4 1 0 4 0 3 1]\n",
      "[5 0 1 1 4 2 4 3 3 3 2 4 1 0 5 4 3 2 4 4 5 4 0 4 4 5 1 1 4 1 5 1]\n",
      "[1 5 4 5 1 1 4 4 0 4 1 5 5 2 1 0 0 3 3 0 4 0 0 0 3 0 0 4 2 5 0 2]\n",
      "[4 1 0 3 4 5 3 0 5 0 4 2 0 5 4 5 0 1 1 2 5 1 0 3 5 1 4 4 3 0 4 3]\n",
      "[1 1 2 4 5 1 4 0 4 4 0 2 5 0 1 5 2 5 5 5 4 4 4 4 4 2 1 4 1 3 0 3]\n",
      "[0 0 0 4 5 0 2 3 4 4 0 0 0 3 5 5 3 4 0 2 0 4 5 2 2 0 2 3 1 3 0 4]\n",
      "[4 2 0 2 5 3 1 4 4 5 3 4 0 0 0 2 4 0 5 2 4 4 1 2 4 2 4 2 2 4 5 5]\n",
      "[4 1 5 3 3 3 0 3 0 5 5 3 0 3 5 2 5 0 4 4 1 4 5 2 2 4 5 3 4 4 1 5]\n",
      "[4 5 0 2 2 2 4 4 2 0 1 4 1 3 4 2 2 4 0 0 3 1 5 2 0 4 3 4 4 2 0 3]\n",
      "[3 2 4 2 5 0 1 4 2 0 0 4 5 4 5 2 3 5 0 5 5 1 2 1 4 3 5 1 0 4 3 1]\n",
      "[3 5 0 0 2 5 2 0 1 4 0 5 1 5 4 2 4 5 3 4 2 1 5 4 2 5 0 4 3 1 1 5]\n",
      "[5 2 1 0 4 4 1 4 4 5 3 1 0 2 3 0 2 1 4 2 4 5 0 3 4 4 0 1 2 4 0 1]\n",
      "[1 4 5 5 5 1 5 3 0 4 0 5 1 4 1 1 3 5 4 3 0 2 1 3 5 4 3 2 2 0 1 2]\n",
      "[0 3 1 1 4 1 3 5 1 2 0 5 4 5 3 5 2 3 5 2 1 4 1 5 4 0 5 3 2 1 2 3]\n",
      "[2 2 3 4 0 5 5 0 2 3 1 1 2 4 1 0 0 5 4 4 5 0 5 2 1 4 2 2 1 2 3 2]\n",
      "[0 4 3 1 1 4 0 5 5 1 3 2 2 3 0 3 0 1 1 4 2 5 0 1 5 2 4 1 4 0 0 4]\n",
      "[2 5 0 4 4 1 5 0 1 0 2 2 5 5 0 0 1 3 4 0 3 2 5 2 3 0 5 1 5 2 4 1]\n",
      "[5 5 3 1 5 2 2 3 2 4 0 1 5 1 3 4 2 2 4 3 5 0 3 1 2 2 4 3 1 2 4 2]\n",
      "[2 1 3 3 3 1 3 1 5 1 0 0 4 4 5 5 3 3 5 2 3 3 5 1 0 3 5 1 5 4 1 2]\n",
      "[0 4 4 0 5 4 1 4 5 4 0 2 3 3 5 1 5 5 5 1 2 4 4 1 4 3 0 4 3 4 1 4]\n",
      "[2 3 2 1 4 2 5 0 0 0 3 1 3 3 3 0 1 4 4 3 2 1 0 1 0 5 3 5 3 0 5 0]\n",
      "[4 4 1 2 2 3 0 3 4 2 0 2 2 1 4 5 2 0 2 1 5 4 2 1 2 5 5 2 3 5 3 0]\n",
      "[5 4 1 1 4 3 0 4 2 0 1 2 5 2 5 2 3 2 0 3 4 2 4 5 4 4 5 3 5 0 3 4]\n",
      "[2 2 4 3 4 0 4 3 2 5 2 3 0 5 2 0 2 3 2 2 2 4 3 1 4 5 2 1 5 5 0 5]\n",
      "[1 1 4 5 3 5 5 3 2 0 5 1 1 4 4 2 4 3 5 0 5 5 5 5 4 3 4 1 4 2 0 4]\n",
      "[1 3 0 5 0 5 4 1 0 0 1 4 5 0 5 3 5 2 1 3 3 3 3 0 2 1 0 2 5 0 2 5]\n",
      "[0 2 2 3 4 0 2 1 2 2 5 5 3 4 1 1 0 0 2 2 2 2 2 5 4 1 4 4 0 3 5 5]\n",
      "[0 3 4 4 0 5 1 1 5 2 3 5 1 5 0 1 5 0 4 5 3 1 5 0 0 2 0 4 4 5 5 2]\n",
      "[2 2 5 5 1 3 2 4 5 3 2 2 2 2 3 3 1 5 1 3 2 5 2 4 1 2 5 5 2 3 4 2]\n",
      "[1 3 4 3 1 5 5 4 1 0 4 4 1 4 3 5 2 2 2 3 4 1 1 4 2 0 0 0 2 2 1 3]\n",
      "[3 2 5 2 3 5 5 4 3 1 4 1 5 4 1 1 4 4 5 4 3 1 1 0 2 4 5 5 1 1 0 3]\n",
      "[2 0 2 3 5 2 1 3 1 0 4 5 3 2 1 3 1 1 2 2 5 5 4 1 3 4 5 0 4 2 5 2]\n",
      "[3 2 5 5 4 2 5 5 3 3 5 0 1 5 4 5 2 5 3 5 3 0 5 0 2 3 4 0 2 0 2 5]\n",
      "[1 0 0 3 2 3 2 0 0 2 4 0 0 4 4 1 4 0 2 4 4 5 4 1 1 4 2 1 0 0 4 5]\n",
      "[3 4 0 1 2 1 4 5 0 0 3 4 1 2 1 2 2 5 4 5 1 5 0 0 0 1 4 0 0 0 5 0]\n",
      "[3 3 5 5 4 0 5 4 3 1 4 3 1 5 5 3 5 4 4 5 1 0 0 4 3 0 3 5 4 3 3 1]\n",
      "[1 5 3 1 3 5 5 1 2 4 4 2 4 3 2 2 3 0 1 3 2 4 2 2 4 3 2 4 0 2 0 3]\n",
      "[1 0 0 1 2 4 4 4 4 3 2 0 2 4 0 2 5 1 5 0 3 5 1 4 2 4 4 5 0 0 2 1]\n",
      "[1 0 2 3 4 5 3 0 0 2 3 4 1 4 3 5 4 1 4 5 0 0 0 0 0 2 3 4 1 0 5 1]\n",
      "[5 0 1 4 3 3 0 1 2 5 0 4 4 5 4 1 3 0 0 2 1 0 5 4 0 3 1 3 4 3 5 2]\n",
      "[1 0 5 0 3 0 2 2 1 5 5 3 5 3 2 0 5 0 5 3 1 0 5 2 2 3 5 0 0 0 1 2]\n",
      "[0 4 0 2 1 3 0 2 4 1 5 4 0 5 4 4 5 3 5 3 2 2 4 0 0 5 1 2 0 1 1 4]\n",
      "[1 4 5 5 3 3 5 0 4 5 5 3 3 4 4 0 2 4 4 2 5 1 1 5 3 5 1 2 0 5 4 2]\n",
      "[3 2 2 3 3 4 5 2 0 1 5 4 0 4 4 4 4 0 3 5 1 0 3 0 2 0 2 0 2 4 4 5]\n",
      "[5 2 1 0 1 3 4 5 4 2 0 3 3 4 4 4 4 1 2 3 2 4 3 0 5 0 0 3 0 4 4 1]\n",
      "[5 5 2 2 3 0 3 3 0 2 3 2 3 3 1 4 2 4 2 2 2 0 1 5 0 2 2 5 1 3 1 2]\n",
      "[1 5 0 0 4 0 4 5 3 3 2 5 4 5 2 2 1 3 2 5 4 0 5 5 1 3 1 0 5 0 1 2]\n",
      "[4 4 3 2 0 3 3 4 2 3 3 2 2 2 0 0 2 5 1 1 3 3 2 0 5 2 1 1 2 3 0 3]\n",
      "[0 4 3 4 5 1 0 4 4 5 4 1 2 3 3 5 2 1 2 2 0 5 2 3 5 5 0 0 0 4 4 1]\n",
      "[4 3 4 5 1 5 3 5 4 0 3 0 5 3 3 5 2 5 0 5 1 0 5 0 3 4 0 4 3 1 4 4]\n",
      "[5 3 2 2 1 3 4 5 4 4 3 0 1 4 0 4 3 2 3 5 5 5 0 4 5 4 3 0 2 1 4 0]\n",
      "[3 1 1 0 1 2 2 2 3 2 4 4 2 3 1 4 5 3 3 5 0 4 1 3 0 4 4 4 4 4 2 5]\n",
      "[2 0 2 5 4 4 0 0 3 5 4 2 4 0 4 0 3 2 2 1 0 0 4 4 4 2 0 4 2 4 2 2]\n",
      "[1 1 3 3 1 0 5 0 2 1 5 4 1 0 3 0 3 0 4 4 0 0 3 0 5 1 2 0 1 2 1 1]\n",
      "[4 5 4 2 5 2 4 4 5 0 4 3 5 2 1 3 5 2 0 5 3 5 3 0 2 1 0 2 1 1 1 0]\n",
      "[5 0 1 2 3 3 4 2 5 2 0 0 5 2 2 0 5 3 2 3 3 0 3 2 0 0 4 5 3 0 0 4]\n",
      "[3 4 4 2 5 4 0 4 1 1 3 5 0 5 5 3 0 3 2 2 4 4 3 0 5 5 5 4 3 3 0 3]\n",
      "[2 1 0 4 1 2 1 4 3 3 0 4 0 0 0 5 5 0 2 3 0 4 4 3 0 2 5 1 1 2 0 2]\n",
      "[2 3 1 1 5 2 1 2 4 1 2 4 2 2 4 4 4 2 3 5 3 3 3 0 1 0 4 5 4 4 0 3]\n",
      "[5 3 2 1 0 0 1 0 0 3 3 4 2 2 5 2 3 2 4 3 2 2 0 3 4 3 2 3 5 4 5 5]\n",
      "[4 1 0 1 2 0 0 3 0 2 3 0 0 3 3 4 2 5 3 3 0 0 3 1 5 4 2 5 4 1 3 2]\n",
      "[5 3 1 3 5 1 4 4 4 3 1 1 2 1 4 4 0 4 4 5 4 4 3 3 1 2 0 5 3 0 3 0]\n",
      "[3 2 5 5 2 2 0 1 1 3 4 5 4 5 0 2 2 1 2 3 4 3 1 5 1 0 4 4 0 4 2 4]\n",
      "[2 5 2 3 4 2 1 4 5 3 5 4 2 3 5 0 3 5 4 1 5 0 2 1 1 0 3 1 5 1 5 0]\n",
      "[3 5 4 0 1 2 1 0 4 2 4 1 1 5 0 3 4 0 5 4 4 2 2 5 1 2 1 0 4 4 2 0]\n",
      "[3 4 1 3 4 2 5 0 1 0 4 0 5 2 5 2 3 3 1 4 2 1 4 2 2 1 3 3 0 2 2 5]\n",
      "[5 0 0 0 1 1 2 2 5 2 0 2 4 4 1 1 1 2 3 4 3 4 4 1 4 5 0 5 2 4 0 4]\n",
      "[1 2 1 3 1 4 4 2 4 1 2 0 4 4 3 4 0 3 2 1 0 4 0 4 2 2 1 4 2 2 4 2]\n",
      "[5 4 1 4 4 1 1 3 4 0 2 4 5 0 2 3 2 5 0 5 3 5 4 0 2 2 5 0 2 5 0 1]\n",
      "[5 3 5 5 2 2 1 2 2 2 2 0 2 3 0 4 0 3 1 5 1 5 4 2 4 3 4 3 2 5 0 0]\n",
      "[5 0 1 5 0 3 3 5 0 4 2 3 2 3 5 1 0 3 0 5 0 4 1 3 0 2 3 5 1 5 5 3]\n",
      "[3 2 5 1 5 3 5 1 5 5 4 4 5 0 5 1 3 1 0 0 3 2 3 0 0 1 1 1 1 3 0 1]\n",
      "[4 4 2 4 5 1 4 1 4 3 1 5 3 5 3 2 2 5 5 3 4 0 3 5 3 3 0 3 2 2 3 1]\n",
      "[2 0 0 5 4 5 4 3 0 1 1 4 3 3 5 2 5 0 2 4 2 5 1 4 2 2 4 1 1 2 5 1]\n",
      "[5 4 5 2 2 1 2 0 1 0 3 4 3 3 2 4 1 4 2 0 2 0 5 2 3 0 4 3 4 2 5 4]\n",
      "[2 3 4 1 1 5 0 4 2 0 0 4 1 0 2 4 3 2 1 5 5 1 4 0 0 2 1 5 3 1 3 5]\n",
      "[5 3 5 5 3 5 2 1 5 4 0 0 3 5 2 0 4 1 4 3 5 4 0 0 4 0 2 2 3 4 0 5]\n",
      "[2 4 4 3 3 1 3 2 0 0 0 0 5 2 5 3 1 1 2 2 3 0 4 0 1 1 5 3 4 4 1 0]\n",
      "[4 4 4 3 0 0 3 5 1 1 5 1 0 5 1 4 4 3 3 5 0 3 5 4 4 1 2 1 3 5 0 4]\n",
      "[2 5 5 4 4 5 4 5 0 5 4 4 4 5 5 3 1 1 1 0 2 4 1 2 1 0 2 2 3 5 0 5]\n",
      "[1 4 2 0 5 4 2 3 5 0 1 2 4 0 1 3 0 4 3 3 1 2 2 3 3 5 0 1 3 1 1 0]\n",
      "[2 2 0 4 0 3 4 5 4 0 1 0 3 2 1 4 2 2 4 3 0 0 0 4 1 4 3 1 1 1 2 2]\n",
      "[4 5 5 4 2 1 2 3 4 4 2 3 2 0 4 4 4 2 3 0 3 4 1 3 2 0 5 2 3 0 5 1]\n",
      "[0 4 5 2 5 2 5 3 0 3 2 4 0 3 1 2 0 1 5 1 2 4 3 3 4 4 5 4 3 2 0 2]\n"
     ]
    },
    {
     "name": "stdout",
     "output_type": "stream",
     "text": [
      "[2 3 4 3 4 1 2 5 0 2 1 2 4 5 5 5 0 0 2 2 5 4 2 5 5 4 0 0 5 4 4 4]\n",
      "[2 2 1 1 4 4 5 4 0 2 1 0 2 2 0 2 0 5 3 3 2 0 0 2 4 4 5 4 2 0 3 3]\n",
      "[2 4 1 3 5 1 4 1 5 5 5 0 2 0 4 2 0 5 4 3 3 2 2 2 3 2 5 0 0 0 1 1]\n",
      "[4 3 3 1 3 4 1 3 1 5 3 1 2 0 3 4 5 3 5 1 0 2 5 4 3 0 3 3 0 0 3 1]\n",
      "[0 4 0 4 4 2 2 5 1 1 5 2 4 3 0 3 4 5 0 5 2 1 2 5 4 3 1 2 2 2 4 2]\n",
      "[2 0 1 4 4 0 0 2 3 4 3 3 0 1 3 1 1 2 0 4 0 5 3 2 5 2 5 0 1 2 1 5]\n",
      "[2 5 0 4 5 3 0 3 5 3 3 0 0 0 3 1 2 3 4 1 4 3 1 4 3 3 2 3 5 3 1 3]\n",
      "[1 1 0 3 0 4 1 0 2 5 0 3 3 2 1 0 2 2 1 3 4 4 2 2 5 4 2 3 2 1 5 4]\n",
      "[1 2 0 4 0 5 0 1 5 1 1 0 0 1 5 2 0 0 2 0 5 4 3 4 2 5 4 5 2 0 2 5]\n",
      "[2 3 1 3 3 3 4 5 4 4 5 4 5 1 0 4 1 3 2 4 4 5 0 5 1 2 2 3 2 5 4 4]\n",
      "[0 5 4 3 5 4 0 5 5 4 1 4 2 5 0 2 5 3 1 2 0 2 2 3 4 4 1 2 1 4 4 4]\n",
      "[0 5 5 4 2 3 3 3 2 2 3 2 4 3 0 0 3 4 3 1 4 1 5 4 5 1 4 5 3 5 0 0]\n",
      "[2 5 2 2 1 4 3 2 4 1 4 0 2 4 4 5 1 1 5 1 2 3 2 3 4 3 3 0 5 0 2 1]\n",
      "[0 2 4 0 3 5 1 3 1 0 2 5 5 0 3 1 4 5 0 0 3 3 4 3 5 0 0 1 2 3 3 5]\n",
      "[5 4 2 5 4 1 1 0 3 0 0 2 1 5 5 5 4 2 2 1 4 4 4 0 1 2 2 5 5 5 3 2]\n",
      "[4 2 2 2 2 5 2 5 4 5 4 2 0 0 0 1 3 5 5 1 5 1 4 5 3 0 5 4 3 3 5 2]\n",
      "[1 4 4 3 5 2 2 0 4 5 3 5 5 3 3 0 4 4 4 5 1 3 1 2 0 0 4 5 1 3 0 1]\n",
      "[2 0 3 2 4 2 1 1 3 1 0 2 2 3 0 2 3 4 1 5 5 4 4 0 0 2 3 3 1 2 1 4]\n",
      "[1 2 1 4 1 1 0 2 5 0 3 0 1 3 3 3 5 1 5 5 3 0 0 0 4 2 3 0 2 3 5 2]\n",
      "[2 0 1 2 2 1 4 2 3 5 2 3 4 3 5 2 4 5 2 1 5 2 2 5 3 4 5 2 3 3 5 1]\n",
      "[5 2 3 1 1 1 4 1 0 3 0 0 0 2 4 2 3 0 0 2 1 3 2 2 4 3 0 2 4 3 2 1]\n",
      "[4 3 3 3 3 2 5 2 3 0 4 3 4 5 0 4 2 4 2 2 0 5 5 2 5 4 1 5 4 0 0 5]\n",
      "[2 5 0 1 2 4 1 0 1 4 2 0 1 5 4 4 2 4 2 2 2 3 1 0 4 2 4 3 5 5 4 5]\n",
      "[4 0 2 1 1 3 4 1 0 0 0 0 2 0 4 4 3 0 2 5 3 0 0 5 2 3 1 3 2 4 4 3]\n",
      "[5 5 3 1 3 3 2 2 1 5 4 1 2 4 0 5 5 2 0 3 1 1 2 3 0 0 3 1 1 4 4 3]\n",
      "[4 0 5 2 0 2 1 0 1 2 0 4 4 5 3 2 2 2 1 1 1 3 0 4 1 0 5 1 4 3 1 3]\n",
      "[2 5 0 1 2 1 4 1 4 0 3 4 4 0 5 1 4 4 5 2 1 4 5 5 3 1 3 3 1 2 4 2]\n",
      "[3 1 2 4 1 3 1 2 0 3 5 4 0 3 5 1 0 5 2 1 5 1 1 5 0 2 3 3 3 0 5 3]\n",
      "[1 0 4 0 3 5 5 3 2 0 2 5 5 3 5 5 5 1 5 4 1 0 0 3 0 5 3 0 0 1 0 1]\n",
      "[0 4 3 1 4 2 2 4 4 3 2 3 2 1 5 2 3 0 2 5 0 5 3 0 2 1 5 0 1 5 2 2]\n",
      "[5 1 1 1 4 2 4 0 5 1 4 3 0 0 5 0 2 1 3 2 1 1 4 1 4 2 2 2 4 5 4 4]\n",
      "[4 5 2 4 5 4 5 5 5 5 2 3 1 2 0 3 0 1 1 3 1 5 4 4 4 0 2 4 5 2 2 2]\n",
      "[3 3 0 4 4 2 0 4 4 4 1 2 2 0 4 5 5 1 0 4 3 2 1 2 4 3 4 2 5 2 0 2]\n",
      "[3 5 4 4 2 0 1 3 1 4 0 3 5 4 2 0 0 4 0 5 4 4 3 2 1 2 0 4 4 3 4 1]\n",
      "[2 4 4 1 3 1 5 3 3 4 5 5 5 0 2 2 2 0 2 0 5 0 5 3 5 0 1 2 0 5 3 4]\n",
      "[0 3 4 0 1 4 3 1 4 4 5 0 0 3 0 2 5 2 3 1 1 2 4 2 4 2 3 5 2 0 0 3]\n",
      "[5 0 2 1 1 2 2 3 4 2 0 3 4 2 3 3 4 1 1 5 5 3 0 2 0 5 0 0 2 0 4 1]\n",
      "[2 1 2 0 4 4 4 2 3 1 4 5 0 3 4 4 2 0 0 2 4 3 1 0 0 5 5 2 1 0 5 0]\n",
      "[1 5 4 1 1 1 3 4 2 2 0 1 0 5 5 2 2 0 0 1 1 4 1 1 1 3 5 3 4 4 2 5]\n",
      "[0 3 4 4 5 1 3 0 4 5 4 0 0 1 0 4 0 0 1 0 4 0 0 1 3 0 4 1 5 4 3 4]\n",
      "[2 2 2 3 4 5 4 1 3 1 0 2 2 1 4 4 5 2 0 4 0 4 0 5 0 0 3 3 4 3 4 5]\n",
      "[3 4 4 5 2 2 3 1 0 0 1 1 5 5 2 2 5 1 3 3 0 2 5 5 0 5 0 2 0 3 4 1]\n",
      "[2 2 0 0 2 4 5 5 0 4 3 1 4 1 3 4 2 5 1 5 1 4 3 4 0 5 0 2 5 1 5 1]\n",
      "[2 2 3 2 2 5 5 2 0 4 0 1 1 1 5 2 4 4 1 0 0 1 1 4 0 1 4 2 1 3 4 1]\n",
      "[3 2 2 4 2 0 1 2 5 0 5 5 1 0 5 3 3 5 4 5 3 2 3 0 4 4 4 2 1 1 1 1]\n",
      "[1 5 3 1 4 2 5 1 0 4 3 0 0 4 0 1 2 5 0 3 1 4 4 0 5 3 5 1 0 0 2 1]\n",
      "[1 1 5 4 0 0 0 5 1 5 4 1 1 1 5 5 3 0 5 0 5 3 4 1 4 1 3 0 4 4 3 1]\n",
      "[2 3 1 1 2 2 3 2 3 3 4 2 1 2 4 3 5 0 3 2 4 0 0 5 5 4 5 0 3 5 4 2]\n",
      "[5 3 2 5 1 4 3 2 0 1 4 1 2 0 4 1 0 5 5 2 2 2 2 2 1 0 2 2 0 4 1 2]\n",
      "[3 5 5 5 0 3 4 5 3 4 1 5 5 2 5 2 1 2 0 5 2 1 2 1 3 1 5 1 2 2 1 3]\n",
      "[4 1 2 5 3 2 4 1 4 0 1 1 1 3 0 1 3 2 0 4 4 0 2 2 2 3 3 3 2 4 5 5]\n",
      "[0 3 5 0 1 1 0 4 4 5 1 3 1 1 2 4 4 4 0 5 2 0 3 4 5 4 5 2 3 2 3 2]\n",
      "[4 0 3 0 4 4 3 0 0 5 2 1 0 1 0 1 4 4 2 0 2 4 3 2 0 4 4 4 0 4 4 3]\n",
      "[0 4 1 2 4 3 3 5 5 2 4 3 4 2 2 1 3 0 0 3 2 4 1 5 2 4 2 0 1 4 2 2]\n",
      "[0 5 5 3 0 3 1 2 5 4 0 0 3 2 2 1 2 5 5 5 3 1 0 4 5 4 3 5 3 1 5 1]\n",
      "[0 2 1 0 3 0 3 3 2 1 3 2 4 0 2 5 2 1 2 3 3 5 5 1 0 5 3 4 3 0 2 5]\n",
      "[1 0 1 5 5 1 1 0 3 1 1 2 1 5 1 0 2 1 2 1 0 0 3 4 0 0 0 2 1 0 5 1]\n",
      "[1 2 2 1 1 4 4 0 4 3 4 0 3 5 4 3 0 0 4 5 4 4 2 5 5 5 3 2 1 2 0 4]\n",
      "[1 4 0 4 0 4 3 3 4 2 1 4 2 5 3 3 2 1 1 2 4 4 3 3 1 1 3 5 0 5 3 4]\n",
      "[5 5 1 4 5 5 1 4 0 1 4 1 4 2 2 1 5 2 5 0 1 1 2 1 0 3 4 2 4 1 0 5]\n",
      "[0 5 2 0 1 0 2 2 5 5 4 5 3 4 3 0 1 2 2 1 5 0 0 0 1 4 3 0 3 4 1 4]\n",
      "[5 5 2 4 4 2 4 0 3 3 3 0 0 0 4 0 5 2 2 4 4 1 2 4 5 3 1 5 1 2 4 0]\n",
      "[0 5 1 5 5 3 4 4 1 3 1 4 3 1 2 1 0 2 0 1 1 2 1 0 1 4 5 4 4 3 5 4]\n",
      "[4 1 2 0 4 4 3 5 0 0 1 4 5 5 3 2 0 5 0 5 4 3 4 3 1 2 4 3 2 2 4 1]\n",
      "[4 4 0 4 1 1 3 0 5 5 5 4 5 3 2 2 4 5 3 3 1 3 0 2 5 5 0 0 2 1 3 5]\n",
      "[0 2 3 4 3 4 1 1 2 1 5 5 0 2 4 3 5 0 4 4 2 3 2 2 2 1 5 0 3 5 3 4]\n",
      "[5 2 2 3 3 5 0 0 2 4 1 4 1 1 0 0 5 0 0 4 1 5 3 5 0 1 2 4 1 3 4 0]\n",
      "[4 1 2 3 3 2 3 1 1 0 4 1 3 2 3 5 5 3 0 2 1 0 0 2 3 3 4 2 4 2 0 0]\n",
      "[5 5 4 1 0 0 0 1 5 0 2 5 0 4 1 0 1 4 4 1 2 5 0 0 5 4 4 3 4 4 2 1]\n",
      "[2 5 3 3 2 0 2 0 5 3 2 0 0 0 5 0 2 2 2 1 0 2 1 0 2 0 3 0 0 2 4 5]\n",
      "[3 5 2 4 5 5 0 2 3 2 4 1 2 3 0 1 5 1 1 4 3 4 3 4 5 4 1 2 0 4 1 4]\n",
      "[1 4 0 2 4 4 0 1 5 1 0 3 1 4 1 5 5 3 3 2 3 4 0 2 2 0 5 4 5 4 4 0]\n",
      "[5 1 2 0 1 0 3 1 1 4 1 2 3 5 5 0 3 1 0 2 1 0 2 3 2 4 0 4 3 3 3 2]\n",
      "[2 3 4 5 2 3 1 3 1 2 0 3 5 2 3 3 4 2 4 1 1 4 0 1 4 5 5 2 2 0 2 1]\n",
      "[0 1 2 5 0 3 5 4 3 5 1 1 0 3 5 5 2 3 2 1 5 3 1 3 0 2 3 3 2 1 5 0]\n",
      "[1 5 5 0 2 5 5 0 2 0 3 3 3 2 3 1 1 0 1 0 1 5 5 0 1 2 5 0 2 5 0 1]\n",
      "[5 5 3 4 0 0 4 2 2 0 5 3 1 3 0 3 4 1 1 3 0 3 0 1 2 3 4 2 4 2 1 1]\n",
      "[2 4 0 3 1 2 0 5 0 1 1 0 5 0 4 2 4 3 3 0 2 2 3 1 1 2 3 5 0 5 1 1]\n",
      "[4 3 4 4 2 5 1 1 2 5 0 4 3 2 4 5 1 2 4 4 3 1 3 3 1 0 1 5 0 5 2 5]\n",
      "[4 0 1 0 3 1 2 4 0 0 0 5 3 4 1 2 5 0 5 3 1 4 5 2 3 1 4 2 4 0 5 4]\n",
      "[0 0 4 0 3 2 1 4 2 1 5 5 0 2 0 3 3 3 2 2 1 2 3 5 2 4 4 3 1 0 4 4]\n",
      "[0 3 0 3 2 1 4 5 2 3 0 2 5 5 5 2 3 4 3 5 2 4 4 5 2 1 3 3 3 3 4 5]\n",
      "[0 0 0 5 5 4 4 3 3 0 0 5 2 5 1 4 4 1 1 4 1 5 3 4 2 0 4 5 5 0 5 4]\n",
      "[4 4 1 0 3 2 2 1 5 3 0 2 2 5 4 3 1 5 4 2 1 3 1 1 4 4 5 3 4 4 4 0]\n",
      "[2 3 3 2 5 0 1 3 4 4 3 1 0 0 5 4 0 4 2 2 5 3 1 4 5 1 5 2 2 1 3 0]\n",
      "[1 1 1 4 1 0 3 2 3 1 1 1 4 5 3 4 5 4 2 2 2 2 0 1 2 1 3 5 5 1 1 5]\n",
      "[5 3 2 2 3 1 0 3 0 1 5 2 3 2 4 4 1 4 5 5 1 1 3 0 0 0 3 4 1 2 4 4]\n",
      "[3 2 4 1 4 3 3 1 3 2 1 4 2 3 4 2 5 3 0 5 2 4 2 2 3 4 1 5 3 2 4 2]\n",
      "[5 4 1 2 4 3 0 5 4 0 4 0 3 5 0 4 4 3 0 4 3 2 0 4 0 5 5 3 1 5 4 0]\n",
      "[1 3 1 0 2 5 0 1 4 4 0 5 4 4 0 1 3 5 0 2 3 5 3 5 4 5 5 5 2 1 2 0]\n",
      "[0 5 5 1 0 5 1 2 5 0 4 0 2 4 1 4 2 4 2 1 2 4 5 5 1 2 3 3 0 1 5 3]\n",
      "[2 2 2 5 4 3 3 3 5 1 4 2 3 3 2 3 4 3 5 2 1 0 2 2 0 2 2 2 1 1 5 0]\n",
      "[0 0 5 1 5 2 3 3 5 5 1 0 4 1 3 1 1 1 1 0 3 4 5 4 0 1 0 2 4 0 0 5]\n",
      "[5 5 5 0 3 4 5 5 2 2 5 3 1 1 3 3 3 2 3 2 0 1 2 4 2 5 1 4 1 3 0 5]\n",
      "[2 4 4 0 4 2 3 3 2 1 5 5 0 4 1 3 1 5 1 1 3 1 4 2 5 5 4 1 5 2 5 4]\n",
      "[5 2 0 1 2 0 4 2 0 4 3 1 0 3 4 2 2 3 1 4 3 3 2 5 1 3 5 1 1 1 3 1]\n",
      "[3 1 2 4 4 3 5 3 1 2 5 5 2 2 5 4 5 1 1 4 2 4 5 5 3 4 2 2 0 2 5 2]\n",
      "[3 0 3 4 1 0 3 0 0 5 3 3 4 5 2 5 1 5 2 5 5 5 3 4 5 1 3 0 1 0 5 2]\n",
      "[1 1 0 2 0 1 3 5 1 0 5 3 0 0 3 4 4 3 0 5 5 4 3 4 0 0 2 2 3 2 0 4]\n",
      "[0 1 5 4 3 2 0 0 2 1 0 0 5 4 4 4 3 1 5 0 2 2 3 4 4 4 4 2 1 1 5 1]\n",
      "[0 1 3 3 5 4 0 3 2 0 3 1 5 0 1 5 0 3 2 2 3 0 3 0 2 2 1 0 5 4 1 1]\n",
      "[2 3 1 4 0 0 1 5 4 3 4 4 4 4 3 5 4 3 3 5 2 2 4 3 2 0 4 1 2 4 3 2]\n",
      "[1 5 2 4 4 4 0 4 5 2 2 0 1 4 1 3 4 4 2 4 5 4 1 1 5 2 1 1 1 1 1 3]\n",
      "[1 4 0 4 4 1 5 0 4 2 5 3 0 4 4 3 3 3 2 0 4 4 3 0 1 3 2 3 2 2 2 2]\n",
      "[1 1 4 4 2 0 1 5 3 3 5 0 2 4 3 5 3 2 3 2 1 0 0 5 0 5 1 1 1 2 2 1]\n",
      "[4 4 2 0 5 3 4 4 5 1 3 4 3 0 3 1 2 0 4 2 4 4 5 4 3 0 1 5 1 4 3 1]\n",
      "[4 2 0 4 2 1 5 4 3 2 5 1 2 5 5 2 1 4 0 4 0 4 2 1 4 1 4 4 4 5 4 3]\n",
      "[2 0 5 4 4 2 5 2 3 5 3 0 1 5 0 1 3 4 3 2 3 4 2 2 4 5 0 0 1 2 4 0]\n",
      "[2 2 2 4 5 4 2 3 0 5 5 3 1 2 3 4 0 2 3 1 0 1 5 2 0 3 4 5 0 5 2 5]\n",
      "[0 0 1 5 2 2 5 3 3 1 5 1 5 3 4 4 0 4 1 2 5 1 4 0 1 5 4 3 4 0 4 3]\n",
      "[0 3 4 2 2 5 4 1 2 1 1 4 5 4 1 2 2 3 2 1 5 1 1 4 0 0 2 5 5 3 4 2]\n",
      "[3 5 5 4 1 1 2 2 2 3 2 5 3 4 0 0 5 0 4 4 1 1 1 4 0 2 2 3 4 0 3 0]\n",
      "[2 3 0 0 3 2 3 0 5 1 2 2 1 2 2 1 2 5 3 1 3 1 3 0 2 1 4 2 5 1 5 1]\n",
      "[4 2 4 0 2 3 4 1 2 3 5 2 5 2 1 3 0 3 2 4 5 5 0 1 2 1 3 3 2 4 3 4]\n",
      "[5 3 5 3 0 2 3 5 0 2 3 0 3 4 5 0 5 4 0 5 2 1 5 0 0 5 2 1 5 4 5 2]\n",
      "[1 2 0 2 3 0 3 3 1 3 2 4 3 5 0 2 0 0 3 0 5 3 4 0 0 2 0 5 2 3 0 4]\n",
      "[1 3 4 4 3 4 1 3 1 2 3 4 3 4 5 4 2 3 0 5 0 4 0 3 4 1 3 5 4 1 0 4]\n",
      "[4 5 4 4 3 3 0 3 5 4 2 2 4 0 2 0 2 5 0 4 0 4 4 2 2 2 2 5 2 0 4 4]\n",
      "[5 2 0 1 5 0 0 1 3 5 5 3 3 3 5 0 0 2 4 3 4 3 2 5 4 1 1 0 5 1 3 5]\n",
      "[3 3 1 5 4 5 2 3 5 5 5 2 4 2 3 0 5 5 5 5 3 1 4 1 3 4 1 3 5 4 5 1]\n",
      "[0 4 4 1 3 2 4 1 0 5 5 4 2 5 4 5 0 3 4 1 4 5 4 5 0 1 0 5 2 3 0 0]\n",
      "[2 5 2 1 5 1 5 3 2 2 4 5 2 1 4 5 4 5 4 5 4 2 0 5 3 1 0 2 3 4 2 4]\n",
      "[0 4 2 3 5 2 3 0 1 3 0 2 1 4 2 1 4 5 5 5 5 3 3 2 4 2 2 1 2 0 0 0]\n",
      "[4 4 5 1 0 0 0 4 5 1 2 3 2 0 0 4 2 1 2 2 5 3 5 1 4 3 4 1 1 1 0 4]\n",
      "[0 1 0 4 5 3 1 3 0 4 4 4 5 5 4 1 5 4 4 0 1 0 3 0 5 1 4 5 5 4 5 2]\n",
      "[1 4 2 0 2 1 5 5 0 0 1 2 0 4 4 3 5 1 3 4 0 4 5 4 1 3 2 0 0 4 0 2]\n",
      "[4 3 1 5 1 2 3 1 2 3 1 5 4 3 4 0 0 1 5 1 4 3 4 2 4 3 5 1 4 2 5 0]\n",
      "[0 0 1 0 2 2 5 4 0 3 5 2 4 5 3 4 5 0 5 0 0 0 5 4 0 1 1 4 3 1 0 3]\n"
     ]
    },
    {
     "name": "stdout",
     "output_type": "stream",
     "text": [
      "[1 0 3 5 0 2 5 5 4 4 3 2 5 3 3 4 5 5 4 3 5 1 3 1 0 4 1 5 4 5 5 4]\n",
      "[5 1 1 5 4 2 0 2 1 1 1 0 5 2 1 5 5 1 1 5 4 2 0 4 4 1 5 5 3 0 4 0]\n",
      "[3 1 2 0 1 3 5 4 0 3 5 2 2 2 3 5 4 1 1 3 2 5 0 3 3 5 1 0 1 4 0 2]\n",
      "[4 0 1 2 5 2 1 4 5 0 3 1 4 4 0 3 1 1 3 4 1 0 1 3 5 3 2 3 2 0 2 2]\n",
      "[1 5 5 4 1 2 5 0 1 5 1 3 0 3 1 0 3 3 0 2 4 0 0 3 4 1 0 3 4 5 1 0]\n",
      "[2 5 5 4 0 0 1 2 5 2 1 2 0 1 1 3 0 5 1 2 1 3 0 0 0 2 5 5 4 3 3 5]\n",
      "[4 5 2 4 2 5 4 2 5 5 0 3 1 4 5 3 5 4 2 1 1 5 5 5 0 1 0 1 1 4 0 0]\n",
      "[5 5 2 1 0 1 4 1 2 5 4 3 5 3 1 4 3 0 0 2 1 4 5 1 0 1 1 0 2 5 5 1]\n",
      "[0 5 5 5 0 2 2 1 0 1 0 2 4 4 3 3 0 5 3 2 2 1 3 1 1 4 1 2 5 1 3 1]\n",
      "[3 3 0 2 4 3 2 2 1 2 4 3 4 2 4 0 4 3 4 0 1 0 4 2 5 5 5 1 1 5 2 3]\n",
      "[4 3 3 0 4 4 4 3 4 0 2 1 5 4 0 0 5 0 4 5 1 3 0 3 0 3 5 2 5 4 1 3]\n",
      "[2 2 2 1 3 4 2 0 0 0 0 1 3 0 3 1 2 3 2 3 5 1 0 0 4 2 4 5 4 5 0 4]\n",
      "[2 0 5 5 4 1 2 0 5 0 0 0 2 2 1 1 3 2 5 5 3 1 3 4 5 0 0 5 3 5 1 1]\n",
      "[4 2 1 1 0 5 5 2 4 2 0 1 2 0 0 4 4 5 4 2 4 0 4 2 0 2 3 2 0 2 2 3]\n",
      "[2 0 1 3 5 3 4 1 3 2 0 5 1 2 4 0 2 3 2 4 3 5 3 1 5 1 0 0 5 3 4 5]\n",
      "[1 2 5 5 2 5 2 2 1 4 0 1 5 2 1 1 0 2 0 3 4 0 4 5 1 1 3 1 1 2 5 1]\n",
      "[2 0 4 4 0 5 2 5 0 4 2 3 2 2 5 2 5 0 4 0 3 5 4 4 0 3 3 5 4 4 0 1]\n",
      "[2 0 1 4 1 2 3 5 3 1 2 1 5 2 2 2 3 3 4 5 2 4 2 0 3 3 4 2 3 5 2 2]\n",
      "[0 5 2 1 4 3 4 0 3 4 4 4 0 2 2 3 3 3 1 0 4 1 1 0 2 5 0 2 2 4 2 5]\n",
      "[3 3 4 4 0 3 1 1 1 2 5 2 1 0 3 4 1 5 1 1 3 1 0 2 3 1 1 4 2 5 4 3]\n",
      "[2 3 2 1 5 5 0 3 2 3 4 4 2 1 4 4 3 2 5 0 4 4 5 0 4 5 1 3 0 4 4 2]\n",
      "[4 5 5 1 4 3 5 4 5 5 0 0 3 0 1 0 2 4 2 2 0 3 5 2 2 1 0 4 1 3 5 1]\n",
      "[0 5 1 5 2 0 1 5 5 1 3 3 0 0 0 1 1 2 2 5 2 4 2 5 5 3 4 2 2 3 2 2]\n",
      "[3 4 0 4 3 4 2 0 5 3 3 4 2 3 5 2 2 3 5 2 2 2 1 1 5 0 4 1 3 5 0 3]\n"
     ]
    }
   ],
   "source": [
    "preds, labels = evaluate_matrix(model, test_loader)"
   ]
  },
  {
   "cell_type": "code",
   "execution_count": 70,
   "id": "9030a0c1",
   "metadata": {},
   "outputs": [],
   "source": [
    "preds = preds.flatten()\n",
    "labels = labels.flatten()"
   ]
  },
  {
   "cell_type": "code",
   "execution_count": 71,
   "id": "a92b261d",
   "metadata": {},
   "outputs": [
    {
     "name": "stdout",
     "output_type": "stream",
     "text": [
      "[[ 754  124   58  533   22   14]\n",
      " [  92 1226   13   81    2    7]\n",
      " [  59    8 1456    1    0    7]\n",
      " [ 429  123   18  779   13   21]\n",
      " [  18    9    1   14 1561    3]\n",
      " [  11    1    3    5    3 1459]] \n",
      "\n"
     ]
    },
    {
     "data": {
      "image/png": "[encoded data removed]",
      "text/plain": [
       "<Figure size 640x480 with 2 Axes>"
      ]
     },
     "metadata": {},
     "output_type": "display_data"
    }
   ],
   "source": [
    "cm = confusion_matrix(preds, labels)\n",
    "print(cm, '\\n')\n",
    "ax = sns.heatmap(cm)\n",
    "ax.set(xlabel=\"RNN Model Prediction\", ylabel=\"True Label\")\n",
    "ax.xaxis.tick_top()"
   ]
  },
  {
   "cell_type": "code",
   "execution_count": 73,
   "id": "c4fdb8a7",
   "metadata": {},
   "outputs": [
    {
     "data": {
      "text/plain": [
       "[<matplotlib.lines.Line2D at 0x1a44570af40>]"
      ]
     },
     "execution_count": 73,
     "metadata": {},
     "output_type": "execute_result"
    },
    {
     "data": {
      "image/png": "[encoded data removed]",
      "text/plain": [
       "<Figure size 640x480 with 1 Axes>"
      ]
     },
     "metadata": {},
     "output_type": "display_data"
    }
   ],
   "source": [
    "plt.plot(range(EPOCHS), total_training_loss)"
   ]
  },
  {
   "cell_type": "code",
   "execution_count": null,
   "id": "2b4c7966",
   "metadata": {},
   "outputs": [],
   "source": []
  }
 ],
 "metadata": {
  "kernelspec": {
   "display_name": "Python 3 (ipykernel)",
   "language": "python",
   "name": "python3"
  },
  "language_info": {
   "codemirror_mode": {
    "name": "ipython",
    "version": 3
   },
   "file_extension": ".py",
   "mimetype": "text/x-python",
   "name": "python",
   "nbconvert_exporter": "python",
   "pygments_lexer": "ipython3",
   "version": "3.9.15"
  }
 },
 "nbformat": 4,
 "nbformat_minor": 5
}
