{
 "cells": [
  {
   "cell_type": "code",
   "execution_count": 1,
   "id": "36065912",
   "metadata": {},
   "outputs": [
    {
     "name": "stdout",
     "output_type": "stream",
     "text": [
      "Using device: cuda\n",
      "\n"
     ]
    }
   ],
   "source": [
    "import pandas as pd\n",
    "import numpy as np\n",
    "import matplotlib.pyplot as plt\n",
    "from sklearn.model_selection import train_test_split\n",
    "from sklearn.preprocessing import LabelEncoder\n",
    "from sklearn.metrics import confusion_matrix\n",
    "import torch\n",
    "import torch.nn as nn\n",
    "import torch.optim as optim\n",
    "import seaborn as sns\n",
    "from torch.utils.data import DataLoader, Dataset\n",
    "import nltk\n",
    "from transformers import BertTokenizer\n",
    "\n",
    "# Check GPU Utility\n",
    "device = torch.device('cuda' if torch.cuda.is_available() else 'cpu')\n",
    "print('Using device:', device)\n",
    "print()"
   ]
  },
  {
   "cell_type": "code",
   "execution_count": 2,
   "id": "c45c9b33",
   "metadata": {},
   "outputs": [
    {
     "data": {
      "text/html": [
       "<div>\n",
       "<style scoped>\n",
       "    .dataframe tbody tr th:only-of-type {\n",
       "        vertical-align: middle;\n",
       "    }\n",
       "\n",
       "    .dataframe tbody tr th {\n",
       "        vertical-align: top;\n",
       "    }\n",
       "\n",
       "    .dataframe thead th {\n",
       "        text-align: right;\n",
       "    }\n",
       "</style>\n",
       "<table border=\"1\" class=\"dataframe\">\n",
       "  <thead>\n",
       "    <tr style=\"text-align: right;\">\n",
       "      <th></th>\n",
       "      <th>Unnamed: 0</th>\n",
       "      <th>tweet_text</th>\n",
       "      <th>cyberbullying_type</th>\n",
       "      <th>lang</th>\n",
       "      <th>mentioned_users</th>\n",
       "      <th>hashtags</th>\n",
       "    </tr>\n",
       "  </thead>\n",
       "  <tbody>\n",
       "    <tr>\n",
       "      <th>0</th>\n",
       "      <td>0</td>\n",
       "      <td>word food crapilicious</td>\n",
       "      <td>not_cyberbullying</td>\n",
       "      <td>en</td>\n",
       "      <td>NaN</td>\n",
       "      <td>katandandre mkr</td>\n",
       "    </tr>\n",
       "    <tr>\n",
       "      <th>1</th>\n",
       "      <td>1</td>\n",
       "      <td>white</td>\n",
       "      <td>not_cyberbullying</td>\n",
       "      <td>en</td>\n",
       "      <td>NaN</td>\n",
       "      <td>aussietv MKR theblock ImACelebrityAU today sun...</td>\n",
       "    </tr>\n",
       "    <tr>\n",
       "      <th>2</th>\n",
       "      <td>2</td>\n",
       "      <td>@username classy whore red velvet cupcake</td>\n",
       "      <td>not_cyberbullying</td>\n",
       "      <td>en</td>\n",
       "      <td>XochitlSuckkks</td>\n",
       "      <td>NaN</td>\n",
       "    </tr>\n",
       "    <tr>\n",
       "      <th>3</th>\n",
       "      <td>3</td>\n",
       "      <td>@username meh p thanks head concern angry dude...</td>\n",
       "      <td>not_cyberbullying</td>\n",
       "      <td>en</td>\n",
       "      <td>Jason_Gio</td>\n",
       "      <td>NaN</td>\n",
       "    </tr>\n",
       "    <tr>\n",
       "      <th>4</th>\n",
       "      <td>4</td>\n",
       "      <td>@username isi account pretend kurdish account ...</td>\n",
       "      <td>not_cyberbullying</td>\n",
       "      <td>en</td>\n",
       "      <td>RudhoeEnglish</td>\n",
       "      <td>NaN</td>\n",
       "    </tr>\n",
       "  </tbody>\n",
       "</table>\n",
       "</div>"
      ],
      "text/plain": [
       "   Unnamed: 0                                         tweet_text  \\\n",
       "0           0                             word food crapilicious   \n",
       "1           1                                              white   \n",
       "2           2          @username classy whore red velvet cupcake   \n",
       "3           3  @username meh p thanks head concern angry dude...   \n",
       "4           4  @username isi account pretend kurdish account ...   \n",
       "\n",
       "  cyberbullying_type lang mentioned_users  \\\n",
       "0  not_cyberbullying   en             NaN   \n",
       "1  not_cyberbullying   en             NaN   \n",
       "2  not_cyberbullying   en  XochitlSuckkks   \n",
       "3  not_cyberbullying   en       Jason_Gio   \n",
       "4  not_cyberbullying   en   RudhoeEnglish   \n",
       "\n",
       "                                            hashtags  \n",
       "0                                    katandandre mkr  \n",
       "1  aussietv MKR theblock ImACelebrityAU today sun...  \n",
       "2                                                NaN  \n",
       "3                                                NaN  \n",
       "4                                                NaN  "
      ]
     },
     "execution_count": 2,
     "metadata": {},
     "output_type": "execute_result"
    }
   ],
   "source": [
    "tweets = pd.read_csv(\"data/cleaned/nohashtag_cleaned_lemmatized_english.csv\")\n",
    "tweets.head()"
   ]
  },
  {
   "cell_type": "code",
   "execution_count": 3,
   "id": "64c42dca",
   "metadata": {},
   "outputs": [],
   "source": [
    "tweets = tweets.drop('Unnamed: 0', axis = 1)"
   ]
  },
  {
   "cell_type": "code",
   "execution_count": 4,
   "id": "51081a67",
   "metadata": {},
   "outputs": [
    {
     "data": {
      "text/plain": [
       "(44660, 5)"
      ]
     },
     "execution_count": 4,
     "metadata": {},
     "output_type": "execute_result"
    }
   ],
   "source": [
    "tweets.shape"
   ]
  },
  {
   "cell_type": "code",
   "execution_count": 5,
   "id": "238467ca",
   "metadata": {},
   "outputs": [
    {
     "data": {
      "text/plain": [
       "tweet_text               26\n",
       "cyberbullying_type        0\n",
       "lang                      0\n",
       "mentioned_users       28106\n",
       "hashtags              38160\n",
       "dtype: int64"
      ]
     },
     "execution_count": 5,
     "metadata": {},
     "output_type": "execute_result"
    }
   ],
   "source": [
    "tweets.isna().sum()"
   ]
  },
  {
   "cell_type": "code",
   "execution_count": 6,
   "id": "fd4571a4",
   "metadata": {},
   "outputs": [],
   "source": [
    "tweets['tweet_text'] = tweets['tweet_text'].fillna('<UNK>')\n",
    "tweets['tweet_text'] = tweets['tweet_text'].replace('nan', '<UNK>')\n",
    "tweets['hashtags'] = tweets['hashtags'].fillna('<NO_HASHTAG>')\n",
    "tweets['mentioned_users'] = tweets['mentioned_users'].fillna('<NO_mentioned_users>')"
   ]
  },
  {
   "cell_type": "code",
   "execution_count": 7,
   "id": "4479a4ac",
   "metadata": {},
   "outputs": [
    {
     "data": {
      "text/plain": [
       "tweet_text            0\n",
       "cyberbullying_type    0\n",
       "lang                  0\n",
       "mentioned_users       0\n",
       "hashtags              0\n",
       "dtype: int64"
      ]
     },
     "execution_count": 7,
     "metadata": {},
     "output_type": "execute_result"
    }
   ],
   "source": [
    "tweets.isna().sum()"
   ]
  },
  {
   "cell_type": "code",
   "execution_count": 8,
   "id": "70edba03",
   "metadata": {},
   "outputs": [
    {
     "data": {
      "text/plain": [
       "Index(['tweet_text', 'cyberbullying_type', 'lang', 'mentioned_users',\n",
       "       'hashtags'],\n",
       "      dtype='object')"
      ]
     },
     "execution_count": 8,
     "metadata": {},
     "output_type": "execute_result"
    }
   ],
   "source": [
    "tweets.columns"
   ]
  },
  {
   "cell_type": "code",
   "execution_count": 9,
   "id": "66d4a821",
   "metadata": {},
   "outputs": [
    {
     "data": {
      "text/plain": [
       "array(['not_cyberbullying', 'gender', 'religion', 'other_cyberbullying',\n",
       "       'age', 'ethnicity'], dtype=object)"
      ]
     },
     "execution_count": 9,
     "metadata": {},
     "output_type": "execute_result"
    }
   ],
   "source": [
    "tweets.cyberbullying_type.unique()"
   ]
  },
  {
   "cell_type": "code",
   "execution_count": 10,
   "id": "500baa8f",
   "metadata": {},
   "outputs": [],
   "source": [
    "tweets['cyberbullying_type'] = tweets['cyberbullying_type'].astype('category')"
   ]
  },
  {
   "cell_type": "code",
   "execution_count": 11,
   "id": "c3eb9d5b",
   "metadata": {},
   "outputs": [],
   "source": [
    "train_data, test_data = train_test_split(tweets, test_size = 0.2, random_state = 20)\n",
    "train_data, val_data = train_test_split(train_data, test_size = 0.25, random_state = 20)"
   ]
  },
  {
   "cell_type": "code",
   "execution_count": 12,
   "id": "d742cf86",
   "metadata": {},
   "outputs": [],
   "source": [
    "#label_to_int = {\n",
    "#    'not_cyberbullying': 0,\n",
    "#    'gender': 1,\n",
    "#    'religion': 2,\n",
    "#    'other_cyberbullying': 3,\n",
    "#    'age': 4,\n",
    "#    'ethnicity': 5\n",
    "#}\n",
    "\n",
    "label_to_int = {\"not_cyberbullying\":0,\n",
    "           \"religion\":1,\n",
    "           \"age\":2,\n",
    "           \"gender\":3,\n",
    "           \"ethnicity\":4,\n",
    "           \"other_cyberbullying\":5}\n",
    "\n",
    "class TweetDataset(Dataset):\n",
    "    def __init__(self, data, tokenizer, max_len = 128):\n",
    "        self.data = data\n",
    "        self.tokenizer = tokenizer\n",
    "        self.max_len = max_len\n",
    "    \n",
    "\n",
    "    def __len__(self):\n",
    "        return len(self.data)\n",
    "    \n",
    "    def __getitem__(self, idx):\n",
    "        input_text = self.data.iloc[idx]['tweet_text'] \n",
    "        label = label_to_int[self.data.iloc[idx]['cyberbullying_type']]\n",
    "        try:\n",
    "            encoding = self.tokenizer.encode_plus(input_text, max_length=self.max_len, padding='max_length', truncation=True, return_tensors='pt')\n",
    "        except Exception as e:\n",
    "            print(f\"Error at idx={idx}, input_text='{input_text}': {e}\")\n",
    "            raise e\n",
    "        return{\n",
    "            'input_ids': encoding['input_ids'].flatten(),\n",
    "            'attention_mask': encoding['attention_mask'].flatten(),\n",
    "            'label':torch.tensor(label, dtype=torch.long)\n",
    "        }\n",
    "\n",
    "tokenizer = BertTokenizer.from_pretrained('bert-base-uncased')\n",
    "train_dataset = TweetDataset(train_data, tokenizer)\n",
    "val_dataset = TweetDataset(val_data, tokenizer)\n",
    "test_dataset = TweetDataset(test_data, tokenizer)\n",
    "\n",
    "train_loader = DataLoader(train_dataset, batch_size=32, shuffle=True, drop_last=True)\n",
    "val_loader = DataLoader(val_dataset, batch_size=32, shuffle=False, drop_last=True)\n",
    "test_loader = DataLoader(test_dataset, batch_size=32, shuffle=False, drop_last=True)"
   ]
  },
  {
   "cell_type": "code",
   "execution_count": 13,
   "id": "1c692dc0",
   "metadata": {},
   "outputs": [],
   "source": [
    "class RNNClassifier(nn.Module):\n",
    "    def __init__(self, input_dim, embedding_dim, hidden_dim, output_dim, n_layers, bidirectional, dropout):\n",
    "        super().__init__()\n",
    "        \n",
    "        self.embedding = nn.Embedding(input_dim, embedding_dim)\n",
    "        #Used GRU as it is faster to train than LSTM and solves the vanishing gradient problem\n",
    "        self.rnn = nn.GRU(embedding_dim, hidden_dim, num_layers = n_layers, bidirectional=bidirectional, dropout = dropout, batch_first = True)\n",
    "        if bidirectional:\n",
    "            input_dim = hidden_dim * 2\n",
    "        else:\n",
    "            input_dim = hidden_dim\n",
    "        self.fc = nn.Linear(input_dim, output_dim)\n",
    "        self.dropout = nn.Dropout(dropout)\n",
    "    \n",
    "    def forward(self, x):\n",
    "        embedded = self.dropout(self.embedding(x))\n",
    "        #print(embedded)\n",
    "        output, hidden = self.rnn(embedded)\n",
    "        \n",
    "        if self.rnn.bidirectional:\n",
    "            hidden = torch.cat((hidden[-2, :, :], hidden[-1, :, :]), dim=1)\n",
    "        else:\n",
    "            hidden = hidden[-1, :, :]\n",
    "        logits = self.fc(hidden)\n",
    "        return logits.view(x.size(0), -1)\n",
    "        "
   ]
  },
  {
   "cell_type": "code",
   "execution_count": 14,
   "id": "0984d7c5",
   "metadata": {},
   "outputs": [],
   "source": [
    "#Hyperparameters:\n",
    "VOCAB_SIZE = len(tokenizer.vocab)\n",
    "EMBEDDING_DIM = 128\n",
    "HIDDEN_DIM = 256\n",
    "NUM_CLASSES = len(np.unique(tweets['cyberbullying_type']))\n",
    "N_LAYERS = 2\n",
    "BIDIRECTIONAL = True\n",
    "DROPOUT = 0.6\n",
    "#BATCH_SIZE = 32"
   ]
  },
  {
   "cell_type": "code",
   "execution_count": 15,
   "id": "51cc912e",
   "metadata": {},
   "outputs": [],
   "source": [
    "model = RNNClassifier(VOCAB_SIZE, EMBEDDING_DIM, HIDDEN_DIM, NUM_CLASSES, N_LAYERS, BIDIRECTIONAL, DROPOUT).to(device)\n",
    "\n",
    "optimizer = optim.Adam(model.parameters()) #Using Adam Optimizer\n",
    "criterion = nn.CrossEntropyLoss().to(device) #Using CrossEntropyLoss function\n",
    "\n",
    "\n",
    "def train(model, iterator, optimizer, criterion):\n",
    "    epoch_loss = 0\n",
    "    epoch_accuracy = 0\n",
    "    \n",
    "    #model.train()\n",
    "    \n",
    "    for batch in iterator:\n",
    "        optimizer.zero_grad() #Clears the gradients of all optimized model parameters before calculating the next backward pass\n",
    "        input_ids = batch['input_ids'].to(device)\n",
    "        #print(input_ids)\n",
    "        attention_mask = batch['attention_mask'].to(device)\n",
    "        labels = batch['label'].view(-1).to(device)\n",
    "        \n",
    "        with torch.cuda.amp.autocast():\n",
    "            predictions = model(input_ids)\n",
    "            loss = criterion(predictions, labels) \n",
    "        #print(predictions.argmax(1))\n",
    "        accuracy = (predictions.argmax(1) == labels).float().mean()\n",
    "        \n",
    "        loss.backward() #Computes the gradients of the loss with respect to model parameters \n",
    "        optimizer.step() #updates the parameters using the optimizer.\n",
    "        \n",
    "        epoch_loss += loss.item()\n",
    "        epoch_accuracy += accuracy.item()\n",
    "        \n",
    "    return epoch_loss / len(iterator), epoch_accuracy / len(iterator) #Calculates loss and accuracy across all batches in the epoch, and returns them as a tuple.\n",
    "    "
   ]
  },
  {
   "cell_type": "code",
   "execution_count": 16,
   "id": "e3b5a77d",
   "metadata": {},
   "outputs": [],
   "source": [
    "def evaluate(model, iterator,criterion):\n",
    "    epoch_loss = 0\n",
    "    epoch_accuracy = 0\n",
    "    \n",
    "    #model.eval()\n",
    "    \n",
    "    with torch.no_grad():\n",
    "        for batch in iterator:\n",
    "            input_ids = batch['input_ids'].to(device)\n",
    "            attention_mask = batch['attention_mask'].to(device)\n",
    "            labels = batch['label'].to(device)\n",
    "            \n",
    "            predictions = model(input_ids)\n",
    "        \n",
    "            loss = criterion(predictions, labels)\n",
    "            #print(loss.item())\n",
    "            accuracy = (predictions.argmax(1) == labels).float().mean()\n",
    "        \n",
    "            epoch_loss += loss.item()\n",
    "            #print(epoch_loss)\n",
    "            epoch_accuracy += accuracy.item()\n",
    "        \n",
    "    return epoch_loss / len(iterator), epoch_accuracy  / len(iterator)"
   ]
  },
  {
   "cell_type": "code",
   "execution_count": 17,
   "id": "77cfbac7",
   "metadata": {},
   "outputs": [],
   "source": [
    "def evaluate_matrix(model, iterator):\n",
    "    epoch_loss = 0\n",
    "    epoch_accuracy = 0\n",
    "    #prediction_list = []\n",
    "    #label_list = []\n",
    "    pred_vec = np.zeros((len(iterator), 32))\n",
    "    label_vec = np.zeros((len(iterator), 32))\n",
    "    \n",
    "    with torch.no_grad():\n",
    "        for i, batch in enumerate(iterator):\n",
    "            input_ids = batch['input_ids'].to(device)\n",
    "            attention_mask = batch['attention_mask'].to(device)\n",
    "            labels = batch['label'].numpy()\n",
    "            predictions = model(input_ids).argmax(1).cpu().numpy()\n",
    "            #print(predictions)\n",
    "            #print(i)\n",
    "            pred_vec[i] = predictions\n",
    "            label_vec[i] = labels\n",
    "        \n",
    "    return pred_vec, label_vec"
   ]
  },
  {
   "cell_type": "code",
   "execution_count": 18,
   "id": "c2614c65",
   "metadata": {},
   "outputs": [
    {
     "name": "stdout",
     "output_type": "stream",
     "text": [
      "----------------------------------------\n",
      "Epoch: 0\n",
      "Train Loss: 0.694 | Train Acc: 70.77%\n",
      "Test Loss: 0.569 | Test Acc: 76.37%\n",
      "----------------------------------------\n",
      "Epoch: 1\n",
      "Train Loss: 0.489 | Train Acc: 78.64%\n",
      "Test Loss: 0.497 | Test Acc: 78.63%\n",
      "----------------------------------------\n",
      "Epoch: 2\n",
      "Train Loss: 0.454 | Train Acc: 80.17%\n",
      "Test Loss: 0.480 | Test Acc: 78.28%\n",
      "----------------------------------------\n",
      "Epoch: 3\n",
      "Train Loss: 0.432 | Train Acc: 81.24%\n",
      "Test Loss: 0.475 | Test Acc: 79.84%\n",
      "----------------------------------------\n",
      "Epoch: 4\n",
      "Train Loss: 0.412 | Train Acc: 82.37%\n",
      "Test Loss: 0.470 | Test Acc: 79.21%\n",
      "----------------------------------------\n",
      "Epoch: 5\n",
      "Train Loss: 0.393 | Train Acc: 83.60%\n",
      "Test Loss: 0.467 | Test Acc: 81.08%\n",
      "----------------------------------------\n",
      "Epoch: 6\n",
      "Train Loss: 0.376 | Train Acc: 84.01%\n",
      "Test Loss: 0.456 | Test Acc: 81.10%\n",
      "----------------------------------------\n",
      "Epoch: 7\n",
      "Train Loss: 0.362 | Train Acc: 84.90%\n",
      "Test Loss: 0.482 | Test Acc: 80.89%\n",
      "----------------------------------------\n",
      "Epoch: 8\n",
      "Train Loss: 0.347 | Train Acc: 85.55%\n",
      "Test Loss: 0.474 | Test Acc: 80.59%\n",
      "----------------------------------------\n",
      "Epoch: 9\n",
      "Train Loss: 0.340 | Train Acc: 85.77%\n",
      "Test Loss: 0.482 | Test Acc: 80.39%\n",
      "----------------------------------------\n",
      "Epoch: 10\n",
      "Train Loss: 0.324 | Train Acc: 86.46%\n",
      "Test Loss: 0.514 | Test Acc: 80.67%\n",
      "----------------------------------------\n",
      "Epoch: 11\n",
      "Train Loss: 0.320 | Train Acc: 87.13%\n",
      "Test Loss: 0.471 | Test Acc: 81.06%\n",
      "----------------------------------------\n",
      "Epoch: 12\n",
      "Train Loss: 0.309 | Train Acc: 87.37%\n",
      "Test Loss: 0.473 | Test Acc: 81.55%\n",
      "----------------------------------------\n",
      "Epoch: 13\n",
      "Train Loss: 0.300 | Train Acc: 87.81%\n",
      "Test Loss: 0.473 | Test Acc: 81.59%\n",
      "----------------------------------------\n",
      "Epoch: 14\n",
      "Train Loss: 0.297 | Train Acc: 88.13%\n",
      "Test Loss: 0.478 | Test Acc: 81.33%\n",
      "----------------------------------------\n",
      "Epoch: 15\n",
      "Train Loss: 0.289 | Train Acc: 88.45%\n",
      "Test Loss: 0.521 | Test Acc: 79.95%\n",
      "----------------------------------------\n",
      "Epoch: 16\n",
      "Train Loss: 0.278 | Train Acc: 88.84%\n",
      "Test Loss: 0.508 | Test Acc: 80.87%\n",
      "----------------------------------------\n",
      "Epoch: 17\n",
      "Train Loss: 0.276 | Train Acc: 88.85%\n",
      "Test Loss: 0.503 | Test Acc: 81.22%\n",
      "----------------------------------------\n",
      "Epoch: 18\n",
      "Train Loss: 0.270 | Train Acc: 89.09%\n",
      "Test Loss: 0.514 | Test Acc: 81.14%\n",
      "----------------------------------------\n",
      "Epoch: 19\n",
      "Train Loss: 0.262 | Train Acc: 89.46%\n",
      "Test Loss: 0.525 | Test Acc: 81.15%\n"
     ]
    }
   ],
   "source": [
    "EPOCHS = 20\n",
    "\n",
    "total_training_loss = np.zeros(EPOCHS)\n",
    "total_training_acc = np.zeros(EPOCHS)\n",
    "\n",
    "total_testing_loss = np.zeros(EPOCHS)\n",
    "total_testing_acc = np.zeros(EPOCHS)\n",
    "\n",
    "for i, epoch in enumerate(range(EPOCHS)):\n",
    "    train_loss, train_acc = train(model, train_loader, optimizer, criterion)\n",
    "    test_loss, test_acc = evaluate(model, test_loader, criterion)\n",
    "    # Append loss to vector for graphing\n",
    "    total_training_loss[i] = train_loss\n",
    "    total_training_acc[i] = train_acc\n",
    "    total_testing_loss[i] = test_loss\n",
    "    total_testing_acc[i] = test_acc\n",
    "    \n",
    "    if epoch % 1 == 0:\n",
    "        print('----------------------------------------')\n",
    "        print(f'Epoch: {epoch}')\n",
    "        print(f'Train Loss: {train_loss:.3f} | Train Acc: {train_acc * 100:.2f}%')\n",
    "        print(f'Test Loss: {test_loss:.3f} | Test Acc: {test_acc * 100:.2f}%')"
   ]
  },
  {
   "cell_type": "code",
   "execution_count": 19,
   "id": "ed24797c",
   "metadata": {
    "scrolled": true
   },
   "outputs": [],
   "source": [
    "preds, labels = evaluate_matrix(model, test_loader)"
   ]
  },
  {
   "cell_type": "code",
   "execution_count": 20,
   "id": "0a2a584f",
   "metadata": {},
   "outputs": [],
   "source": [
    "preds = preds.flatten()\n",
    "labels = labels.flatten()"
   ]
  },
  {
   "cell_type": "code",
   "execution_count": 21,
   "id": "4c11911e",
   "metadata": {},
   "outputs": [
    {
     "name": "stdout",
     "output_type": "stream",
     "text": [
      "[[ 709   81   36  145    9  446]\n",
      " [  37 1427    0    9    2    3]\n",
      " [  15    0 1540    5    0   13]\n",
      " [  45    9    3 1168    5   52]\n",
      " [  23    9    4   10 1476   16]\n",
      " [ 534   23   18  154   19  883]] \n",
      "\n"
     ]
    },
    {
     "data": {
      "image/png": "[encoded data removed]",
      "text/plain": [
       "<Figure size 640x480 with 2 Axes>"
      ]
     },
     "metadata": {},
     "output_type": "display_data"
    }
   ],
   "source": [
    "cm = confusion_matrix(preds, labels)\n",
    "print(cm, '\\n')\n",
    "ax = sns.heatmap(cm)\n",
    "ax.set(xlabel=\"RNN Model Prediction\", ylabel=\"True Label\")\n",
    "ax.xaxis.tick_top()"
   ]
  },
  {
   "cell_type": "code",
   "execution_count": 22,
   "id": "c4fdb8a7",
   "metadata": {},
   "outputs": [
    {
     "data": {
      "image/png": "[encoded data removed]",
      "text/plain": [
       "<Figure size 640x480 with 1 Axes>"
      ]
     },
     "metadata": {},
     "output_type": "display_data"
    }
   ],
   "source": [
    "plt.plot(range(EPOCHS), total_training_loss)\n",
    "plt.plot(range(EPOCHS), total_testing_loss, color=\"orange\")\n",
    "plt.title(\"Training and Testing Loss by Epoch\")\n",
    "plt.xlabel(\"EPOCH\")\n",
    "plt.ylabel(\"Loss\")\n",
    "plt.show()"
   ]
  },
  {
   "cell_type": "code",
   "execution_count": null,
   "id": "5b76df0f",
   "metadata": {},
   "outputs": [],
   "source": [
    "plt.plot(range(EPOCHS), total_training_acc)\n",
    "plt.plot(range(EPOCHS), total_testing_acc, color=\"orange\")\n",
    "plt.title(\"Training and Testing Accuracy by Epoch\")\n",
    "plt.xlabel(\"EPOCH\")\n",
    "plt.ylabel(\"Accuracy\")\n",
    "plt.show()"
   ]
  }
 ],
 "metadata": {
  "kernelspec": {
   "display_name": "Python 3 (ipykernel)",
   "language": "python",
   "name": "python3"
  },
  "language_info": {
   "codemirror_mode": {
    "name": "ipython",
    "version": 3
   },
   "file_extension": ".py",
   "mimetype": "text/x-python",
   "name": "python",
   "nbconvert_exporter": "python",
   "pygments_lexer": "ipython3",
   "version": "3.9.15"
  }
 },
 "nbformat": 4,
 "nbformat_minor": 5
}
