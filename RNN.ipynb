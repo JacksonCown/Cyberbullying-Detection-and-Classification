{
 "cells": [
  {
   "cell_type": "code",
   "execution_count": 15,
   "id": "36065912",
   "metadata": {},
   "outputs": [],
   "source": [
    "import pandas as pd\n",
    "import numpy as np\n",
    "import matplotlib.pyplot as plt\n",
    "from sklearn.model_selection import train_test_split\n",
    "import torch\n",
    "import torch.nn as nn\n",
    "import torch.optim as optim\n",
    "import seaborn as sns\n",
    "from torch.utils.data import DataLoader, Dataset"
   ]
  },
  {
   "cell_type": "code",
   "execution_count": 4,
   "id": "c45c9b33",
   "metadata": {},
   "outputs": [
    {
     "data": {
      "text/html": [
       "<div>\n",
       "<style scoped>\n",
       "    .dataframe tbody tr th:only-of-type {\n",
       "        vertical-align: middle;\n",
       "    }\n",
       "\n",
       "    .dataframe tbody tr th {\n",
       "        vertical-align: top;\n",
       "    }\n",
       "\n",
       "    .dataframe thead th {\n",
       "        text-align: right;\n",
       "    }\n",
       "</style>\n",
       "<table border=\"1\" class=\"dataframe\">\n",
       "  <thead>\n",
       "    <tr style=\"text-align: right;\">\n",
       "      <th></th>\n",
       "      <th>tweet_text</th>\n",
       "      <th>cyberbullying_type</th>\n",
       "      <th>tweets</th>\n",
       "      <th>word_count</th>\n",
       "      <th>hashtags</th>\n",
       "    </tr>\n",
       "  </thead>\n",
       "  <tbody>\n",
       "    <tr>\n",
       "      <th>0</th>\n",
       "      <td>In other words #katandandre, your food was cra...</td>\n",
       "      <td>not_cyberbullying</td>\n",
       "      <td>words # katandandre , food crapilicious ! # mkr</td>\n",
       "      <td>9</td>\n",
       "      <td>[' katandandre', ' mkr']</td>\n",
       "    </tr>\n",
       "    <tr>\n",
       "      <th>1</th>\n",
       "      <td>Why is #aussietv so white? #MKR #theblock #ImA...</td>\n",
       "      <td>not_cyberbullying</td>\n",
       "      <td># aussietv white ? # MKR # theblock # ImACeleb...</td>\n",
       "      <td>22</td>\n",
       "      <td>[' aussietv', ' MKR', ' theblock', ' ImACelebr...</td>\n",
       "    </tr>\n",
       "    <tr>\n",
       "      <th>2</th>\n",
       "      <td>@user a classy whore? Or more red velvet cupca...</td>\n",
       "      <td>not_cyberbullying</td>\n",
       "      <td>@user classy whore ? red velvet cupcakes ?</td>\n",
       "      <td>8</td>\n",
       "      <td>[]</td>\n",
       "    </tr>\n",
       "    <tr>\n",
       "      <th>3</th>\n",
       "      <td>@user meh. :P  thanks for the heads up, but no...</td>\n",
       "      <td>not_cyberbullying</td>\n",
       "      <td>@user meh . :P   thanks heads , concerned angr...</td>\n",
       "      <td>12</td>\n",
       "      <td>[]</td>\n",
       "    </tr>\n",
       "    <tr>\n",
       "      <th>4</th>\n",
       "      <td>@user This is an ISIS account pretending to be...</td>\n",
       "      <td>not_cyberbullying</td>\n",
       "      <td>@user ISIS account pretending Kurdish account ...</td>\n",
       "      <td>12</td>\n",
       "      <td>[]</td>\n",
       "    </tr>\n",
       "  </tbody>\n",
       "</table>\n",
       "</div>"
      ],
      "text/plain": [
       "                                          tweet_text cyberbullying_type  \\\n",
       "0  In other words #katandandre, your food was cra...  not_cyberbullying   \n",
       "1  Why is #aussietv so white? #MKR #theblock #ImA...  not_cyberbullying   \n",
       "2  @user a classy whore? Or more red velvet cupca...  not_cyberbullying   \n",
       "3  @user meh. :P  thanks for the heads up, but no...  not_cyberbullying   \n",
       "4  @user This is an ISIS account pretending to be...  not_cyberbullying   \n",
       "\n",
       "                                              tweets  word_count  \\\n",
       "0    words # katandandre , food crapilicious ! # mkr           9   \n",
       "1  # aussietv white ? # MKR # theblock # ImACeleb...          22   \n",
       "2         @user classy whore ? red velvet cupcakes ?           8   \n",
       "3  @user meh . :P   thanks heads , concerned angr...          12   \n",
       "4  @user ISIS account pretending Kurdish account ...          12   \n",
       "\n",
       "                                            hashtags  \n",
       "0                           [' katandandre', ' mkr']  \n",
       "1  [' aussietv', ' MKR', ' theblock', ' ImACelebr...  \n",
       "2                                                 []  \n",
       "3                                                 []  \n",
       "4                                                 []  "
      ]
     },
     "execution_count": 4,
     "metadata": {},
     "output_type": "execute_result"
    }
   ],
   "source": [
    "english_tweets = pd.read_csv(\"english_tweets.csv\")\n",
    "english_tweets.head()"
   ]
  },
  {
   "cell_type": "code",
   "execution_count": 7,
   "id": "64c42dca",
   "metadata": {},
   "outputs": [
    {
     "data": {
      "text/plain": [
       "Index(['tweet_text', 'cyberbullying_type', 'tweets', 'word_count', 'hashtags'], dtype='object')"
      ]
     },
     "execution_count": 7,
     "metadata": {},
     "output_type": "execute_result"
    }
   ],
   "source": [
    "english_tweets.columns"
   ]
  },
  {
   "cell_type": "code",
   "execution_count": 9,
   "id": "66d4a821",
   "metadata": {},
   "outputs": [
    {
     "data": {
      "text/plain": [
       "array(['not_cyberbullying', 'gender', 'religion', 'other_cyberbullying',\n",
       "       'age', 'ethnicity'], dtype=object)"
      ]
     },
     "execution_count": 9,
     "metadata": {},
     "output_type": "execute_result"
    }
   ],
   "source": [
    "english_tweets.cyberbullying_type.unique()"
   ]
  },
  {
   "cell_type": "code",
   "execution_count": 11,
   "id": "500baa8f",
   "metadata": {},
   "outputs": [],
   "source": [
    "english_tweets['cyberbullying_type'] = english_tweets['cyberbullying_type'].astype('category')"
   ]
  },
  {
   "cell_type": "code",
   "execution_count": 14,
   "id": "c3eb9d5b",
   "metadata": {},
   "outputs": [],
   "source": [
    "train_data, test_data = train_test_split(english_tweets, test_size = 0.2, random_state = 20)\n",
    "train_data, val_data = train_test_split(train_data, test_size = 0.25, random_state = 20)"
   ]
  },
  {
   "cell_type": "code",
   "execution_count": null,
   "id": "d742cf86",
   "metadata": {},
   "outputs": [],
   "source": [
    "class TweetDataset(Dataset):\n",
    "    pass\n",
    "\n",
    "train_dataset = TweetDataset(train_data)\n",
    "val_dataset = TweetDataset(val_data)\n",
    "test_dataset = TweetDataset(test_data)\n",
    "\n",
    "train_loader = DataLoader(train_dataset, batch_size=32, shuffle=True)\n",
    "val_loader = DataLoader(val_dataset, batch_size=32, shuffle=False)\n",
    "test_loader = DataLoader(test_dataset, batch_size=32, shuffle=False)"
   ]
  },
  {
   "cell_type": "code",
   "execution_count": null,
   "id": "1c692dc0",
   "metadata": {},
   "outputs": [],
   "source": [
    "# Create the RNN model\n",
    "class RNNModel(nn.Module):\n",
    "    def __init__(self):\n",
    "        super(RNNModel, self).__init__()\n",
    "\n",
    "    def forward(self, x):\n",
    "        pass\n",
    "\n",
    "model = RNNModel()\n",
    "\n",
    "def train(model, train_loader, val_loader, num_epochs):\n",
    "    pass\n",
    "\n",
    "losses = train(model, train_loader, val_loader, num_epochs=10)\n",
    "\n",
    "\n",
    "def evaluate(model, test_loader):\n",
    "    pass\n",
    "\n"
   ]
  },
  {
   "cell_type": "code",
   "execution_count": null,
   "id": "3838cfe3",
   "metadata": {},
   "outputs": [],
   "source": [
    "accuracy, loss = evaluate(model, test_loader)\n",
    "print(f\"Test Accuracy: {accuracy:.2f}, Test Loss: {loss:.4f}\")\n",
    "\n",
    "\n",
    "sns.lineplot(x=range(1, len(losses) + 1), y=losses)"
   ]
  }
 ],
 "metadata": {
  "kernelspec": {
   "display_name": "Python 3 (ipykernel)",
   "language": "python",
   "name": "python3"
  },
  "language_info": {
   "codemirror_mode": {
    "name": "ipython",
    "version": 3
   },
   "file_extension": ".py",
   "mimetype": "text/x-python",
   "name": "python",
   "nbconvert_exporter": "python",
   "pygments_lexer": "ipython3",
   "version": "3.9.0"
  }
 },
 "nbformat": 4,
 "nbformat_minor": 5
}
