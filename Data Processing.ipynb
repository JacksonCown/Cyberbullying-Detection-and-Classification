{
 "cells": [
  {
   "cell_type": "markdown",
   "id": "a46f2fda",
   "metadata": {},
   "source": [
    "### Filtering and Mutating Dataset for Training"
   ]
  },
  {
   "cell_type": "code",
   "execution_count": 34,
   "id": "743a6aeb",
   "metadata": {},
   "outputs": [],
   "source": [
    "#!pip3 install langdetect"
   ]
  },
  {
   "cell_type": "code",
   "execution_count": 1,
   "id": "846d04cc",
   "metadata": {},
   "outputs": [],
   "source": [
    "import pandas as pd\n",
    "import re\n",
    "import numpy as np"
   ]
  },
  {
   "cell_type": "code",
   "execution_count": 2,
   "id": "b461aa74",
   "metadata": {},
   "outputs": [],
   "source": [
    "# Load Dataset\n",
    "#tweets = pd.read_csv(\"data/cyberbullying_tweets.csv\")\n",
    "english_tweets = pd.read_csv(\"data/english_tweets.csv\")\n",
    "non_english_tweets = pd.read_csv(\"data/non_english_tweets.csv\")\n",
    "#tweets.head(10)"
   ]
  },
  {
   "cell_type": "code",
   "execution_count": 4,
   "id": "27977f01",
   "metadata": {},
   "outputs": [
    {
     "name": "stdout",
     "output_type": "stream",
     "text": [
      "@XochitlSuckkks a classy whore? Or more red velvet cupcakes?\n",
      "not_cyberbullying\n"
     ]
    }
   ],
   "source": [
    "# Looking at one tweet\n",
    "prototweet = tweets.iloc[2]\n",
    "print(prototweet[\"tweet_text\"])\n",
    "print(prototweet[\"cyberbullying_type\"])"
   ]
  },
  {
   "cell_type": "code",
   "execution_count": 5,
   "id": "f5ac1988",
   "metadata": {},
   "outputs": [
    {
     "data": {
      "text/plain": [
       "array(['not_cyberbullying', 'gender', 'religion', 'other_cyberbullying',\n",
       "       'age', 'ethnicity'], dtype=object)"
      ]
     },
     "execution_count": 5,
     "metadata": {},
     "output_type": "execute_result"
    }
   ],
   "source": [
    "# Looking at types of Cyberbullying tweets\n",
    "tweets[\"cyberbullying_type\"].unique()"
   ]
  },
  {
   "cell_type": "code",
   "execution_count": 6,
   "id": "9470c074",
   "metadata": {},
   "outputs": [
    {
     "data": {
      "text/plain": [
       "(47692, 2)"
      ]
     },
     "execution_count": 6,
     "metadata": {},
     "output_type": "execute_result"
    }
   ],
   "source": [
    "tweets.shape #There are 47692 tweets currently"
   ]
  },
  {
   "cell_type": "code",
   "execution_count": 7,
   "id": "893078b5",
   "metadata": {},
   "outputs": [],
   "source": [
    "# Extracting single tweet to test on\n",
    "text = prototweet[\"tweet_text\"]\n",
    "text = text"
   ]
  },
  {
   "cell_type": "markdown",
   "id": "10a00869",
   "metadata": {},
   "source": [
    "#### Using Regular Expressions to Mutate Tweet Column\n",
    "\n",
    "Substituting all @'s with a generic @user token. Reduce data variability"
   ]
  },
  {
   "cell_type": "code",
   "execution_count": 8,
   "id": "111cec60",
   "metadata": {},
   "outputs": [
    {
     "name": "stdout",
     "output_type": "stream",
     "text": [
      "@user a classy whore? Or more red velvet cupcakes?\n"
     ]
    }
   ],
   "source": [
    "# Subbing usernames with regex\n",
    "text = re.sub(r'@\\w+', '@user', text)\n",
    "print(text)"
   ]
  },
  {
   "cell_type": "code",
   "execution_count": 9,
   "id": "80911e99",
   "metadata": {},
   "outputs": [],
   "source": [
    "# @user subbing function to apply to whole text column\n",
    "def sub_usernames(text):\n",
    "    return re.sub(r'@\\w+', '@user', text)"
   ]
  },
  {
   "cell_type": "code",
   "execution_count": 10,
   "id": "ba185c34",
   "metadata": {},
   "outputs": [
    {
     "data": {
      "text/html": [
       "<div>\n",
       "<style scoped>\n",
       "    .dataframe tbody tr th:only-of-type {\n",
       "        vertical-align: middle;\n",
       "    }\n",
       "\n",
       "    .dataframe tbody tr th {\n",
       "        vertical-align: top;\n",
       "    }\n",
       "\n",
       "    .dataframe thead th {\n",
       "        text-align: right;\n",
       "    }\n",
       "</style>\n",
       "<table border=\"1\" class=\"dataframe\">\n",
       "  <thead>\n",
       "    <tr style=\"text-align: right;\">\n",
       "      <th></th>\n",
       "      <th>tweet_text</th>\n",
       "      <th>cyberbullying_type</th>\n",
       "    </tr>\n",
       "  </thead>\n",
       "  <tbody>\n",
       "    <tr>\n",
       "      <th>0</th>\n",
       "      <td>In other words #katandandre, your food was cra...</td>\n",
       "      <td>not_cyberbullying</td>\n",
       "    </tr>\n",
       "    <tr>\n",
       "      <th>1</th>\n",
       "      <td>Why is #aussietv so white? #MKR #theblock #ImA...</td>\n",
       "      <td>not_cyberbullying</td>\n",
       "    </tr>\n",
       "    <tr>\n",
       "      <th>2</th>\n",
       "      <td>@user a classy whore? Or more red velvet cupca...</td>\n",
       "      <td>not_cyberbullying</td>\n",
       "    </tr>\n",
       "    <tr>\n",
       "      <th>3</th>\n",
       "      <td>@user meh. :P  thanks for the heads up, but no...</td>\n",
       "      <td>not_cyberbullying</td>\n",
       "    </tr>\n",
       "    <tr>\n",
       "      <th>4</th>\n",
       "      <td>@user This is an ISIS account pretending to be...</td>\n",
       "      <td>not_cyberbullying</td>\n",
       "    </tr>\n",
       "    <tr>\n",
       "      <th>5</th>\n",
       "      <td>@user @user Yes, the test of god is that good ...</td>\n",
       "      <td>not_cyberbullying</td>\n",
       "    </tr>\n",
       "    <tr>\n",
       "      <th>6</th>\n",
       "      <td>Itu sekolah ya bukan tempat bully! Ga jauh kay...</td>\n",
       "      <td>not_cyberbullying</td>\n",
       "    </tr>\n",
       "    <tr>\n",
       "      <th>7</th>\n",
       "      <td>Karma. I hope it bites Kat on the butt. She is...</td>\n",
       "      <td>not_cyberbullying</td>\n",
       "    </tr>\n",
       "    <tr>\n",
       "      <th>8</th>\n",
       "      <td>@user everything but mostly my priest</td>\n",
       "      <td>not_cyberbullying</td>\n",
       "    </tr>\n",
       "    <tr>\n",
       "      <th>9</th>\n",
       "      <td>Rebecca Black Drops Out of School Due to Bully...</td>\n",
       "      <td>not_cyberbullying</td>\n",
       "    </tr>\n",
       "  </tbody>\n",
       "</table>\n",
       "</div>"
      ],
      "text/plain": [
       "                                          tweet_text cyberbullying_type\n",
       "0  In other words #katandandre, your food was cra...  not_cyberbullying\n",
       "1  Why is #aussietv so white? #MKR #theblock #ImA...  not_cyberbullying\n",
       "2  @user a classy whore? Or more red velvet cupca...  not_cyberbullying\n",
       "3  @user meh. :P  thanks for the heads up, but no...  not_cyberbullying\n",
       "4  @user This is an ISIS account pretending to be...  not_cyberbullying\n",
       "5  @user @user Yes, the test of god is that good ...  not_cyberbullying\n",
       "6  Itu sekolah ya bukan tempat bully! Ga jauh kay...  not_cyberbullying\n",
       "7  Karma. I hope it bites Kat on the butt. She is...  not_cyberbullying\n",
       "8              @user everything but mostly my priest  not_cyberbullying\n",
       "9  Rebecca Black Drops Out of School Due to Bully...  not_cyberbullying"
      ]
     },
     "execution_count": 10,
     "metadata": {},
     "output_type": "execute_result"
    }
   ],
   "source": [
    "# Mutating text column\n",
    "tweets[\"tweet_text\"] = tweets[\"tweet_text\"].apply(sub_usernames)\n",
    "tweets.head(10)"
   ]
  },
  {
   "cell_type": "code",
   "execution_count": 27,
   "id": "81c5feee",
   "metadata": {},
   "outputs": [],
   "source": [
    "#Checking the language of the tweet\n",
    "from langdetect import detect\n",
    "\n",
    "def detect_tweet(tweets):\n",
    "    non_english_tweets = 0\n",
    "    total_tweets = len(tweets)\n",
    "    list_non_english = []\n",
    "\n",
    "    for i in range (total_tweets):\n",
    "        if (i % 1000 == 0):\n",
    "            print(f\"Stauts: {round((i/total_tweets) * 100, 2)}%\")\n",
    "        try:\n",
    "            lang = detect(tweets.iloc[i]['tweet_text'])\n",
    "            if lang != 'en':\n",
    "                non_english_tweets += 1\n",
    "                list_non_english.append(i)\n",
    "        except:\n",
    "            pass\n",
    "\n",
    "    print(f\"Total tweets: {total_tweets}\")\n",
    "    print(f\"Non-English tweets: {non_english_tweets}\")\n",
    "#print(f\"Row Numbers of Non-English tweets {list_non_english}\")"
   ]
  },
  {
   "cell_type": "code",
   "execution_count": 14,
   "id": "21776859",
   "metadata": {},
   "outputs": [
    {
     "name": "stdout",
     "output_type": "stream",
     "text": [
      "Non-English tweets have: 3115 tweets\n",
      "English tweets have: 44577 tweets\n"
     ]
    }
   ],
   "source": [
    "non_english_tweets = tweets.iloc[list_non_english]\n",
    "english_tweets = tweets.drop(tweets.index[list_non_english])\n",
    "\n",
    "print(f\"Non-English tweets have: {non_english_tweets.shape[0]} tweets\")\n",
    "print(f\"English tweets have: {english_tweets.shape[0]} tweets\")"
   ]
  },
  {
   "cell_type": "code",
   "execution_count": 17,
   "id": "ef3a6508",
   "metadata": {},
   "outputs": [],
   "source": [
    "english_tweets.to_csv('english_tweets.csv', index = False)\n",
    "non_english_tweets.to_csv('non_english_tweets.csv', index = False)"
   ]
  },
  {
   "cell_type": "markdown",
   "id": "63479ffd",
   "metadata": {},
   "source": [
    "### Lowercasing and Removing Stop Words"
   ]
  },
  {
   "cell_type": "code",
   "execution_count": 7,
   "id": "ef937027",
   "metadata": {},
   "outputs": [
    {
     "name": "stderr",
     "output_type": "stream",
     "text": [
      "/Library/Frameworks/Python.framework/Versions/3.9/lib/python3.9/site-packages/tqdm/auto.py:22: TqdmWarning: IProgress not found. Please update jupyter and ipywidgets. See https://ipywidgets.readthedocs.io/en/stable/user_install.html\n",
      "  from .autonotebook import tqdm as notebook_tqdm\n"
     ]
    }
   ],
   "source": [
    "import nltk\n",
    "import spacy #-- Spacy is generally faster than nltk\n"
   ]
  },
  {
   "cell_type": "code",
   "execution_count": 12,
   "id": "e3819a28",
   "metadata": {},
   "outputs": [],
   "source": [
    "import multiprocessing as mp"
   ]
  },
  {
   "cell_type": "code",
   "execution_count": 9,
   "id": "28073490",
   "metadata": {},
   "outputs": [],
   "source": [
    "nlp = spacy.load('en_core_web_md', disable =['ner', 'parser', 'textcat'])"
   ]
  },
  {
   "cell_type": "code",
   "execution_count": 16,
   "id": "60864bfe",
   "metadata": {},
   "outputs": [],
   "source": [
    "def remove_stopwords(text):\n",
    "    doc = nlp(text)\n",
    "    words = [token.text for token in doc if not token.is_stop]\n",
    "    return ' '.join(words)\n",
    "\n",
    "english_tweets['tweets'] = english_tweets[\"tweet_text\"].apply(remove_stopwords)\n",
    "#english_tweets.head(10)"
   ]
  },
  {
   "cell_type": "code",
   "execution_count": 19,
   "id": "0702bc7b",
   "metadata": {},
   "outputs": [],
   "source": []
  },
  {
   "cell_type": "code",
   "execution_count": 3,
   "id": "a016bbbe",
   "metadata": {},
   "outputs": [
    {
     "data": {
      "text/html": [
       "<div>\n",
       "<style scoped>\n",
       "    .dataframe tbody tr th:only-of-type {\n",
       "        vertical-align: middle;\n",
       "    }\n",
       "\n",
       "    .dataframe tbody tr th {\n",
       "        vertical-align: top;\n",
       "    }\n",
       "\n",
       "    .dataframe thead th {\n",
       "        text-align: right;\n",
       "    }\n",
       "</style>\n",
       "<table border=\"1\" class=\"dataframe\">\n",
       "  <thead>\n",
       "    <tr style=\"text-align: right;\">\n",
       "      <th></th>\n",
       "      <th>tweet_text</th>\n",
       "      <th>cyberbullying_type</th>\n",
       "      <th>tweets</th>\n",
       "    </tr>\n",
       "  </thead>\n",
       "  <tbody>\n",
       "    <tr>\n",
       "      <th>0</th>\n",
       "      <td>In other words #katandandre, your food was cra...</td>\n",
       "      <td>not_cyberbullying</td>\n",
       "      <td>words # katandandre , food crapilicious ! # mkr</td>\n",
       "    </tr>\n",
       "    <tr>\n",
       "      <th>1</th>\n",
       "      <td>Why is #aussietv so white? #MKR #theblock #ImA...</td>\n",
       "      <td>not_cyberbullying</td>\n",
       "      <td># aussietv white ? # MKR # theblock # ImACeleb...</td>\n",
       "    </tr>\n",
       "    <tr>\n",
       "      <th>2</th>\n",
       "      <td>@user a classy whore? Or more red velvet cupca...</td>\n",
       "      <td>not_cyberbullying</td>\n",
       "      <td>@user classy whore ? red velvet cupcakes ?</td>\n",
       "    </tr>\n",
       "    <tr>\n",
       "      <th>3</th>\n",
       "      <td>@user meh. :P  thanks for the heads up, but no...</td>\n",
       "      <td>not_cyberbullying</td>\n",
       "      <td>@user meh . :P   thanks heads , concerned angr...</td>\n",
       "    </tr>\n",
       "    <tr>\n",
       "      <th>4</th>\n",
       "      <td>@user This is an ISIS account pretending to be...</td>\n",
       "      <td>not_cyberbullying</td>\n",
       "      <td>@user ISIS account pretending Kurdish account ...</td>\n",
       "    </tr>\n",
       "    <tr>\n",
       "      <th>...</th>\n",
       "      <td>...</td>\n",
       "      <td>...</td>\n",
       "      <td>...</td>\n",
       "    </tr>\n",
       "    <tr>\n",
       "      <th>44572</th>\n",
       "      <td>Black ppl aren't expected to do anything, depe...</td>\n",
       "      <td>ethnicity</td>\n",
       "      <td>Black ppl expected , depended . free participa...</td>\n",
       "    </tr>\n",
       "    <tr>\n",
       "      <th>44573</th>\n",
       "      <td>Turner did not withhold his disappointment. Tu...</td>\n",
       "      <td>ethnicity</td>\n",
       "      <td>Turner withhold disappointment . Turner called...</td>\n",
       "    </tr>\n",
       "    <tr>\n",
       "      <th>44574</th>\n",
       "      <td>I swear to God. This dumb nigger bitch. I have...</td>\n",
       "      <td>ethnicity</td>\n",
       "      <td>swear God . dumb nigger bitch . got bleach hai...</td>\n",
       "    </tr>\n",
       "    <tr>\n",
       "      <th>44575</th>\n",
       "      <td>Yea fuck you RT @user: IF YOURE A NIGGER FUCKI...</td>\n",
       "      <td>ethnicity</td>\n",
       "      <td>Yea fuck RT @user : YOURE NIGGER FUCKING UNFOL...</td>\n",
       "    </tr>\n",
       "    <tr>\n",
       "      <th>44576</th>\n",
       "      <td>Bro. U gotta chill RT @user: Dog FUCK KP that ...</td>\n",
       "      <td>ethnicity</td>\n",
       "      <td>Bro . U got ta chill RT @user : Dog FUCK KP du...</td>\n",
       "    </tr>\n",
       "  </tbody>\n",
       "</table>\n",
       "<p>44577 rows × 3 columns</p>\n",
       "</div>"
      ],
      "text/plain": [
       "                                              tweet_text cyberbullying_type  \\\n",
       "0      In other words #katandandre, your food was cra...  not_cyberbullying   \n",
       "1      Why is #aussietv so white? #MKR #theblock #ImA...  not_cyberbullying   \n",
       "2      @user a classy whore? Or more red velvet cupca...  not_cyberbullying   \n",
       "3      @user meh. :P  thanks for the heads up, but no...  not_cyberbullying   \n",
       "4      @user This is an ISIS account pretending to be...  not_cyberbullying   \n",
       "...                                                  ...                ...   \n",
       "44572  Black ppl aren't expected to do anything, depe...          ethnicity   \n",
       "44573  Turner did not withhold his disappointment. Tu...          ethnicity   \n",
       "44574  I swear to God. This dumb nigger bitch. I have...          ethnicity   \n",
       "44575  Yea fuck you RT @user: IF YOURE A NIGGER FUCKI...          ethnicity   \n",
       "44576  Bro. U gotta chill RT @user: Dog FUCK KP that ...          ethnicity   \n",
       "\n",
       "                                                  tweets  \n",
       "0        words # katandandre , food crapilicious ! # mkr  \n",
       "1      # aussietv white ? # MKR # theblock # ImACeleb...  \n",
       "2             @user classy whore ? red velvet cupcakes ?  \n",
       "3      @user meh . :P   thanks heads , concerned angr...  \n",
       "4      @user ISIS account pretending Kurdish account ...  \n",
       "...                                                  ...  \n",
       "44572  Black ppl expected , depended . free participa...  \n",
       "44573  Turner withhold disappointment . Turner called...  \n",
       "44574  swear God . dumb nigger bitch . got bleach hai...  \n",
       "44575  Yea fuck RT @user : YOURE NIGGER FUCKING UNFOL...  \n",
       "44576  Bro . U got ta chill RT @user : Dog FUCK KP du...  \n",
       "\n",
       "[44577 rows x 3 columns]"
      ]
     },
     "execution_count": 3,
     "metadata": {},
     "output_type": "execute_result"
    }
   ],
   "source": [
    "english_tweets"
   ]
  },
  {
   "cell_type": "code",
   "execution_count": 4,
   "id": "41a8300b",
   "metadata": {},
   "outputs": [],
   "source": [
    "english_tweets['word_count'] = english_tweets['tweets'].apply(lambda x: len(str(x).split()))"
   ]
  },
  {
   "cell_type": "code",
   "execution_count": 12,
   "id": "13c91fbd",
   "metadata": {},
   "outputs": [],
   "source": [
    "def extract_hashtags(text):\n",
    "    if isinstance(text, str):\n",
    "        hashtags = re.findall(r'#\\s*\\w+', text)\n",
    "        return [tag.strip('#') for tag in hashtags]\n",
    "    else:\n",
    "        return []\n",
    "\n",
    "english_tweets['hashtags'] = english_tweets['tweets'].apply(lambda x: extract_hashtags(x))"
   ]
  },
  {
   "cell_type": "code",
   "execution_count": 22,
   "id": "eb2ec482",
   "metadata": {},
   "outputs": [],
   "source": [
    "english_tweets.to_csv('english_tweets.csv', index = False)"
   ]
  },
  {
   "cell_type": "code",
   "execution_count": null,
   "id": "6bb9c459",
   "metadata": {},
   "outputs": [],
   "source": []
  }
 ],
 "metadata": {
  "kernelspec": {
   "display_name": "Python 3 (ipykernel)",
   "language": "python",
   "name": "python3"
  },
  "language_info": {
   "codemirror_mode": {
    "name": "ipython",
    "version": 3
   },
   "file_extension": ".py",
   "mimetype": "text/x-python",
   "name": "python",
   "nbconvert_exporter": "python",
   "pygments_lexer": "ipython3",
   "version": "3.9.0"
  }
 },
 "nbformat": 4,
 "nbformat_minor": 5
}
